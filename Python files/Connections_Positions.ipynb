{
 "cells": [
  {
   "cell_type": "code",
   "execution_count": 6,
   "metadata": {},
   "outputs": [],
   "source": [
    "import csv\n",
    "import itertools\n",
    "import pandas as pd\n",
    "import numpy as np\n",
    "from math import log, e\n",
    "import random"
   ]
  },
  {
   "cell_type": "code",
   "execution_count": 5,
   "metadata": {},
   "outputs": [
    {
     "name": "stderr",
     "output_type": "stream",
     "text": [
      "Methods.ipynb:5: SettingWithCopyWarning: \n",
      "A value is trying to be set on a copy of a slice from a DataFrame\n",
      "\n",
      "See the caveats in the documentation: https://pandas.pydata.org/pandas-docs/stable/user_guide/indexing.html#returning-a-view-versus-a-copy\n",
      "  \"execution_count\": 77,\n"
     ]
    }
   ],
   "source": [
    "# Add Methods notebook to this notebook\n",
    "%run Methods.ipynb"
   ]
  },
  {
   "cell_type": "code",
   "execution_count": 159,
   "metadata": {},
   "outputs": [
    {
     "data": {
      "text/plain": [
       "2.1469940658762883"
      ]
     },
     "execution_count": 159,
     "metadata": {},
     "output_type": "execute_result"
    }
   ],
   "source": [
    "differenceNeighbourDist()"
   ]
  },
  {
   "cell_type": "code",
   "execution_count": 160,
   "metadata": {},
   "outputs": [
    {
     "data": {
      "text/plain": [
       "50.44033027100041"
      ]
     },
     "execution_count": 160,
     "metadata": {},
     "output_type": "execute_result"
    }
   ],
   "source": [
    "distNeighbours()"
   ]
  },
  {
   "cell_type": "markdown",
   "metadata": {},
   "source": [
    "# Greedy"
   ]
  },
  {
   "cell_type": "code",
   "execution_count": 7,
   "metadata": {},
   "outputs": [],
   "source": [
    "# Iter Greedy algorithm\n",
    "\n",
    "routingMap_nodesG = []\n",
    "routingMap_distG = []\n",
    "\n",
    "greedyIter(83, routingMap_distG, routingMap_nodesG)"
   ]
  },
  {
   "cell_type": "code",
   "execution_count": null,
   "metadata": {},
   "outputs": [],
   "source": [
    "# Calculate entropy for each path\n",
    "\n",
    "nodes_entropyG = []\n",
    "dist_entropyG = []\n",
    "\n",
    "for i in range(len(routingMap_nodesG)):\n",
    "    nodes_entropyG.append(entropy(routingMap_nodesG[i]))\n",
    "    dist_entropyG.append(entropy(routingMap_distG[i]))"
   ]
  },
  {
   "cell_type": "code",
   "execution_count": null,
   "metadata": {},
   "outputs": [],
   "source": [
    "# Average entropy\n",
    "\n",
    "sum_entG = 0\n",
    "for i in range(6806):\n",
    "    # sum_entG += dist_entropyG[i]\n",
    "    sum_entG += nodes_entropyG[i]\n",
    "    \n",
    "avr_entG = sum_entG / 6806\n",
    "avr_entG"
   ]
  },
  {
   "cell_type": "markdown",
   "metadata": {},
   "source": [
    "# Dijkstra"
   ]
  },
  {
   "cell_type": "code",
   "execution_count": null,
   "metadata": {},
   "outputs": [],
   "source": [
    "# Iter Dijsktra algorithm\n",
    "\n",
    "routingMap_nodesD = []\n",
    "routingMap_distD = []\n",
    "\n",
    "dijkstraIter(83, routingMap_distD, routingMap_nodesD)"
   ]
  },
  {
   "cell_type": "code",
   "execution_count": null,
   "metadata": {},
   "outputs": [],
   "source": [
    "# Calculate entropy for each path\n",
    "\n",
    "nodes_entropyD = []\n",
    "dist_entropyD = []\n",
    "\n",
    "for i in range(len(routingMap_nodesD)):\n",
    "    nodes_entropyD.append(entropy(routingMap_nodesD[i]))\n",
    "    dist_entropyD.append(entropy(routingMap_distD[i]))"
   ]
  },
  {
   "cell_type": "code",
   "execution_count": null,
   "metadata": {},
   "outputs": [],
   "source": [
    "# Average entropy\n",
    "\n",
    "sum_entD = 0\n",
    "for i in range(6806):\n",
    "    # sum_entD += dist_entropyD[i]\n",
    "    sum_entD += nodes_entropyD[i]\n",
    "    \n",
    "avr_entD = sum_entD / 6806\n",
    "avr_entD"
   ]
  },
  {
   "cell_type": "markdown",
   "metadata": {},
   "source": [
    "# Rand"
   ]
  },
  {
   "cell_type": "code",
   "execution_count": null,
   "metadata": {
    "scrolled": true
   },
   "outputs": [],
   "source": [
    "'''# Iter Rand algorithm\n",
    "entropyRand = []\n",
    "\n",
    "for i in range(100):\n",
    "    print(i)\n",
    "    tmpNode = []\n",
    "    tmpDist = []\n",
    "    randIter(83, tmpDist, tmpNode)\n",
    "    if entropyRand == []:\n",
    "        for j in tmpDist:\n",
    "            entropyRand.append(entropy(j))\n",
    "    else:\n",
    "        for j in range(len(tmpDist)):\n",
    "            entropyRand[j] += entropy(tmpDist[j])'''"
   ]
  },
  {
   "cell_type": "markdown",
   "metadata": {},
   "source": [
    "# Random with boundaries"
   ]
  },
  {
   "cell_type": "code",
   "execution_count": 3,
   "metadata": {},
   "outputs": [
    {
     "data": {
      "text/plain": [
       "'entropyRand = []\\n\\nfor i in range(100):\\n    print(i)\\n    tmpNode = []\\n    tmpDist = []\\n    randBoundaryIter(83, tmpDist, tmpNode, 5)\\n    if entropyRand == []:\\n        for j in tmpDist:\\n            entropyRand.append(entropy(j))\\n    else:\\n        for j in range(len(tmpDist)):\\n            entropyRand[j] += entropy(tmpDist[j])'"
      ]
     },
     "execution_count": 3,
     "metadata": {},
     "output_type": "execute_result"
    }
   ],
   "source": [
    "# Iter Rand with boundary algorithm\n",
    "# Iterate the algorithm 100 times\n",
    "'''entropyRand = []\n",
    "\n",
    "for i in range(100):\n",
    "    print(i)\n",
    "    tmpNode = []\n",
    "    tmpDist = []\n",
    "    randBoundaryIter(83, tmpDist, tmpNode, 5)\n",
    "    if entropyRand == []:\n",
    "        for j in tmpDist:\n",
    "            entropyRand.append(entropy(j))\n",
    "    else:\n",
    "        for j in range(len(tmpDist)):\n",
    "            entropyRand[j] += entropy(tmpDist[j])'''"
   ]
  },
  {
   "cell_type": "code",
   "execution_count": 2,
   "metadata": {},
   "outputs": [],
   "source": [
    "# printOut('entDistBoundary5', entropyRand)\n",
    "# printOut('entDistNewDivided', entropyRand)"
   ]
  },
  {
   "cell_type": "markdown",
   "metadata": {},
   "source": [
    " # Print out"
   ]
  },
  {
   "cell_type": "code",
   "execution_count": null,
   "metadata": {},
   "outputs": [],
   "source": [
    "'''with open('alg2nodes.csv', 'w', newline='') as csv_1:\n",
    "  csv_out = csv.writer(csv_1)\n",
    "  csv_out.writerows([routing_map_nodes2[index]] for index in range(0, len(routing_map_nodes2)))\n",
    "    \n",
    "with open('alg2dist.csv', 'w', newline='') as csv_1:\n",
    "  csv_out = csv.writer(csv_1)\n",
    "  csv_out.writerows([routing_map_dist2[index]] for index in range(0, len(routing_map_dist2)))\n",
    "    \n",
    "with open('alg3nodes.csv', 'w', newline='') as csv_1:\n",
    "  csv_out = csv.writer(csv_1)\n",
    "  csv_out.writerows([routing_map_nodes3[index]] for index in range(0, len(routing_map_nodes3)))\n",
    "    \n",
    "with open('alg3dist.csv', 'w', newline='') as csv_1:\n",
    "  csv_out = csv.writer(csv_1)\n",
    "  csv_out.writerows([routing_map_dist3[index]] for index in range(0, len(routing_map_dist3)))\n",
    "    \n",
    "with open('ent2nodes.csv', 'w', newline='') as csv_1:\n",
    "  csv_out = csv.writer(csv_1)\n",
    "  csv_out.writerows([nodes_entropy2[index]] for index in range(0, len(nodes_entropy2)))\n",
    "    \n",
    "with open('ent2dist.csv', 'w', newline='') as csv_1:\n",
    "  csv_out = csv.writer(csv_1)\n",
    "  csv_out.writerows([dist_entropy2[index]] for index in range(0, len(dist_entropy2)))\n",
    "    \n",
    "with open('ent3nodes.csv', 'w', newline='') as csv_1:\n",
    "  csv_out = csv.writer(csv_1)\n",
    "  csv_out.writerows([nodes_entropy3[index]] for index in range(0, len(nodes_entropy3)))\n",
    "    \n",
    "with open('ent3dist.csv', 'w', newline='') as csv_1:\n",
    "  csv_out = csv.writer(csv_1)\n",
    "  csv_out.writerows([dist_entropy3[index]] for index in range(0, len(dist_entropy3)))'''"
   ]
  }
 ],
 "metadata": {
  "kernelspec": {
   "display_name": "Python 3",
   "language": "python",
   "name": "python3"
  },
  "language_info": {
   "codemirror_mode": {
    "name": "ipython",
    "version": 3
   },
   "file_extension": ".py",
   "mimetype": "text/x-python",
   "name": "python",
   "nbconvert_exporter": "python",
   "pygments_lexer": "ipython3",
   "version": "3.7.6"
  }
 },
 "nbformat": 4,
 "nbformat_minor": 4
}
