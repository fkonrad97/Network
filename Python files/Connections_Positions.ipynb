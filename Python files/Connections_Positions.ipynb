{
 "cells": [
  {
   "cell_type": "code",
   "execution_count": 1,
   "metadata": {},
   "outputs": [],
   "source": [
    "import csv\n",
    "import itertools\n",
    "import pandas as pd\n",
    "import numpy as np\n",
    "from math import log, e"
   ]
  },
  {
   "cell_type": "code",
   "execution_count": 2,
   "metadata": {},
   "outputs": [],
   "source": [
    "# Connection table between nodes\n",
    "connections = pd.read_csv(\"Brain1Connections.csv\", header=None)"
   ]
  },
  {
   "cell_type": "code",
   "execution_count": 3,
   "metadata": {},
   "outputs": [
    {
     "name": "stderr",
     "output_type": "stream",
     "text": [
      "C:\\Users\\fkonr\\anaconda3\\lib\\site-packages\\ipykernel_launcher.py:3: SettingWithCopyWarning: \n",
      "A value is trying to be set on a copy of a slice from a DataFrame\n",
      "\n",
      "See the caveats in the documentation: https://pandas.pydata.org/pandas-docs/stable/user_guide/indexing.html#returning-a-view-versus-a-copy\n",
      "  This is separate from the ipykernel package so we can avoid doing imports until\n"
     ]
    }
   ],
   "source": [
    "# Positions of nodes (X,Y,Z)\n",
    "positions = pd.read_csv(\"Brain1Positions.csv\", header=None, sep=\";\")\n",
    "positions[0][0] = positions[0][0][:-1]"
   ]
  },
  {
   "cell_type": "code",
   "execution_count": 4,
   "metadata": {},
   "outputs": [],
   "source": [
    "# Convert data to numerical value\n",
    "positions[0] = positions[0].astype(float)"
   ]
  },
  {
   "cell_type": "code",
   "execution_count": 5,
   "metadata": {},
   "outputs": [
    {
     "data": {
      "text/html": [
       "<div>\n",
       "<style scoped>\n",
       "    .dataframe tbody tr th:only-of-type {\n",
       "        vertical-align: middle;\n",
       "    }\n",
       "\n",
       "    .dataframe tbody tr th {\n",
       "        vertical-align: top;\n",
       "    }\n",
       "\n",
       "    .dataframe thead th {\n",
       "        text-align: right;\n",
       "    }\n",
       "</style>\n",
       "<table border=\"1\" class=\"dataframe\">\n",
       "  <thead>\n",
       "    <tr style=\"text-align: right;\">\n",
       "      <th></th>\n",
       "      <th>0</th>\n",
       "      <th>1</th>\n",
       "      <th>2</th>\n",
       "    </tr>\n",
       "  </thead>\n",
       "  <tbody>\n",
       "    <tr>\n",
       "      <th>0</th>\n",
       "      <td>86.828723</td>\n",
       "      <td>55.964199</td>\n",
       "      <td>26.615948</td>\n",
       "    </tr>\n",
       "    <tr>\n",
       "      <th>1</th>\n",
       "      <td>68.934166</td>\n",
       "      <td>51.139614</td>\n",
       "      <td>32.673099</td>\n",
       "    </tr>\n",
       "    <tr>\n",
       "      <th>2</th>\n",
       "      <td>99.234568</td>\n",
       "      <td>29.370370</td>\n",
       "      <td>38.259259</td>\n",
       "    </tr>\n",
       "    <tr>\n",
       "      <th>3</th>\n",
       "      <td>101.797312</td>\n",
       "      <td>49.265398</td>\n",
       "      <td>28.711646</td>\n",
       "    </tr>\n",
       "    <tr>\n",
       "      <th>4</th>\n",
       "      <td>65.881081</td>\n",
       "      <td>61.874595</td>\n",
       "      <td>43.203784</td>\n",
       "    </tr>\n",
       "    <tr>\n",
       "      <th>...</th>\n",
       "      <td>...</td>\n",
       "      <td>...</td>\n",
       "      <td>...</td>\n",
       "    </tr>\n",
       "    <tr>\n",
       "      <th>78</th>\n",
       "      <td>125.030392</td>\n",
       "      <td>96.151471</td>\n",
       "      <td>28.293137</td>\n",
       "    </tr>\n",
       "    <tr>\n",
       "      <th>79</th>\n",
       "      <td>114.409524</td>\n",
       "      <td>80.682993</td>\n",
       "      <td>26.676190</td>\n",
       "    </tr>\n",
       "    <tr>\n",
       "      <th>80</th>\n",
       "      <td>130.959165</td>\n",
       "      <td>111.471842</td>\n",
       "      <td>12.879515</td>\n",
       "    </tr>\n",
       "    <tr>\n",
       "      <th>81</th>\n",
       "      <td>128.398802</td>\n",
       "      <td>94.169108</td>\n",
       "      <td>12.902796</td>\n",
       "    </tr>\n",
       "    <tr>\n",
       "      <th>82</th>\n",
       "      <td>107.132165</td>\n",
       "      <td>116.364936</td>\n",
       "      <td>8.681591</td>\n",
       "    </tr>\n",
       "  </tbody>\n",
       "</table>\n",
       "<p>83 rows × 3 columns</p>\n",
       "</div>"
      ],
      "text/plain": [
       "             0           1          2\n",
       "0    86.828723   55.964199  26.615948\n",
       "1    68.934166   51.139614  32.673099\n",
       "2    99.234568   29.370370  38.259259\n",
       "3   101.797312   49.265398  28.711646\n",
       "4    65.881081   61.874595  43.203784\n",
       "..         ...         ...        ...\n",
       "78  125.030392   96.151471  28.293137\n",
       "79  114.409524   80.682993  26.676190\n",
       "80  130.959165  111.471842  12.879515\n",
       "81  128.398802   94.169108  12.902796\n",
       "82  107.132165  116.364936   8.681591\n",
       "\n",
       "[83 rows x 3 columns]"
      ]
     },
     "execution_count": 5,
     "metadata": {},
     "output_type": "execute_result"
    }
   ],
   "source": [
    "positions"
   ]
  },
  {
   "cell_type": "code",
   "execution_count": 6,
   "metadata": {},
   "outputs": [
    {
     "data": {
      "text/html": [
       "<div>\n",
       "<style scoped>\n",
       "    .dataframe tbody tr th:only-of-type {\n",
       "        vertical-align: middle;\n",
       "    }\n",
       "\n",
       "    .dataframe tbody tr th {\n",
       "        vertical-align: top;\n",
       "    }\n",
       "\n",
       "    .dataframe thead th {\n",
       "        text-align: right;\n",
       "    }\n",
       "</style>\n",
       "<table border=\"1\" class=\"dataframe\">\n",
       "  <thead>\n",
       "    <tr style=\"text-align: right;\">\n",
       "      <th></th>\n",
       "      <th>0</th>\n",
       "      <th>1</th>\n",
       "      <th>2</th>\n",
       "      <th>3</th>\n",
       "      <th>4</th>\n",
       "      <th>5</th>\n",
       "      <th>6</th>\n",
       "      <th>7</th>\n",
       "      <th>8</th>\n",
       "      <th>9</th>\n",
       "      <th>...</th>\n",
       "      <th>73</th>\n",
       "      <th>74</th>\n",
       "      <th>75</th>\n",
       "      <th>76</th>\n",
       "      <th>77</th>\n",
       "      <th>78</th>\n",
       "      <th>79</th>\n",
       "      <th>80</th>\n",
       "      <th>81</th>\n",
       "      <th>82</th>\n",
       "    </tr>\n",
       "  </thead>\n",
       "  <tbody>\n",
       "    <tr>\n",
       "      <th>0</th>\n",
       "      <td>0</td>\n",
       "      <td>1</td>\n",
       "      <td>1</td>\n",
       "      <td>1</td>\n",
       "      <td>1</td>\n",
       "      <td>1</td>\n",
       "      <td>1</td>\n",
       "      <td>1</td>\n",
       "      <td>1</td>\n",
       "      <td>0</td>\n",
       "      <td>...</td>\n",
       "      <td>0</td>\n",
       "      <td>0</td>\n",
       "      <td>0</td>\n",
       "      <td>0</td>\n",
       "      <td>0</td>\n",
       "      <td>0</td>\n",
       "      <td>0</td>\n",
       "      <td>0</td>\n",
       "      <td>0</td>\n",
       "      <td>1</td>\n",
       "    </tr>\n",
       "    <tr>\n",
       "      <th>1</th>\n",
       "      <td>1</td>\n",
       "      <td>0</td>\n",
       "      <td>0</td>\n",
       "      <td>0</td>\n",
       "      <td>1</td>\n",
       "      <td>1</td>\n",
       "      <td>1</td>\n",
       "      <td>1</td>\n",
       "      <td>0</td>\n",
       "      <td>0</td>\n",
       "      <td>...</td>\n",
       "      <td>0</td>\n",
       "      <td>0</td>\n",
       "      <td>0</td>\n",
       "      <td>0</td>\n",
       "      <td>0</td>\n",
       "      <td>0</td>\n",
       "      <td>0</td>\n",
       "      <td>0</td>\n",
       "      <td>0</td>\n",
       "      <td>1</td>\n",
       "    </tr>\n",
       "    <tr>\n",
       "      <th>2</th>\n",
       "      <td>1</td>\n",
       "      <td>0</td>\n",
       "      <td>0</td>\n",
       "      <td>1</td>\n",
       "      <td>0</td>\n",
       "      <td>0</td>\n",
       "      <td>1</td>\n",
       "      <td>1</td>\n",
       "      <td>0</td>\n",
       "      <td>0</td>\n",
       "      <td>...</td>\n",
       "      <td>0</td>\n",
       "      <td>0</td>\n",
       "      <td>0</td>\n",
       "      <td>0</td>\n",
       "      <td>0</td>\n",
       "      <td>0</td>\n",
       "      <td>0</td>\n",
       "      <td>0</td>\n",
       "      <td>0</td>\n",
       "      <td>0</td>\n",
       "    </tr>\n",
       "    <tr>\n",
       "      <th>3</th>\n",
       "      <td>1</td>\n",
       "      <td>0</td>\n",
       "      <td>1</td>\n",
       "      <td>0</td>\n",
       "      <td>0</td>\n",
       "      <td>0</td>\n",
       "      <td>1</td>\n",
       "      <td>1</td>\n",
       "      <td>0</td>\n",
       "      <td>0</td>\n",
       "      <td>...</td>\n",
       "      <td>0</td>\n",
       "      <td>0</td>\n",
       "      <td>0</td>\n",
       "      <td>1</td>\n",
       "      <td>0</td>\n",
       "      <td>0</td>\n",
       "      <td>1</td>\n",
       "      <td>0</td>\n",
       "      <td>0</td>\n",
       "      <td>0</td>\n",
       "    </tr>\n",
       "    <tr>\n",
       "      <th>4</th>\n",
       "      <td>1</td>\n",
       "      <td>1</td>\n",
       "      <td>0</td>\n",
       "      <td>0</td>\n",
       "      <td>0</td>\n",
       "      <td>1</td>\n",
       "      <td>1</td>\n",
       "      <td>1</td>\n",
       "      <td>1</td>\n",
       "      <td>0</td>\n",
       "      <td>...</td>\n",
       "      <td>0</td>\n",
       "      <td>0</td>\n",
       "      <td>0</td>\n",
       "      <td>0</td>\n",
       "      <td>0</td>\n",
       "      <td>0</td>\n",
       "      <td>0</td>\n",
       "      <td>0</td>\n",
       "      <td>0</td>\n",
       "      <td>1</td>\n",
       "    </tr>\n",
       "    <tr>\n",
       "      <th>...</th>\n",
       "      <td>...</td>\n",
       "      <td>...</td>\n",
       "      <td>...</td>\n",
       "      <td>...</td>\n",
       "      <td>...</td>\n",
       "      <td>...</td>\n",
       "      <td>...</td>\n",
       "      <td>...</td>\n",
       "      <td>...</td>\n",
       "      <td>...</td>\n",
       "      <td>...</td>\n",
       "      <td>...</td>\n",
       "      <td>...</td>\n",
       "      <td>...</td>\n",
       "      <td>...</td>\n",
       "      <td>...</td>\n",
       "      <td>...</td>\n",
       "      <td>...</td>\n",
       "      <td>...</td>\n",
       "      <td>...</td>\n",
       "      <td>...</td>\n",
       "    </tr>\n",
       "    <tr>\n",
       "      <th>78</th>\n",
       "      <td>0</td>\n",
       "      <td>0</td>\n",
       "      <td>0</td>\n",
       "      <td>0</td>\n",
       "      <td>0</td>\n",
       "      <td>0</td>\n",
       "      <td>1</td>\n",
       "      <td>0</td>\n",
       "      <td>0</td>\n",
       "      <td>1</td>\n",
       "      <td>...</td>\n",
       "      <td>1</td>\n",
       "      <td>1</td>\n",
       "      <td>1</td>\n",
       "      <td>1</td>\n",
       "      <td>1</td>\n",
       "      <td>0</td>\n",
       "      <td>1</td>\n",
       "      <td>1</td>\n",
       "      <td>1</td>\n",
       "      <td>1</td>\n",
       "    </tr>\n",
       "    <tr>\n",
       "      <th>79</th>\n",
       "      <td>0</td>\n",
       "      <td>0</td>\n",
       "      <td>0</td>\n",
       "      <td>1</td>\n",
       "      <td>0</td>\n",
       "      <td>0</td>\n",
       "      <td>0</td>\n",
       "      <td>1</td>\n",
       "      <td>0</td>\n",
       "      <td>0</td>\n",
       "      <td>...</td>\n",
       "      <td>0</td>\n",
       "      <td>0</td>\n",
       "      <td>1</td>\n",
       "      <td>1</td>\n",
       "      <td>1</td>\n",
       "      <td>1</td>\n",
       "      <td>0</td>\n",
       "      <td>1</td>\n",
       "      <td>1</td>\n",
       "      <td>1</td>\n",
       "    </tr>\n",
       "    <tr>\n",
       "      <th>80</th>\n",
       "      <td>0</td>\n",
       "      <td>0</td>\n",
       "      <td>0</td>\n",
       "      <td>0</td>\n",
       "      <td>0</td>\n",
       "      <td>0</td>\n",
       "      <td>0</td>\n",
       "      <td>0</td>\n",
       "      <td>0</td>\n",
       "      <td>0</td>\n",
       "      <td>...</td>\n",
       "      <td>0</td>\n",
       "      <td>1</td>\n",
       "      <td>1</td>\n",
       "      <td>1</td>\n",
       "      <td>1</td>\n",
       "      <td>1</td>\n",
       "      <td>1</td>\n",
       "      <td>0</td>\n",
       "      <td>1</td>\n",
       "      <td>1</td>\n",
       "    </tr>\n",
       "    <tr>\n",
       "      <th>81</th>\n",
       "      <td>0</td>\n",
       "      <td>0</td>\n",
       "      <td>0</td>\n",
       "      <td>0</td>\n",
       "      <td>0</td>\n",
       "      <td>0</td>\n",
       "      <td>0</td>\n",
       "      <td>0</td>\n",
       "      <td>0</td>\n",
       "      <td>0</td>\n",
       "      <td>...</td>\n",
       "      <td>0</td>\n",
       "      <td>1</td>\n",
       "      <td>1</td>\n",
       "      <td>1</td>\n",
       "      <td>1</td>\n",
       "      <td>1</td>\n",
       "      <td>1</td>\n",
       "      <td>1</td>\n",
       "      <td>0</td>\n",
       "      <td>1</td>\n",
       "    </tr>\n",
       "    <tr>\n",
       "      <th>82</th>\n",
       "      <td>1</td>\n",
       "      <td>1</td>\n",
       "      <td>0</td>\n",
       "      <td>0</td>\n",
       "      <td>1</td>\n",
       "      <td>1</td>\n",
       "      <td>1</td>\n",
       "      <td>1</td>\n",
       "      <td>1</td>\n",
       "      <td>1</td>\n",
       "      <td>...</td>\n",
       "      <td>0</td>\n",
       "      <td>0</td>\n",
       "      <td>1</td>\n",
       "      <td>1</td>\n",
       "      <td>1</td>\n",
       "      <td>1</td>\n",
       "      <td>1</td>\n",
       "      <td>1</td>\n",
       "      <td>1</td>\n",
       "      <td>0</td>\n",
       "    </tr>\n",
       "  </tbody>\n",
       "</table>\n",
       "<p>83 rows × 83 columns</p>\n",
       "</div>"
      ],
      "text/plain": [
       "    0   1   2   3   4   5   6   7   8   9   ...  73  74  75  76  77  78  79  \\\n",
       "0    0   1   1   1   1   1   1   1   1   0  ...   0   0   0   0   0   0   0   \n",
       "1    1   0   0   0   1   1   1   1   0   0  ...   0   0   0   0   0   0   0   \n",
       "2    1   0   0   1   0   0   1   1   0   0  ...   0   0   0   0   0   0   0   \n",
       "3    1   0   1   0   0   0   1   1   0   0  ...   0   0   0   1   0   0   1   \n",
       "4    1   1   0   0   0   1   1   1   1   0  ...   0   0   0   0   0   0   0   \n",
       "..  ..  ..  ..  ..  ..  ..  ..  ..  ..  ..  ...  ..  ..  ..  ..  ..  ..  ..   \n",
       "78   0   0   0   0   0   0   1   0   0   1  ...   1   1   1   1   1   0   1   \n",
       "79   0   0   0   1   0   0   0   1   0   0  ...   0   0   1   1   1   1   0   \n",
       "80   0   0   0   0   0   0   0   0   0   0  ...   0   1   1   1   1   1   1   \n",
       "81   0   0   0   0   0   0   0   0   0   0  ...   0   1   1   1   1   1   1   \n",
       "82   1   1   0   0   1   1   1   1   1   1  ...   0   0   1   1   1   1   1   \n",
       "\n",
       "    80  81  82  \n",
       "0    0   0   1  \n",
       "1    0   0   1  \n",
       "2    0   0   0  \n",
       "3    0   0   0  \n",
       "4    0   0   1  \n",
       "..  ..  ..  ..  \n",
       "78   1   1   1  \n",
       "79   1   1   1  \n",
       "80   0   1   1  \n",
       "81   1   0   1  \n",
       "82   1   1   0  \n",
       "\n",
       "[83 rows x 83 columns]"
      ]
     },
     "execution_count": 6,
     "metadata": {},
     "output_type": "execute_result"
    }
   ],
   "source": [
    "connections"
   ]
  },
  {
   "cell_type": "code",
   "execution_count": 7,
   "metadata": {},
   "outputs": [],
   "source": [
    "# Calculate distance between 2 points in Euclidean space\n",
    "\n",
    "def Euclidean_dist(p1, p2):\n",
    "    point1 = np.array((positions[0][p1], positions[1][p1], positions[2][p1]))\n",
    "    point2 = np.array((positions[0][p2], positions[1][p2], positions[2][p2]))\n",
    "    return np.linalg.norm(point1 - point2)"
   ]
  },
  {
   "cell_type": "code",
   "execution_count": 8,
   "metadata": {},
   "outputs": [
    {
     "data": {
      "text/plain": [
       "60.821899890312004"
      ]
     },
     "execution_count": 8,
     "metadata": {},
     "output_type": "execute_result"
    }
   ],
   "source": [
    "Euclidean_dist(0,8)"
   ]
  },
  {
   "cell_type": "code",
   "execution_count": 9,
   "metadata": {},
   "outputs": [],
   "source": [
    "# Get neighbours of 'p' from the connections dataframe \n",
    "\n",
    "def get_neighbours(p):\n",
    "    neighbours = []\n",
    "    \n",
    "    for i in range(83):\n",
    "        if connections[i][p] == 1:\n",
    "            neighbours.append(i)\n",
    "    \n",
    "    return neighbours"
   ]
  },
  {
   "cell_type": "code",
   "execution_count": 11,
   "metadata": {},
   "outputs": [],
   "source": [
    "# Add a key-value pair to the existing dictionary\n",
    "def add_element(dict, key, value):\n",
    "    if key not in dict:\n",
    "        dict[key] = []\n",
    "    dict[key].append(value)"
   ]
  },
  {
   "cell_type": "code",
   "execution_count": 12,
   "metadata": {},
   "outputs": [],
   "source": [
    "# Returns with a dictionary. Key is the number of the node and \n",
    "# the value is the distant between the current node(act) and its neighbour.\n",
    "# The list is ascendant by the distance.\n",
    "def get_dist(act, neighbours):\n",
    "    dist = {}\n",
    "    \n",
    "    for i in neighbours:\n",
    "        add_element(dist, i, Euclidean_dist(act, i))\n",
    "    \n",
    "    dist = sorted(dist.items(), key=lambda x: x[1])\n",
    "    \n",
    "    return dist"
   ]
  },
  {
   "cell_type": "code",
   "execution_count": 13,
   "metadata": {},
   "outputs": [
    {
     "name": "stdout",
     "output_type": "stream",
     "text": [
      "[(8, [19.814297429824563]), (5, [32.373310145716125]), (33, [38.951915535245845]), (35, [42.706932767219335]), (36, [43.43564309241848]), (34, [44.451031502115114]), (7, [44.84036410692491]), (37, [45.1517229111004]), (30, [49.170642203670006]), (31, [49.321624779058034]), (4, [53.83213143549891]), (17, [54.190515949666526]), (18, [55.08246698267312]), (6, [57.51950554766205]), (38, [57.63795524503112]), (29, [58.665717994905336]), (40, [59.13731145521251]), (28, [65.19262363076962]), (24, [67.90906887217683]), (1, [68.12905048052522]), (82, [69.84525602598247]), (27, [72.59785793831435]), (3, [77.74387478985666]), (23, [77.83006533931774]), (22, [82.94140517826806]), (2, [89.43970444117359])]\n"
     ]
    },
    {
     "data": {
      "text/plain": [
       "(34, [44.451031502115114])"
      ]
     },
     "execution_count": 13,
     "metadata": {},
     "output_type": "execute_result"
    }
   ],
   "source": [
    "dict = get_dist(9, n)\n",
    "print(dict)\n",
    "dict[5]"
   ]
  },
  {
   "cell_type": "code",
   "execution_count": 14,
   "metadata": {},
   "outputs": [],
   "source": [
    "# Calculates the full lenght of the path through the nodes.\n",
    "def path_dist(g):\n",
    "    dist = 0\n",
    "    \n",
    "    for i in range(len(g)-1):\n",
    "        dist = dist + Euclidean_dist(g[i], g[i+1])\n",
    "    \n",
    "    return dist"
   ]
  },
  {
   "cell_type": "code",
   "execution_count": 15,
   "metadata": {},
   "outputs": [
    {
     "data": {
      "text/plain": [
       "146.86216180971223"
      ]
     },
     "execution_count": 15,
     "metadata": {},
     "output_type": "execute_result"
    }
   ],
   "source": [
    "path_dist([0, 17, 10])"
   ]
  },
  {
   "cell_type": "code",
   "execution_count": 16,
   "metadata": {},
   "outputs": [
    {
     "data": {
      "text/plain": [
       "[110.26496976737384, 36.59719204233838]"
      ]
     },
     "execution_count": 16,
     "metadata": {},
     "output_type": "execute_result"
    }
   ],
   "source": [
    "[0, 17, 10]\n",
    "[110.26496976737384, 36.59719204233838]"
   ]
  },
  {
   "cell_type": "code",
   "execution_count": 17,
   "metadata": {},
   "outputs": [],
   "source": [
    "# Entropy by numpy library\n",
    "def entropy(labels, base=None):\n",
    "    n_labels = len(labels)\n",
    "    \n",
    "    if n_labels <= 1:\n",
    "        return 0\n",
    "    \n",
    "    value, counts = np.unique(labels, return_counts=True)\n",
    "    probs = counts/n_labels\n",
    "    n_classes = np.count_nonzero(probs)\n",
    "    \n",
    "    if n_classes <= 1:\n",
    "        return 0\n",
    "    \n",
    "    ent = 0.\n",
    "    \n",
    "    base = e if base is None else base\n",
    "    for i in probs:\n",
    "        ent -= i * log(i, base)\n",
    "        \n",
    "    return ent"
   ]
  },
  {
   "cell_type": "code",
   "execution_count": 18,
   "metadata": {},
   "outputs": [
    {
     "data": {
      "text/plain": [
       "1.0986122886681096"
      ]
     },
     "execution_count": 18,
     "metadata": {},
     "output_type": "execute_result"
    }
   ],
   "source": [
    "entropy([0, 17, 10])"
   ]
  },
  {
   "cell_type": "markdown",
   "metadata": {},
   "source": [
    "# Algorithm 1."
   ]
  },
  {
   "cell_type": "code",
   "execution_count": 19,
   "metadata": {},
   "outputs": [
    {
     "data": {
      "text/plain": [
       "'def greedy1(p, z):\\n    ready = False\\n    routing = []\\n    routing.append(p)\\n    act = p       # current node\\n    \\n    while ready==False:\\n        neighbours = get_neighbours(act)\\n        \\n        # if the \\'z\\' is connected with \\'act\\'\\n        if z in neighbours:\\n            routing.append(z)\\n            return routing\\n        \\n        # if \\'act\\' has no neighbours \\n        elif len(neighbours)==0:\\n            return \"No neighbours\"\\n        \\n        # if \\'act\\' has just 1 neighbour\\n        elif len(neighbours) == 1:\\n            act = neighbours[0]\\n            routing.append(act)\\n            \\n        elif len(neighbours) > 1:\\n            dist = get_dist(act, neighbours)\\n            \\n            # print(\"Neighbours: \", neighbours)\\n            # print(\"DIST: \", dist)\\n            # print()\\n            \\n            not_found = False\\n            for i in dist:\\n                if i[0] not in routing:\\n                    act = i[0]\\n                    routing.append(act)\\n                    not_found = True\\n                    break\\n            # If there are no more choosable node on the list     \\n            if not_found == False:\\n                act = dist[0][0]\\n                routing.append(act)'"
      ]
     },
     "execution_count": 19,
     "metadata": {},
     "output_type": "execute_result"
    }
   ],
   "source": [
    "# The algorithm chooses the node which one is the closest to the current node and they are neighbours.\n",
    "# If the closest node is already on the routing list, the algorithm will choose the next one in the ascendant list.\n",
    "# A node could be on the routing table several times, if the algorithm already used all of the elements in the neighbour list.\n",
    "# If that happens, it will choose the closest one again.\n",
    "\n",
    "'''def greedy1(p, z):\n",
    "    ready = False\n",
    "    routing = []\n",
    "    routing.append(p)\n",
    "    act = p       # current node\n",
    "    \n",
    "    while ready==False:\n",
    "        neighbours = get_neighbours(act)\n",
    "        \n",
    "        # if the 'z' is connected with 'act'\n",
    "        if z in neighbours:\n",
    "            routing.append(z)\n",
    "            return routing\n",
    "        \n",
    "        # if 'act' has no neighbours \n",
    "        elif len(neighbours)==0:\n",
    "            return \"No neighbours\"\n",
    "        \n",
    "        # if 'act' has just 1 neighbour\n",
    "        elif len(neighbours) == 1:\n",
    "            act = neighbours[0]\n",
    "            routing.append(act)\n",
    "            \n",
    "        elif len(neighbours) > 1:\n",
    "            dist = get_dist(act, neighbours)\n",
    "            \n",
    "            # print(\"Neighbours: \", neighbours)\n",
    "            # print(\"DIST: \", dist)\n",
    "            # print()\n",
    "            \n",
    "            not_found = False\n",
    "            for i in dist:\n",
    "                if i[0] not in routing:\n",
    "                    act = i[0]\n",
    "                    routing.append(act)\n",
    "                    not_found = True\n",
    "                    break\n",
    "            # If there are no more choosable node on the list     \n",
    "            if not_found == False:\n",
    "                act = dist[0][0]\n",
    "                routing.append(act)'''"
   ]
  },
  {
   "cell_type": "code",
   "execution_count": 20,
   "metadata": {},
   "outputs": [
    {
     "data": {
      "text/plain": [
       "'routing_map_1 = []\\n\\n# Add the path of p->z to the routing table \\ndef greedy1_algorithm(p,z):\\n    path = greedy1(p,z)\\n    if path not in routing_map_1:\\n        routing_map_1.append(path)'"
      ]
     },
     "execution_count": 20,
     "metadata": {},
     "output_type": "execute_result"
    }
   ],
   "source": [
    "'''routing_map_1 = []\n",
    "\n",
    "# Add the path of p->z to the routing table \n",
    "def greedy1_algorithm(p,z):\n",
    "    path = greedy1(p,z)\n",
    "    if path not in routing_map_1:\n",
    "        routing_map_1.append(path)'''"
   ]
  },
  {
   "cell_type": "code",
   "execution_count": 21,
   "metadata": {},
   "outputs": [
    {
     "data": {
      "text/plain": [
       "'# Iterate throught all of the nodes and run the greedy1 algorithm on them.\\nfor i in range(83):\\n    for j in range(83):\\n        if i!= j:\\n            greedy1_algorithm(i,j)'"
      ]
     },
     "execution_count": 21,
     "metadata": {},
     "output_type": "execute_result"
    }
   ],
   "source": [
    "'''# Iterate throught all of the nodes and run the greedy1 algorithm on them.\n",
    "for i in range(83):\n",
    "    for j in range(83):\n",
    "        if i!= j:\n",
    "            greedy1_algorithm(i,j)'''"
   ]
  },
  {
   "cell_type": "code",
   "execution_count": 22,
   "metadata": {},
   "outputs": [
    {
     "data": {
      "text/plain": [
       "'# Calculate the average of the nodes of the paths\\nsum_nodes1 = 0\\nfor i in range(6806):\\n    sum_nodes1 = sum_nodes1 + len(routing_map_1[i])\\n    \\navr_nodes1 = sum_nodes1 / 6806\\navr_nodes1'"
      ]
     },
     "execution_count": 22,
     "metadata": {},
     "output_type": "execute_result"
    }
   ],
   "source": [
    "'''# Calculate the average of the nodes of the paths\n",
    "sum_nodes1 = 0\n",
    "for i in range(6806):\n",
    "    sum_nodes1 = sum_nodes1 + len(routing_map_1[i])\n",
    "    \n",
    "avr_nodes1 = sum_nodes1 / 6806\n",
    "avr_nodes1'''"
   ]
  },
  {
   "cell_type": "code",
   "execution_count": 23,
   "metadata": {},
   "outputs": [
    {
     "data": {
      "text/plain": [
       "'# Calculate the average distance of the paths\\nsum_dist1 = 0\\nfor i in range(6806):\\n    sum_dist1 = sum_dist1 + path_dist(routing_map_1[i])\\n    \\navr_dist1 = sum_dist1 / 6806\\navr_dist1'"
      ]
     },
     "execution_count": 23,
     "metadata": {},
     "output_type": "execute_result"
    }
   ],
   "source": [
    "'''# Calculate the average distance of the paths\n",
    "sum_dist1 = 0\n",
    "for i in range(6806):\n",
    "    sum_dist1 = sum_dist1 + path_dist(routing_map_1[i])\n",
    "    \n",
    "avr_dist1 = sum_dist1 / 6806\n",
    "avr_dist1'''"
   ]
  },
  {
   "cell_type": "markdown",
   "metadata": {},
   "source": [
    "# Algorithm 2."
   ]
  },
  {
   "cell_type": "code",
   "execution_count": 24,
   "metadata": {},
   "outputs": [],
   "source": [
    "# The algorithm chooses the neighbour node, which one is the closest the to end node.\n",
    "# If the closest node is already on the routing list, the algorithm will choose the next one in the ascendant list.\n",
    "# A node could be on the routing table several times, if the algorithm already used all of the elements in the neighbour list.\n",
    "# If that happens, it will choose the closest one again.\n",
    "\n",
    "def greedy2(p, z, routing_nodes, routing_dist):\n",
    "    ready = False\n",
    "    routing_nodes.append(p)\n",
    "    act = p       # current node\n",
    "    \n",
    "    while ready==False:\n",
    "        neighbours = get_neighbours(act)\n",
    "        \n",
    "        # Calculates the distances of the neighbour nodes from the end node\n",
    "        dist = get_dist(z, neighbours)\n",
    "        \n",
    "        # if the 'z' is connected with 'act'\n",
    "        if z in neighbours:\n",
    "            routing_dist.append(Euclidean_dist(act, dist[0][0]))\n",
    "            routing_nodes.append(z)\n",
    "            ready=True\n",
    "        \n",
    "        # if 'act' has no neighbours \n",
    "        elif len(neighbours) == 0:\n",
    "            return \"No neighbours\"\n",
    "        \n",
    "        # if 'act' has just 1 neighbour\n",
    "        elif len(neighbours) == 1:\n",
    "            routing_dist.append(Euclidean_dist(act, dist[0][0]))\n",
    "            act = neighbours[0]\n",
    "            routing_nodes.append(act)\n",
    "            \n",
    "        elif len(neighbours) > 1:\n",
    "            not_found = False\n",
    "            for i in dist:\n",
    "                if i[0] not in routing_nodes:\n",
    "                    routing_dist.append(Euclidean_dist(act, i[0]))\n",
    "                    act = i[0]\n",
    "                    routing_nodes.append(act)\n",
    "                    not_found = True\n",
    "                    break\n",
    "            # If there are no more choosable node on the list     \n",
    "            if not_found == False:\n",
    "                routing_dist.append(Euclidean_dist(act, dist[0][0]))\n",
    "                act = dist[0][0]\n",
    "                routing_nodes.append(act)"
   ]
  },
  {
   "cell_type": "code",
   "execution_count": 25,
   "metadata": {
    "scrolled": true
   },
   "outputs": [
    {
     "name": "stdout",
     "output_type": "stream",
     "text": [
      "[0, 17, 10]\n",
      "[110.26496976737384, 36.59719204233838]\n"
     ]
    }
   ],
   "source": [
    "routing_nodes = []\n",
    "routing_dist = []\n",
    "\n",
    "greedy2(0,10,routing_nodes,routing_dist)\n",
    "print(routing_nodes)\n",
    "print(routing_dist)"
   ]
  },
  {
   "cell_type": "code",
   "execution_count": 26,
   "metadata": {},
   "outputs": [],
   "source": [
    "routing_map_nodes2 = []\n",
    "routing_map_dist2 = []\n",
    "\n",
    "# Add the path of p->z to the routing table \n",
    "def greedy2_algorithm(p,z):\n",
    "    routing_nodes = []\n",
    "    routing_dist = []\n",
    "    greedy2(p,z,routing_nodes,routing_dist)\n",
    "    if routing_nodes not in routing_map_nodes2:\n",
    "        routing_map_nodes2.append(routing_nodes)\n",
    "        routing_map_dist2.append(routing_dist)"
   ]
  },
  {
   "cell_type": "code",
   "execution_count": 27,
   "metadata": {},
   "outputs": [],
   "source": [
    "# Iterate throught all of the nodes and run the greedy2 algorithm on them.\n",
    "for i in range(83):\n",
    "    for j in range(83):\n",
    "        if i!= j:\n",
    "            greedy2_algorithm(i,j)"
   ]
  },
  {
   "cell_type": "code",
   "execution_count": 43,
   "metadata": {},
   "outputs": [
    {
     "name": "stdout",
     "output_type": "stream",
     "text": [
      "6806\n"
     ]
    },
    {
     "data": {
      "text/plain": [
       "3.0113135468704084"
      ]
     },
     "execution_count": 43,
     "metadata": {},
     "output_type": "execute_result"
    }
   ],
   "source": [
    "print(len(routing_map_nodes2))\n",
    "\n",
    "# Calculate the average of the nodes of the paths\n",
    "sum_nodes2 = 0\n",
    "for i in range(6806):\n",
    "    sum_nodes2 = sum_nodes2 + len(routing_map_nodes2[i])\n",
    "    \n",
    "avr_nodes2 = sum_nodes2 / 6806\n",
    "avr_nodes2"
   ]
  },
  {
   "cell_type": "code",
   "execution_count": 29,
   "metadata": {},
   "outputs": [
    {
     "data": {
      "text/plain": [
       "84.29096240285445"
      ]
     },
     "execution_count": 29,
     "metadata": {},
     "output_type": "execute_result"
    }
   ],
   "source": [
    "# Calculate the average distance of the paths\n",
    "sum_dist2 = 0\n",
    "for i in range(6806):\n",
    "    sum_dist2 = sum_dist2 + path_dist(routing_map_nodes2[i])\n",
    "    \n",
    "avr_dist2 = sum_dist2 / 6806\n",
    "avr_dist2"
   ]
  },
  {
   "cell_type": "code",
   "execution_count": 51,
   "metadata": {},
   "outputs": [],
   "source": [
    "# Calculate entropy for each path\n",
    "\n",
    "nodes_entropy2 = []\n",
    "dist_entropy2 = []\n",
    "\n",
    "for i in range(len(routing_map_nodes2)):\n",
    "    nodes_entropy2.append(entropy(routing_map_nodes2[i]))\n",
    "    dist_entropy2.append(entropy(routing_map_dist2[i]))"
   ]
  },
  {
   "cell_type": "code",
   "execution_count": 68,
   "metadata": {},
   "outputs": [
    {
     "data": {
      "text/plain": [
       "1.0622088782157757"
      ]
     },
     "execution_count": 68,
     "metadata": {},
     "output_type": "execute_result"
    }
   ],
   "source": [
    "# Average entropy\n",
    "\n",
    "sum_ent2 = 0\n",
    "for i in range(6806):\n",
    "    # sum_ent2 += dist_entropy2[i]\n",
    "    sum_ent2 += nodes_entropy2[i]\n",
    "    \n",
    "avr_ent2 = sum_ent2 / 6806\n",
    "avr_ent2"
   ]
  },
  {
   "cell_type": "markdown",
   "metadata": {},
   "source": [
    "# Algorithm 3."
   ]
  },
  {
   "cell_type": "code",
   "execution_count": 33,
   "metadata": {},
   "outputs": [],
   "source": [
    "# The algorithm chooses the neighbour node, through the distance to the end node from 'p' is the shortest.\n",
    "# If the closest node is already on the routing list, the algorithm will choose the next one in the ascendant list.\n",
    "# A node could be on the routing table several times, if the algorithm already used all of the elements in the neighbour list.\n",
    "# If that happens, it will choose the closest one again.\n",
    "\n",
    "def greedy3(p, z, routing_nodes, routing_dist):\n",
    "    ready = False\n",
    "    routing_nodes.append(p)\n",
    "    act = p       # current node\n",
    "    \n",
    "    while ready==False:\n",
    "        neighbours = get_neighbours(act)\n",
    "        \n",
    "        # Calculates the distances of the neighbour nodes from the end node\n",
    "        dist = get_dist(z, neighbours)\n",
    "        \n",
    "        # if the 'z' is connected with 'act'\n",
    "        if z in neighbours:\n",
    "            routing_dist.append(Euclidean_dist(act, dist[0][0]))\n",
    "            routing_nodes.append(z)\n",
    "            ready=True\n",
    "        \n",
    "        # if 'act' has no neighbours \n",
    "        elif len(neighbours)==0:\n",
    "            return \"No neighbours\"\n",
    "        \n",
    "        # if 'act' has just 1 neighbour\n",
    "        elif len(neighbours) == 1:\n",
    "            routing_dist.append(Euclidean_dist(act, dist[0][0]))\n",
    "            act = neighbours[0]\n",
    "            routing_nodes.append(act)\n",
    "            \n",
    "        elif len(neighbours) > 1:\n",
    "            # distance from 'p' to the neighbours\n",
    "            dist1 = get_dist(act, neighbours)\n",
    "            # distance from the neighbours to the end node\n",
    "            dist2 = get_dist(z, neighbours)\n",
    "            dist = {}\n",
    "            \n",
    "            # Calculate the distance from 'p' through the neighbours to the end node\n",
    "            for i in range(len(neighbours)):\n",
    "                for j in range(len(neighbours)):\n",
    "                    if dist1[i][0]==dist2[j][0]:\n",
    "                        val1 = dist1[i][1]\n",
    "                        val2 = dist2[j][1]\n",
    "                        add_element(dist, dist1[i][0], val1[0]+val2[0])\n",
    "            dist = sorted(dist.items(), key=lambda x: x[1])\n",
    "            \n",
    "            not_found = False\n",
    "            for i in dist:\n",
    "                if i[0] not in routing_nodes:\n",
    "                    routing_dist.append(Euclidean_dist(act, i[0]))\n",
    "                    act = i[0]\n",
    "                    routing_nodes.append(act)\n",
    "                    not_found = True\n",
    "                    break\n",
    "            # If there are no more choosable node on the list     \n",
    "            if not_found == False:\n",
    "                routing_dist.append(Euclidean_dist(act, dist[0][0]))\n",
    "                act = dist[0][0]\n",
    "                routing_nodes.append(act)"
   ]
  },
  {
   "cell_type": "code",
   "execution_count": 34,
   "metadata": {},
   "outputs": [
    {
     "name": "stdout",
     "output_type": "stream",
     "text": [
      "[0, 35, 10]\n",
      "[35.057875034510346, 53.27508125272272]\n"
     ]
    }
   ],
   "source": [
    "routing_nodes2 = []\n",
    "routing_dist2 = []\n",
    "\n",
    "greedy3(0,10,routing_nodes2,routing_dist2)\n",
    "print(routing_nodes2)\n",
    "print(routing_dist2)"
   ]
  },
  {
   "cell_type": "code",
   "execution_count": 44,
   "metadata": {},
   "outputs": [],
   "source": [
    "routing_map_nodes3 = []\n",
    "routing_map_dist3 = []\n",
    "\n",
    "# Add the path of p->z to the routing table \n",
    "def greedy3_algorithm(p,z):\n",
    "    routing_nodes = []\n",
    "    routing_dist = []\n",
    "    greedy3(p,z,routing_nodes,routing_dist)\n",
    "    if routing_nodes not in routing_map_nodes3:\n",
    "        routing_map_nodes3.append(routing_nodes)\n",
    "        routing_map_dist3.append(routing_dist)"
   ]
  },
  {
   "cell_type": "code",
   "execution_count": 45,
   "metadata": {},
   "outputs": [
    {
     "data": {
      "text/plain": [
       "6806"
      ]
     },
     "execution_count": 45,
     "metadata": {},
     "output_type": "execute_result"
    }
   ],
   "source": [
    "# Iterate throught all of the nodes and run the greedy3 algorithm on them.\n",
    "for i in range(83):\n",
    "    for j in range(83):\n",
    "        if i!= j:\n",
    "            greedy3_algorithm(i,j)\n",
    "            \n",
    "len(routing_map_nodes3)"
   ]
  },
  {
   "cell_type": "code",
   "execution_count": 46,
   "metadata": {},
   "outputs": [
    {
     "data": {
      "text/plain": [
       "3.564942697619747"
      ]
     },
     "execution_count": 46,
     "metadata": {},
     "output_type": "execute_result"
    }
   ],
   "source": [
    "# Calculate the average of the nodes of the paths\n",
    "sum_nodes3 = 0\n",
    "for i in range(6806):\n",
    "    sum_nodes3 = sum_nodes3 + len(routing_map_nodes3[i])\n",
    "    \n",
    "avr_nodes3 = sum_nodes3 / 6806\n",
    "avr_nodes3"
   ]
  },
  {
   "cell_type": "code",
   "execution_count": 50,
   "metadata": {},
   "outputs": [
    {
     "data": {
      "text/plain": [
       "78.99626993739102"
      ]
     },
     "execution_count": 50,
     "metadata": {},
     "output_type": "execute_result"
    }
   ],
   "source": [
    "# Calculate the average distance of the paths\n",
    "sum_dist3 = 0\n",
    "for i in range(6806):\n",
    "    sum_dist3 = sum_dist3 + path_dist(routing_map_nodes3[i])\n",
    "    \n",
    "avr_dist3 = sum_dist3 / 6806\n",
    "avr_dist3"
   ]
  },
  {
   "cell_type": "code",
   "execution_count": 52,
   "metadata": {},
   "outputs": [],
   "source": [
    "# Calculate entropy for each path\n",
    "\n",
    "nodes_entropy3 = []\n",
    "dist_entropy3 = []\n",
    "\n",
    "for i in range(len(routing_map_nodes3)):\n",
    "    nodes_entropy3.append(entropy(routing_map_nodes3[i]))\n",
    "    dist_entropy3.append(entropy(routing_map_dist3[i]))"
   ]
  },
  {
   "cell_type": "code",
   "execution_count": 67,
   "metadata": {},
   "outputs": [
    {
     "data": {
      "text/plain": [
       "1.1864648672380205"
      ]
     },
     "execution_count": 67,
     "metadata": {},
     "output_type": "execute_result"
    }
   ],
   "source": [
    "# Average entropy\n",
    "\n",
    "sum_ent3 = 0\n",
    "for i in range(6806):\n",
    "    #sum_ent3 += dist_entropy3[i]\n",
    "    sum_ent3 += nodes_entropy3[i]\n",
    "    \n",
    "avr_ent3 = sum_ent3 / 6806\n",
    "avr_ent3"
   ]
  },
  {
   "cell_type": "markdown",
   "metadata": {},
   "source": [
    "## Algorithm 1:\n",
    "    - Average node number of paths:\n",
    "        8.070232148104614\n",
    "    - Average path lenght:\n",
    "        162.67517508376523\n",
    "    - Average entropy of the distance: \n",
    "        0.6037558913009416\n",
    "    \n",
    "## Algorithm 2:\n",
    "    - Average node number of paths:\n",
    "        3.0113135468704084\n",
    "    - Average path lenght:\n",
    "        84.29096240285445\n",
    "    \n",
    "## Algorithm 3:\n",
    "    - Average node number of paths: \n",
    "        3.564942697619747 \n",
    "    - Average path lenght: \n",
    "        78.99626993739102\n",
    "    - Average entropy of the distance:\n",
    "        0.7678959699816416"
   ]
  },
  {
   "cell_type": "code",
   "execution_count": 55,
   "metadata": {},
   "outputs": [],
   "source": [
    "'''with open('alg2nodes.csv', 'w', newline='') as csv_1:\n",
    "  csv_out = csv.writer(csv_1)\n",
    "  csv_out.writerows([routing_map_nodes2[index]] for index in range(0, len(routing_map_nodes2)))\n",
    "    \n",
    "with open('alg2dist.csv', 'w', newline='') as csv_1:\n",
    "  csv_out = csv.writer(csv_1)\n",
    "  csv_out.writerows([routing_map_dist2[index]] for index in range(0, len(routing_map_dist2)))\n",
    "    \n",
    "with open('alg3nodes.csv', 'w', newline='') as csv_1:\n",
    "  csv_out = csv.writer(csv_1)\n",
    "  csv_out.writerows([routing_map_nodes3[index]] for index in range(0, len(routing_map_nodes3)))\n",
    "    \n",
    "with open('alg3dist.csv', 'w', newline='') as csv_1:\n",
    "  csv_out = csv.writer(csv_1)\n",
    "  csv_out.writerows([routing_map_dist3[index]] for index in range(0, len(routing_map_dist3)))\n",
    "    \n",
    "with open('ent2nodes.csv', 'w', newline='') as csv_1:\n",
    "  csv_out = csv.writer(csv_1)\n",
    "  csv_out.writerows([nodes_entropy2[index]] for index in range(0, len(nodes_entropy2)))\n",
    "    \n",
    "with open('ent2dist.csv', 'w', newline='') as csv_1:\n",
    "  csv_out = csv.writer(csv_1)\n",
    "  csv_out.writerows([dist_entropy2[index]] for index in range(0, len(dist_entropy2)))\n",
    "    \n",
    "with open('ent3nodes.csv', 'w', newline='') as csv_1:\n",
    "  csv_out = csv.writer(csv_1)\n",
    "  csv_out.writerows([nodes_entropy3[index]] for index in range(0, len(nodes_entropy3)))\n",
    "    \n",
    "with open('ent3dist.csv', 'w', newline='') as csv_1:\n",
    "  csv_out = csv.writer(csv_1)\n",
    "  csv_out.writerows([dist_entropy3[index]] for index in range(0, len(dist_entropy3)))'''"
   ]
  }
 ],
 "metadata": {
  "kernelspec": {
   "display_name": "Python 3",
   "language": "python",
   "name": "python3"
  },
  "language_info": {
   "codemirror_mode": {
    "name": "ipython",
    "version": 3
   },
   "file_extension": ".py",
   "mimetype": "text/x-python",
   "name": "python",
   "nbconvert_exporter": "python",
   "pygments_lexer": "ipython3",
   "version": "3.7.6"
  }
 },
 "nbformat": 4,
 "nbformat_minor": 4
}
