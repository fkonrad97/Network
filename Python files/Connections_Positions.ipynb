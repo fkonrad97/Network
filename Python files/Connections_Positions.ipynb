{
 "cells": [
  {
   "cell_type": "code",
   "execution_count": 84,
   "metadata": {},
   "outputs": [],
   "source": [
    "import csv\n",
    "import itertools\n",
    "import pandas as pd\n",
    "import numpy as np\n",
    "from math import log, e\n",
    "import random"
   ]
  },
  {
   "cell_type": "code",
   "execution_count": 85,
   "metadata": {},
   "outputs": [
    {
     "name": "stderr",
     "output_type": "stream",
     "text": [
      "Methods.ipynb:5: SettingWithCopyWarning: \n",
      "A value is trying to be set on a copy of a slice from a DataFrame\n",
      "\n",
      "See the caveats in the documentation: https://pandas.pydata.org/pandas-docs/stable/user_guide/indexing.html#returning-a-view-versus-a-copy\n",
      "  \"metadata\": {},\n"
     ]
    }
   ],
   "source": [
    "# Add Methods notebook to this notebook\n",
    "%run Methods.ipynb"
   ]
  },
  {
   "cell_type": "markdown",
   "metadata": {},
   "source": [
    "# Greedy"
   ]
  },
  {
   "cell_type": "code",
   "execution_count": 26,
   "metadata": {},
   "outputs": [],
   "source": [
    "routingMap_nodesG = []\n",
    "routingMap_distG = []\n",
    "\n",
    "greedyIter(83, routingMap_distG, routingMap_nodesG)"
   ]
  },
  {
   "cell_type": "markdown",
   "metadata": {},
   "source": [
    "# Dijkstra"
   ]
  },
  {
   "cell_type": "code",
   "execution_count": null,
   "metadata": {},
   "outputs": [],
   "source": [
    "routingMap_nodesD = []\n",
    "routingMap_distD = []\n",
    "\n",
    "dijkstraIter(83, routingMap_distD, routingMap_nodesD)"
   ]
  },
  {
   "cell_type": "markdown",
   "metadata": {},
   "source": [
    "# Rand"
   ]
  },
  {
   "cell_type": "code",
   "execution_count": null,
   "metadata": {},
   "outputs": [],
   "source": [
    "routingMap_nodesR = []\n",
    "routingMap_distR = []\n",
    "\n",
    "randIter(83, routingMap_distR, routingMap_nodesR)"
   ]
  },
  {
   "cell_type": "code",
   "execution_count": null,
   "metadata": {},
   "outputs": [],
   "source": [
    "# Calculate the average of the nodes of the paths\n",
    "sum_nodes_rand = 0\n",
    "for i in range(6806):\n",
    "    sum_nodes_rand = sum_nodes_rand + len(routingMap_nodesR[i])\n",
    "    \n",
    "avr_nodes_rand = sum_nodes_rand / 6806\n",
    "avr_nodes_rand"
   ]
  },
  {
   "cell_type": "code",
   "execution_count": null,
   "metadata": {},
   "outputs": [],
   "source": [
    "# Calculate the average distance of the paths\n",
    "sum_dist_rand = 0\n",
    "for i in range(6806):\n",
    "    sum_dist_rand = sum_dist_rand + path_dist(routingMap_nodesR[i])\n",
    "    \n",
    "avr_dist_rand = sum_dist_rand / 6806\n",
    "avr_dist_rand"
   ]
  },
  {
   "cell_type": "code",
   "execution_count": null,
   "metadata": {},
   "outputs": [],
   "source": [
    "# Calculate entropy for each path\n",
    "\n",
    "nodes_entropy_rand = []\n",
    "dist_entropy_rand = []\n",
    "\n",
    "for i in range(len(routing_map_nodes_rand)):\n",
    "    nodes_entropy_rand.append(entropy(routingMap_nodesR[i]))\n",
    "    dist_entropy_rand.append(entropy(routingMap_distR[i]))"
   ]
  },
  {
   "cell_type": "code",
   "execution_count": null,
   "metadata": {},
   "outputs": [],
   "source": [
    "# Average entropy\n",
    "\n",
    "sum_ent_rand = 0\n",
    "for i in range(6806):\n",
    "    # sum_ent_rand += dist_entropy_rand[i]\n",
    "    sum_ent_rand += nodes_entropy_rand[i]\n",
    "    \n",
    "avr_ent_rand = sum_ent_rand / 6806\n",
    "avr_ent_rand"
   ]
  },
  {
   "cell_type": "markdown",
   "metadata": {},
   "source": [
    "# Print out"
   ]
  },
  {
   "cell_type": "code",
   "execution_count": 55,
   "metadata": {},
   "outputs": [],
   "source": [
    "'''with open('alg2nodes.csv', 'w', newline='') as csv_1:\n",
    "  csv_out = csv.writer(csv_1)\n",
    "  csv_out.writerows([routing_map_nodes2[index]] for index in range(0, len(routing_map_nodes2)))\n",
    "    \n",
    "with open('alg2dist.csv', 'w', newline='') as csv_1:\n",
    "  csv_out = csv.writer(csv_1)\n",
    "  csv_out.writerows([routing_map_dist2[index]] for index in range(0, len(routing_map_dist2)))\n",
    "    \n",
    "with open('alg3nodes.csv', 'w', newline='') as csv_1:\n",
    "  csv_out = csv.writer(csv_1)\n",
    "  csv_out.writerows([routing_map_nodes3[index]] for index in range(0, len(routing_map_nodes3)))\n",
    "    \n",
    "with open('alg3dist.csv', 'w', newline='') as csv_1:\n",
    "  csv_out = csv.writer(csv_1)\n",
    "  csv_out.writerows([routing_map_dist3[index]] for index in range(0, len(routing_map_dist3)))\n",
    "    \n",
    "with open('ent2nodes.csv', 'w', newline='') as csv_1:\n",
    "  csv_out = csv.writer(csv_1)\n",
    "  csv_out.writerows([nodes_entropy2[index]] for index in range(0, len(nodes_entropy2)))\n",
    "    \n",
    "with open('ent2dist.csv', 'w', newline='') as csv_1:\n",
    "  csv_out = csv.writer(csv_1)\n",
    "  csv_out.writerows([dist_entropy2[index]] for index in range(0, len(dist_entropy2)))\n",
    "    \n",
    "with open('ent3nodes.csv', 'w', newline='') as csv_1:\n",
    "  csv_out = csv.writer(csv_1)\n",
    "  csv_out.writerows([nodes_entropy3[index]] for index in range(0, len(nodes_entropy3)))\n",
    "    \n",
    "with open('ent3dist.csv', 'w', newline='') as csv_1:\n",
    "  csv_out = csv.writer(csv_1)\n",
    "  csv_out.writerows([dist_entropy3[index]] for index in range(0, len(dist_entropy3)))'''"
   ]
  }
 ],
 "metadata": {
  "kernelspec": {
   "display_name": "Python 3",
   "language": "python",
   "name": "python3"
  },
  "language_info": {
   "codemirror_mode": {
    "name": "ipython",
    "version": 3
   },
   "file_extension": ".py",
   "mimetype": "text/x-python",
   "name": "python",
   "nbconvert_exporter": "python",
   "pygments_lexer": "ipython3",
   "version": "3.7.6"
  }
 },
 "nbformat": 4,
 "nbformat_minor": 4
}
