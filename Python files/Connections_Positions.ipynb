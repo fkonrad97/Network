{
 "cells": [
  {
   "cell_type": "code",
   "execution_count": 32,
   "metadata": {},
   "outputs": [],
   "source": [
    "import csv\n",
    "import itertools\n",
    "import pandas as pd\n",
    "import numpy as np\n",
    "from math import log, e\n",
    "import random"
   ]
  },
  {
   "cell_type": "code",
   "execution_count": 33,
   "metadata": {},
   "outputs": [],
   "source": [
    "# Add Methods notebook to this notebook\n",
    "%run Methods.ipynb"
   ]
  },
  {
   "cell_type": "code",
   "execution_count": 34,
   "metadata": {
    "scrolled": true
   },
   "outputs": [
    {
     "data": {
      "text/plain": [
       "1.919986868367416"
      ]
     },
     "execution_count": 34,
     "metadata": {},
     "output_type": "execute_result"
    }
   ],
   "source": [
    "differenceNeighbourDist()"
   ]
  },
  {
   "cell_type": "code",
   "execution_count": 35,
   "metadata": {},
   "outputs": [
    {
     "data": {
      "text/plain": [
       "49.95115318164757"
      ]
     },
     "execution_count": 35,
     "metadata": {},
     "output_type": "execute_result"
    }
   ],
   "source": [
    "distNeighbours()"
   ]
  },
  {
   "cell_type": "markdown",
   "metadata": {},
   "source": [
    "# Greedy"
   ]
  },
  {
   "cell_type": "code",
   "execution_count": 36,
   "metadata": {},
   "outputs": [],
   "source": [
    "# Iter Greedy algorithm\n",
    "\n",
    "routingMap_nodesG = []\n",
    "routingMap_distG = []\n",
    "\n",
    "greedyIter(routingMap_distG, routingMap_nodesG)"
   ]
  },
  {
   "cell_type": "code",
   "execution_count": 39,
   "metadata": {},
   "outputs": [],
   "source": [
    "# Calculate entropy for each path\n",
    "\n",
    "nodes_entropyG = []\n",
    "dist_entropyG = []\n",
    "\n",
    "for i in range(len(routingMap_nodesG)):\n",
    "    nodes_entropyG.append(entropy(routingMap_nodesG[i]))\n",
    "    dist_entropyG.append(entropy(routingMap_distG[i]))"
   ]
  },
  {
   "cell_type": "code",
   "execution_count": 49,
   "metadata": {},
   "outputs": [
    {
     "data": {
      "text/plain": [
       "16512"
      ]
     },
     "execution_count": 49,
     "metadata": {},
     "output_type": "execute_result"
    }
   ],
   "source": [
    "len(dist_entropyG)"
   ]
  },
  {
   "cell_type": "code",
   "execution_count": 40,
   "metadata": {},
   "outputs": [
    {
     "data": {
      "text/plain": [
       "1.1232377830287896"
      ]
     },
     "execution_count": 40,
     "metadata": {},
     "output_type": "execute_result"
    }
   ],
   "source": [
    "# Average entropy\n",
    "\n",
    "sum_entG = 0\n",
    "for i in range(len(routingMap_distG)):\n",
    "    # sum_entG += dist_entropyG[i]\n",
    "    sum_entG += nodes_entropyG[i]\n",
    "    \n",
    "avr_entG = sum_entG / len(routingMap_distG)\n",
    "avr_entG"
   ]
  },
  {
   "cell_type": "markdown",
   "metadata": {},
   "source": [
    "# Dijkstra"
   ]
  },
  {
   "cell_type": "code",
   "execution_count": 37,
   "metadata": {},
   "outputs": [],
   "source": [
    "# Iter Dijsktra algorithm\n",
    "\n",
    "routingMap_nodesD = []\n",
    "routingMap_distD = []\n",
    "\n",
    "dijkstraIter(routingMap_distD, routingMap_nodesD)"
   ]
  },
  {
   "cell_type": "code",
   "execution_count": 41,
   "metadata": {},
   "outputs": [],
   "source": [
    "# Calculate entropy for each path\n",
    "\n",
    "nodes_entropyD = []\n",
    "dist_entropyD = []\n",
    "\n",
    "for i in range(len(routingMap_nodesD)):\n",
    "    nodes_entropyD.append(entropy(routingMap_nodesD[i]))\n",
    "    dist_entropyD.append(entropy(routingMap_distD[i]))"
   ]
  },
  {
   "cell_type": "code",
   "execution_count": 43,
   "metadata": {},
   "outputs": [
    {
     "data": {
      "text/plain": [
       "1.28695961938847"
      ]
     },
     "execution_count": 43,
     "metadata": {},
     "output_type": "execute_result"
    }
   ],
   "source": [
    "# Average entropy\n",
    "\n",
    "sum_entD = 0\n",
    "for i in range(len(routingMap_distD)):\n",
    "    # sum_entD += dist_entropyD[i]\n",
    "    sum_entD += nodes_entropyD[i]\n",
    "    \n",
    "avr_entD = sum_entD / len(routingMap_distD)\n",
    "avr_entD"
   ]
  },
  {
   "cell_type": "markdown",
   "metadata": {},
   "source": [
    "# Rand"
   ]
  },
  {
   "cell_type": "code",
   "execution_count": null,
   "metadata": {
    "scrolled": true
   },
   "outputs": [],
   "source": [
    "'''# Iter Rand algorithm\n",
    "entropyRand = []\n",
    "\n",
    "for i in range(100):\n",
    "    print(i)\n",
    "    tmpNode = []\n",
    "    tmpDist = []\n",
    "    randIter(tmpDist, tmpNode)\n",
    "    if entropyRand == []:\n",
    "        for j in tmpDist:\n",
    "            entropyRand.append(entropy(j))\n",
    "    else:\n",
    "        for j in range(len(tmpDist)):\n",
    "            entropyRand[j] += entropy(tmpDist[j])'''"
   ]
  },
  {
   "cell_type": "markdown",
   "metadata": {},
   "source": [
    "# Random with boundaries"
   ]
  },
  {
   "cell_type": "code",
   "execution_count": 3,
   "metadata": {},
   "outputs": [
    {
     "data": {
      "text/plain": [
       "'entropyRand = []\\n\\nfor i in range(100):\\n    print(i)\\n    tmpNode = []\\n    tmpDist = []\\n    randBoundaryIter(83, tmpDist, tmpNode, 5)\\n    if entropyRand == []:\\n        for j in tmpDist:\\n            entropyRand.append(entropy(j))\\n    else:\\n        for j in range(len(tmpDist)):\\n            entropyRand[j] += entropy(tmpDist[j])'"
      ]
     },
     "execution_count": 3,
     "metadata": {},
     "output_type": "execute_result"
    }
   ],
   "source": [
    "# Iter Rand with boundary algorithm\n",
    "# Iterate the algorithm 100 times\n",
    "'''entropyRand = []\n",
    "\n",
    "for i in range(100):\n",
    "    print(i)\n",
    "    tmpNode = []\n",
    "    tmpDist = []\n",
    "    randBoundaryIter(tmpDist, tmpNode, 5)\n",
    "    if entropyRand == []:\n",
    "        for j in tmpDist:\n",
    "            entropyRand.append(entropy(j))\n",
    "    else:\n",
    "        for j in range(len(tmpDist)):\n",
    "            entropyRand[j] += entropy(tmpDist[j])'''"
   ]
  },
  {
   "cell_type": "code",
   "execution_count": 51,
   "metadata": {},
   "outputs": [],
   "source": [
    "printOut('Data/Centroid2/entDistDijkstra2', dist_entropyD)"
   ]
  }
 ],
 "metadata": {
  "kernelspec": {
   "display_name": "Python 3",
   "language": "python",
   "name": "python3"
  },
  "language_info": {
   "codemirror_mode": {
    "name": "ipython",
    "version": 3
   },
   "file_extension": ".py",
   "mimetype": "text/x-python",
   "name": "python",
   "nbconvert_exporter": "python",
   "pygments_lexer": "ipython3",
   "version": "3.7.6"
  }
 },
 "nbformat": 4,
 "nbformat_minor": 4
}
