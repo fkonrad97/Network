{
 "cells": [
  {
   "cell_type": "code",
   "execution_count": 1,
   "metadata": {},
   "outputs": [],
   "source": [
    "import csv\n",
    "import pandas as pd\n",
    "import numpy as np\n",
    "import matplotlib.pyplot as plt"
   ]
  },
  {
   "cell_type": "code",
   "execution_count": 2,
   "metadata": {},
   "outputs": [],
   "source": [
    "# for one col csv\n",
    "\n",
    "def csv2list(name):\n",
    "    df = pd.read_csv(\"..\\\\framework\\\\\" + name + \".csv\", header=None)\n",
    "    list=df[0].tolist()\n",
    "    return list"
   ]
  },
  {
   "cell_type": "code",
   "execution_count": 3,
   "metadata": {},
   "outputs": [],
   "source": [
    "ent2dist = csv2list(\"ent2dist\")\n",
    "ent3dist = csv2list(\"ent3dist\")"
   ]
  },
  {
   "cell_type": "code",
   "execution_count": 4,
   "metadata": {},
   "outputs": [],
   "source": [
    "# for multicol csv\n",
    "\n",
    "def csv2array(name):\n",
    "    df = pd.read_csv(\"..\\\\framework\\\\\" + name + \".csv\", sep=';',header=None)\n",
    "    array = df.values\n",
    "    \n",
    "    list = []\n",
    "    for i in array:\n",
    "        list.append(i[np.logical_not(np.isnan(i))])\n",
    "\n",
    "    values = []\n",
    "    for i in list:\n",
    "        current = []\n",
    "        for j in i:\n",
    "            current.append(j)\n",
    "        values.append(current)\n",
    "        \n",
    "    return values"
   ]
  },
  {
   "cell_type": "code",
   "execution_count": 5,
   "metadata": {},
   "outputs": [],
   "source": [
    "alg2dist = csv2array(\"alg2dist\")\n",
    "alg3dist = csv2array(\"alg3dist\")"
   ]
  },
  {
   "cell_type": "code",
   "execution_count": 53,
   "metadata": {},
   "outputs": [
    {
     "name": "stdout",
     "output_type": "stream",
     "text": [
      "208.54366212187676\n",
      "96.07363093449858\n",
      "\n",
      "74.07483640408326\n",
      "235.1194637972194\n"
     ]
    }
   ],
   "source": [
    "# Gives back the distance between two chosen points\n",
    "\n",
    "def distCalculator(a,b,dist):\n",
    "    x = a * 83 + b\n",
    "    return np.sum(dist[x])\n",
    "            \n",
    "print(distCalculator(3,12,alg2dist))\n",
    "print(distCalculator(3,12,alg3dist))\n",
    "print()\n",
    "print(distCalculator(39,28,alg2dist))\n",
    "print(distCalculator(39,28,alg3dist))"
   ]
  },
  {
   "cell_type": "code",
   "execution_count": 57,
   "metadata": {
    "scrolled": true
   },
   "outputs": [
    {
     "name": "stdout",
     "output_type": "stream",
     "text": [
      "[[-0.9162907318741552, [3, 12]], [-0.9162907318741552, [20, 64]], [-0.9162907318741552, [25, 17]], [-0.9162907318741552, [25, 41]], [-0.9162907318741552, [26, 14]], [-0.9162907318741552, [63, 23]], [-0.6931471805599453, [1, 28]], [-0.6931471805599453, [11, 22]], [-0.6931471805599453, [11, 75]], [-0.6931471805599453, [17, 67]]]\n",
      "\n",
      "[[1.5040773967762746, [47, 65]], [1.5040773967762746, [65, 30]], [1.5040773967762746, [72, 64]], [1.5040773967762746, [79, 30]], [1.5404450409471488, [24, 43]], [1.6094379124340996, [65, 44]], [1.6094379124340996, [66, 29]], [1.6094379124340996, [73, 22]], [1.7047480922384253, [72, 23]], [1.7917594692280554, [39, 28]]]\n"
     ]
    }
   ],
   "source": [
    "# Calculate the difference between shortest path algorith entropy and greedy algortihm entropy for the same starting and endpont\n",
    "\n",
    "sum = []\n",
    "\n",
    "for i in range(len(ent2dist)):\n",
    "    sum.append(ent3dist[i]-ent2dist[i])\n",
    "    \n",
    "a_b = []\n",
    "for i in range(83):\n",
    "    for j in range(83):\n",
    "        current = [i, j]\n",
    "        a_b.append(current)\n",
    "        \n",
    "list = []\n",
    "for i in range(len(sum)):\n",
    "    list.append([sum[i], a_b[i]])\n",
    "    \n",
    "list = sorted(list, key=lambda x: x[0])\n",
    "\n",
    "# greedy dist entropy was bigger\n",
    "print(list[:10])\n",
    "print()\n",
    "\n",
    "# shortest path entropy was bigger\n",
    "print(list[-10:])\n",
    "\n",
    "#delete zeros from 'list'\n",
    "# list0 = [i for i in list if i[0] != 0]"
   ]
  },
  {
   "cell_type": "code",
   "execution_count": 99,
   "metadata": {},
   "outputs": [],
   "source": [
    "# Get the differences of a node\n",
    "\n",
    "def getDiff(num):\n",
    "    l = []\n",
    "    # list = [*range(0, 83, 1)]\n",
    "    for i in list:\n",
    "        if i[1][0] == num:\n",
    "            y = i[0]\n",
    "            x = i[1][1]\n",
    "            vec = [x,y]\n",
    "            l.append(vec)\n",
    "        l = sorted(l, key=lambda x: x[0])\n",
    "    return l\n",
    "\n",
    "diff = getDiff(0)"
   ]
  },
  {
   "cell_type": "code",
   "execution_count": 16,
   "metadata": {},
   "outputs": [
    {
     "name": "stdout",
     "output_type": "stream",
     "text": [
      "4772\n",
      "1117.1373755008435\n"
     ]
    }
   ],
   "source": [
    "# delete zeros\n",
    "ent2dist_0 = [i for i in ent2dist if i != 0]\n",
    "ent3dist_0 = [i for i in ent3dist if i != 0]\n",
    "\n",
    "# dijsktra - greedy\n",
    "\n",
    "sum1 = 0\n",
    "sum2 = 0\n",
    "\n",
    "for i in range(len(ent2dist_0)):\n",
    "    sum1 += ent2dist_0[i]\n",
    "    sum2 += ent3dist_0[i]\n",
    "    \n",
    "print(sum2 - sum1)"
   ]
  }
 ],
 "metadata": {
  "kernelspec": {
   "display_name": "Python 3",
   "language": "python",
   "name": "python3"
  },
  "language_info": {
   "codemirror_mode": {
    "name": "ipython",
    "version": 3
   },
   "file_extension": ".py",
   "mimetype": "text/x-python",
   "name": "python",
   "nbconvert_exporter": "python",
   "pygments_lexer": "ipython3",
   "version": "3.7.6"
  }
 },
 "nbformat": 4,
 "nbformat_minor": 4
}
