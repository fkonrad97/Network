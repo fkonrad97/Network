{
 "cells": [
  {
   "cell_type": "code",
   "execution_count": 43,
   "metadata": {},
   "outputs": [],
   "source": [
    "import csv\n",
    "import pandas as pd\n",
    "import numpy as np\n",
    "import matplotlib.pyplot as plt"
   ]
  },
  {
   "cell_type": "code",
   "execution_count": 44,
   "metadata": {},
   "outputs": [
    {
     "name": "stderr",
     "output_type": "stream",
     "text": [
      "Methods.ipynb:5: SettingWithCopyWarning: \n",
      "A value is trying to be set on a copy of a slice from a DataFrame\n",
      "\n",
      "See the caveats in the documentation: https://pandas.pydata.org/pandas-docs/stable/user_guide/indexing.html#returning-a-view-versus-a-copy\n",
      "  \"metadata\": {},\n"
     ]
    }
   ],
   "source": [
    "# Add Methods notebook to this notebook\n",
    "%run Methods.ipynb"
   ]
  },
  {
   "cell_type": "code",
   "execution_count": 45,
   "metadata": {},
   "outputs": [],
   "source": [
    "ent2dist = csv2list(\"ent2dist\")\n",
    "ent3dist = csv2list(\"ent3dist\")"
   ]
  },
  {
   "cell_type": "code",
   "execution_count": 46,
   "metadata": {},
   "outputs": [],
   "source": [
    "alg2dist = csv2array(\"alg2dist\")\n",
    "alg3dist = csv2array(\"alg3dist\")"
   ]
  },
  {
   "cell_type": "code",
   "execution_count": 47,
   "metadata": {},
   "outputs": [],
   "source": [
    "greedy = getList(ent2dist)\n",
    "shortest = getList(ent3dist)\n",
    "\n",
    "# Calculate the difference between shortest path algorith entropy and greedy algortihm entropy for the same starting and endpont\n",
    "sum = []\n",
    "for i in range(len(ent2dist)):\n",
    "    sum.append(ent3dist[i]-ent2dist[i])\n",
    "diff = getList(sum)\n",
    "diff = sorted(diff, key=lambda x: x[0])"
   ]
  },
  {
   "cell_type": "code",
   "execution_count": 48,
   "metadata": {},
   "outputs": [],
   "source": [
    "greedy_avg = avgEntropy(greedy, 83)\n",
    "shortest_avg = avgEntropy(shortest, 83)"
   ]
  },
  {
   "cell_type": "code",
   "execution_count": 49,
   "metadata": {},
   "outputs": [
    {
     "data": {
      "text/plain": [
       "-0.16216248737129785"
      ]
     },
     "execution_count": 49,
     "metadata": {},
     "output_type": "execute_result"
    }
   ],
   "source": [
    "diffGreedyShortest = []\n",
    "\n",
    "for i in range(83):\n",
    "     diffGreedyShortest.append(greedy_avg[i]-shortest_avg[i])\n",
    "\n",
    "avgDiff = 0\n",
    "for i in diffGreedyShortest:\n",
    "    avgDiff += i\n",
    "    \n",
    "avgDiff = avgDiff/83\n",
    "\n",
    "# Shortest algorithm average entropy is greater with 0.162..\n",
    "avgDiff"
   ]
  }
 ],
 "metadata": {
  "kernelspec": {
   "display_name": "Python 3",
   "language": "python",
   "name": "python3"
  },
  "language_info": {
   "codemirror_mode": {
    "name": "ipython",
    "version": 3
   },
   "file_extension": ".py",
   "mimetype": "text/x-python",
   "name": "python",
   "nbconvert_exporter": "python",
   "pygments_lexer": "ipython3",
   "version": "3.7.6"
  }
 },
 "nbformat": 4,
 "nbformat_minor": 4
}
