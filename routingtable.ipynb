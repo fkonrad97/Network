{
  "nbformat": 4,
  "nbformat_minor": 0,
  "metadata": {
    "accelerator": "GPU",
    "colab": {
      "name": "routingtable.ipynb",
      "provenance": [],
      "toc_visible": true,
      "authorship_tag": "ABX9TyM2TYt19TBxlxuGl/pjH/5a",
      "include_colab_link": true
    },
    "kernelspec": {
      "display_name": "Python 3",
      "name": "python3"
    },
    "language_info": {
      "name": "python"
    }
  },
  "cells": [
    {
      "cell_type": "markdown",
      "metadata": {
        "id": "view-in-github",
        "colab_type": "text"
      },
      "source": [
        "<a href=\"https://colab.research.google.com/github/fkonrad97/Network/blob/main/routingtable.ipynb\" target=\"_parent\"><img src=\"https://colab.research.google.com/assets/colab-badge.svg\" alt=\"Open In Colab\"/></a>"
      ]
    },
    {
      "cell_type": "code",
      "metadata": {
        "id": "Y39uWwLlkAHP"
      },
      "source": [
        "import csv\n",
        "import pandas as pd\n",
        "import numpy as np\n",
        "import networkx as nx\n",
        "import random\n",
        "import math\n",
        "from scipy.stats import entropy\n",
        "import matplotlib.pyplot as plt\n",
        "import statistics"
      ],
      "execution_count": 1,
      "outputs": []
    },
    {
      "cell_type": "markdown",
      "metadata": {
        "id": "0qxlJ8GXqu2d"
      },
      "source": [
        "# I/O"
      ]
    },
    {
      "cell_type": "code",
      "metadata": {
        "id": "Zgxa0Wmnjyn6"
      },
      "source": [
        "# Read positions of nodes (X,Y,Z)\n",
        "\n",
        "def positionRead(name):\n",
        "    positions = pd.read_csv(name + \".csv\", header=None, sep=\";\")\n",
        "    # Remove a plus ('+') sign from the end of the number\n",
        "    # positions[0][0] = positions[0][0][:-1]\n",
        "    positions[0] = positions[0].astype(float)    # Convert data to numerical value\n",
        "    return positions"
      ],
      "execution_count": 2,
      "outputs": []
    },
    {
      "cell_type": "code",
      "metadata": {
        "id": "UnR_uRWEjyKR"
      },
      "source": [
        "# Read connection table between nodes\n",
        "\n",
        "def connectionRead(name):\n",
        "    connections = pd.read_csv(name + \".csv\", header=None)\n",
        "    return connections"
      ],
      "execution_count": 3,
      "outputs": []
    },
    {
      "cell_type": "code",
      "metadata": {
        "id": "dixqK_8gSz5D"
      },
      "source": [
        "# Print out the 'list' to the 'name.csv' file \n",
        "\n",
        "def printOut(name, list):\n",
        "    with open(name + '.csv', 'w', newline='') as csv_1:\n",
        "        csv_out = csv.writer(csv_1)\n",
        "        csv_out.writerows([list[index]] for index in range(0, len(list)))"
      ],
      "execution_count": 4,
      "outputs": []
    },
    {
      "cell_type": "markdown",
      "metadata": {
        "id": "nWuDfDNJGMEs"
      },
      "source": [
        "# Read datas in"
      ]
    },
    {
      "cell_type": "code",
      "metadata": {
        "id": "xFrPm_PJGiGy"
      },
      "source": [
        "# List of position tables\n",
        "pos = []\n",
        "\n",
        "# List of connection tables\n",
        "conn = []"
      ],
      "execution_count": 5,
      "outputs": []
    },
    {
      "cell_type": "code",
      "metadata": {
        "id": "1ePPXbdxGWw2"
      },
      "source": [
        "# List of the positions of nodes\n",
        "pos.append(positionRead(\"/content/Brain31Positions\"))\n",
        "\n",
        "# List of how nodes connected to each other\n",
        "conn.append(connectionRead(\"/content/Brain31Connections\"))"
      ],
      "execution_count": 6,
      "outputs": []
    },
    {
      "cell_type": "code",
      "metadata": {
        "id": "Rd9ZFuSOGZaq"
      },
      "source": [
        "pos.append(positionRead(\"/content/Brain32Positions\"))\n",
        "conn.append(connectionRead(\"/content/Brain32Connections\"))\n",
        "\n",
        "pos.append(positionRead(\"/content/Brain33Positions\"))\n",
        "conn.append(connectionRead(\"/content/Brain33Connections\"))\n",
        "\n",
        "pos.append(positionRead(\"/content/Brain34Positions\"))\n",
        "conn.append(connectionRead(\"/content/Brain34Connections\"))\n",
        "\n",
        "pos.append(positionRead(\"/content/Brain35Positions\"))\n",
        "conn.append(connectionRead(\"/content/Brain35Connections\"))\n",
        "\n",
        "pos.append(positionRead(\"/content/Brain36Positions\"))\n",
        "conn.append(connectionRead(\"/content/Brain36Connections\"))\n",
        "\n",
        "pos.append(positionRead(\"/content/Brain37Positions\"))\n",
        "conn.append(connectionRead(\"/content/Brain37Connections\"))\n",
        "\n",
        "pos.append(positionRead(\"/content/Brain38Positions\"))\n",
        "conn.append(connectionRead(\"/content/Brain38Connections\"))\n",
        "\n",
        "pos.append(positionRead(\"/content/Brain39Positions\"))\n",
        "conn.append(connectionRead(\"/content/Brain39Connections\"))\n",
        "\n",
        "pos.append(positionRead(\"/content/Brain310Positions\"))\n",
        "conn.append(connectionRead(\"/content/Brain310Connections\"))"
      ],
      "execution_count": 7,
      "outputs": []
    },
    {
      "cell_type": "markdown",
      "metadata": {
        "id": "_P3DmJPvt56R"
      },
      "source": [
        "# Additional Methods"
      ]
    },
    {
      "cell_type": "code",
      "metadata": {
        "id": "K7lWPu8hupvO"
      },
      "source": [
        "# Calculate distance between 2 points in Euclidean space\n",
        "# Positions should be 3D (X,Y,Z) -> Dataset\n",
        "\n",
        "def Euclidean_dist(p1, p2, positions):\n",
        "    point1 = np.array((positions[0][p1], positions[1][p1], positions[2][p1]))\n",
        "    point2 = np.array((positions[0][p2], positions[1][p2], positions[2][p2]))\n",
        "    return np.linalg.norm(point1 - point2)"
      ],
      "execution_count": 8,
      "outputs": []
    },
    {
      "cell_type": "code",
      "metadata": {
        "id": "kkT3-nFUzcqw"
      },
      "source": [
        "def Euclidean_dist2D(p1, p2):\n",
        "    point1 = np.array((p1[0], p1[1]))\n",
        "    point2 = np.array((p2[0], p2[1]))\n",
        "    return np.linalg.norm(point1 - point2)"
      ],
      "execution_count": 9,
      "outputs": []
    },
    {
      "cell_type": "code",
      "metadata": {
        "id": "X3bQvXDpx9tB"
      },
      "source": [
        "def hyperbolicDist(coord1, coord2):\n",
        "  x1 = coord1[0]\n",
        "  y1 = coord1[1]\n",
        "  x2 = coord2[0]\n",
        "  y2 = coord2[1]\n",
        "\n",
        "  return np.arccosh(np.cosh(y1)*np.cosh(x2-x1)*np.cosh(y2)-np.sinh(y1)*np.sinh(y2))"
      ],
      "execution_count": 10,
      "outputs": []
    },
    {
      "cell_type": "code",
      "metadata": {
        "id": "eUx8qKdGzGqG"
      },
      "source": [
        "# Add a key-value pair to the existing dictionary\n",
        "\n",
        "def add_element(dict, key, value):\n",
        "    if key not in dict:\n",
        "        dict[key] = []\n",
        "    dict[key].append(value)"
      ],
      "execution_count": 11,
      "outputs": []
    },
    {
      "cell_type": "code",
      "metadata": {
        "id": "0vRPUCIEwdzn"
      },
      "source": [
        "# Returns with a dictionary. Key is the number of the node and \n",
        "# the value is the distant between the current node(act) and its neighbour.\n",
        "# The list is ascendant by the distance.\n",
        "\n",
        "def get_dist(act, neighbours, positions):\n",
        "    dist = {}\n",
        "    \n",
        "    for i in neighbours:\n",
        "        add_element(dist, i, Euclidean_dist(act, i, positions))\n",
        "    \n",
        "    dist = sorted(dist.items(), key=lambda x: x[1])\n",
        "    \n",
        "    return dist"
      ],
      "execution_count": 12,
      "outputs": []
    },
    {
      "cell_type": "code",
      "metadata": {
        "id": "nsSUR0fktaYy"
      },
      "source": [
        "def chooseRandomShortest(paths):\n",
        "  randomPaths = []\n",
        "\n",
        "  for i in paths:\n",
        "    randomPaths.append(random.choice(i))\n",
        "\n",
        "  return randomPaths"
      ],
      "execution_count": 13,
      "outputs": []
    },
    {
      "cell_type": "code",
      "metadata": {
        "id": "tL9t2u43ta9t"
      },
      "source": [
        "def avgEntropy(graph, routingTables):\n",
        "  sum = 0\n",
        "\n",
        "  for i in range(len(graph.nodes)):\n",
        "    routingTables[i].getNextHopsList()\n",
        "    sum += entropy(routingTables[i].nextHops)\n",
        "  \n",
        "  return (sum / len(graph.nodes))"
      ],
      "execution_count": 14,
      "outputs": []
    },
    {
      "cell_type": "code",
      "metadata": {
        "id": "bcQnKU_wuquu"
      },
      "source": [
        "def readWeightedIn(connections, positions):\n",
        "  greedyNeighbours = []\n",
        "  for i in range(len(connections)):\n",
        "    for j in range(len(connections)):\n",
        "       if connections[i][j] == 1 and i < j:\n",
        "          dist = Euclidean_dist(i,j,positions)\n",
        "          greedyNeighbours.append([i,j,dist])\n",
        "  return greedyNeighbours"
      ],
      "execution_count": 15,
      "outputs": []
    },
    {
      "cell_type": "code",
      "metadata": {
        "id": "EA6ZOlzlu5gO"
      },
      "source": [
        "def readUnweightedIn(connections):\n",
        "  neighbours = []\n",
        "  for i in range(len(connections)):\n",
        "    for j in range(len(connections)):\n",
        "      if connections[i][j] == 1 and i < j:\n",
        "        neighbours.append([i, j])\n",
        "  return neighbours"
      ],
      "execution_count": 16,
      "outputs": []
    },
    {
      "cell_type": "markdown",
      "metadata": {
        "id": "sT9XccYctiYF"
      },
      "source": [
        "# Graph algorithms"
      ]
    },
    {
      "cell_type": "code",
      "metadata": {
        "id": "yBUBtfClth1o"
      },
      "source": [
        "def findPaths(src, graph):\n",
        "  paths = []\n",
        "\n",
        "  for j in range(len(graph.G.nodes)):\n",
        "    if src!=j:\n",
        "      try:\n",
        "        path = [p for p in nx.all_shortest_paths(graph.G, source=src, target=j)]\n",
        "        paths.append(path)\n",
        "      except:\n",
        "        pass\n",
        "  \n",
        "  return paths"
      ],
      "execution_count": 17,
      "outputs": []
    },
    {
      "cell_type": "code",
      "metadata": {
        "id": "4tCxbdT0tXS2"
      },
      "source": [
        "def greedy(graph, src, dest):\n",
        "  pathsGreedy = []\n",
        "  pathsGreedy.append(src)\n",
        "  ready = False\n",
        "  act = src\n",
        "\n",
        "  while ready==False:\n",
        "    nbours = [n for n in graph.G.neighbors(act)]\n",
        "\n",
        "    # Calculates the distances of the neighbour nodes from the end node\n",
        "    dist = get_dist(dest, nbours, graph.positions)\n",
        "\n",
        "    # if the 'dest' is connected with 'act'\n",
        "    if dest in nbours:\n",
        "      pathsGreedy.append(dest)\n",
        "      return pathsGreedy\n",
        "\n",
        "    # if 'act' has no neighbours \n",
        "    elif len(nbours) == 0:\n",
        "      return \"No neighbours\"\n",
        "\n",
        "    # if 'act' has just 1 neighbour\n",
        "    elif len(nbours) == 1:\n",
        "      act = nbours[0]\n",
        "      pathsGreedy.append(act)\n",
        "\n",
        "    elif len(nbours) > 1:\n",
        "      not_found = False\n",
        "      for i in dist:\n",
        "        if i[0] not in pathsGreedy:\n",
        "          act = i[0]\n",
        "          pathsGreedy.append(act)\n",
        "          not_found = True\n",
        "          break\n",
        "      # If there are no more choosable node on the list\n",
        "      if not_found == False:\n",
        "        act = dist[0][0]\n",
        "        pathsGreedy.append(act)"
      ],
      "execution_count": 18,
      "outputs": []
    },
    {
      "cell_type": "markdown",
      "metadata": {
        "id": "bivOUOjayPVZ"
      },
      "source": [
        "# Network Generator"
      ]
    },
    {
      "cell_type": "code",
      "metadata": {
        "id": "4gy48BmpySlz"
      },
      "source": [
        "class Network:\n",
        "    def __init__(self, inputRadius):\n",
        "      self.inputRadius = inputRadius\n",
        "      self.xCoordinate = []\n",
        "      self.yCoordinate = []\n",
        "      self.coordinates = []\n",
        "      self.edges = []\n",
        "\n",
        "    def add_edge(self, src, dest):\n",
        "      edge = [src, dest]\n",
        "      self.edges.append(edge)\n",
        "\n",
        "    def growNetwork(self):\n",
        "      for i in range(len(self.coordinates)):\n",
        "        for j in range(len(self.coordinates)):\n",
        "          if self.coordinates[i] != self.coordinates[j]:\n",
        "            dist = hyperbolicDist(self.coordinates[i],self.coordinates[j])\n",
        "            if dist < self.inputRadius:\n",
        "              self.add_edge(i,j)\n",
        "\n",
        "    def generatePoint(self):\n",
        "      radius = self.inputRadius * math.sqrt(random.random())\n",
        "      theta = 2 * math.pi * random.random()\n",
        "\n",
        "      return radius * math.cos(theta), radius * math.sin(theta)\n",
        "\n",
        "    def createNodes(self, n):\n",
        "      self.xCoordinate, self.yCoordinate =  [], []\n",
        "      for i in range(n):\n",
        "          xc, yc = self.generatePoint()\n",
        "          self.xCoordinate.append(xc)\n",
        "          self.yCoordinate.append(yc)\n",
        "      self.convertCoords(n)\n",
        "\n",
        "    def convertCoords(self, n):\n",
        "        for i in range(n):\n",
        "           self.coordinates.append([self.xCoordinate[i], self.yCoordinate[i]])\n",
        "\n",
        "    def plot(self):\n",
        "        plt.figure(1)\n",
        "        plt.plot(self.xCoordinate, self.yCoordinate,'b.')\n",
        "        plt.grid('on')\n",
        "\n",
        "        x_circle = [self.inputRadius*math.cos(i) for i in np.arange(0, math.pi*2, 0.01)]\n",
        "        y_circle = [self.inputRadius*math.sin(i) for i in np.arange(0, math.pi*2, 0.01)]\n",
        "        plt.plot(x_circle, y_circle, '-k')"
      ],
      "execution_count": 19,
      "outputs": []
    },
    {
      "cell_type": "markdown",
      "metadata": {
        "id": "8c94aeeEs40d"
      },
      "source": [
        "# Classes"
      ]
    },
    {
      "cell_type": "code",
      "metadata": {
        "id": "M1AvgT_irHqX"
      },
      "source": [
        "class Graph():\n",
        "  def __init__(self):\n",
        "    self.G = nx.Graph()\n",
        "    self.nodes = self.G.nodes\n",
        "    self.positions = []\n",
        "    self.connections = []\n",
        "\n",
        "  def addConnections(self, connections):\n",
        "    self.connections = connections\n",
        "\n",
        "  def addPositions(self, positions):\n",
        "    self.positions = positions\n",
        "\n",
        "  def addWeightedEdges(self):\n",
        "    neighborList = readWeightedIn(self.connections, self.positions)\n",
        "    for i in neighborList:\n",
        "      self.G.add_edge(i[0], i[1], weight=i[2])\n",
        "\n",
        "  def addWeightedNetworkEdges(self, network):\n",
        "    for i in network.edges:\n",
        "      self.G.add_edge(i[0], i[1], weight=Euclidean_dist2D(network.coordinates[i[0]],network.coordinates[i[1]]))\n",
        "\n",
        "  def addUnweightedEdges(self):\n",
        "    neighborList = readUnweightedIn(self.connections)\n",
        "    for i in neighborList:\n",
        "      self.G.add_edge(i[0],i[1])"
      ],
      "execution_count": 20,
      "outputs": []
    },
    {
      "cell_type": "code",
      "metadata": {
        "id": "6jrBR0R0s8rC"
      },
      "source": [
        "class routingTable():\n",
        "\n",
        "  def __init__(self, nodeID, graph):\n",
        "    self.graph = graph\n",
        "    self.nodeID = nodeID\n",
        "    self.table = []\n",
        "    self.nextHops = []\n",
        "\n",
        "  def addtoTable(self, dest, nextHop):\n",
        "    self.table.append([dest, nextHop])\n",
        "\n",
        "  def findNextHop(self):\n",
        "    paths = findPaths(self.nodeID, self.graph)\n",
        "    paths = chooseRandomShortest(paths)\n",
        "    for i in paths:\n",
        "      self.addtoTable(i[-1], i[1])\n",
        "\n",
        "  def findNextHopGreedy(self):\n",
        "    paths = []\n",
        "    for i in range(len(self.graph.nodes)):\n",
        "      if self.nodeID!=i:\n",
        "        paths.append(greedy(self.graph, self.nodeID, i))\n",
        "    for i in paths:\n",
        "      self.addtoTable(i[-1], i[1])\n",
        "\n",
        "  def getNextHopsList(self):\n",
        "    self.nextHops = []\n",
        "    for i in self.table:\n",
        "      self.nextHops.append(i[1])"
      ],
      "execution_count": 21,
      "outputs": []
    },
    {
      "cell_type": "markdown",
      "metadata": {
        "id": "zNQUL8Wg2Gks"
      },
      "source": [
        "# **GREEDY ALGORITHM**"
      ]
    },
    {
      "cell_type": "code",
      "metadata": {
        "id": "wzNz7pmSC7Mn"
      },
      "source": [
        "def getGreedyEntropy(graph):\n",
        "  Ggreedy = graph\n",
        "\n",
        "  routingTablesGreedy = []\n",
        "\n",
        "  for i in Ggreedy.nodes:\n",
        "    table = routingTable(i, Ggreedy)\n",
        "    table.findNextHopGreedy()\n",
        "    routingTablesGreedy.append(table)\n",
        "\n",
        "  entropyGreedyValue = avgEntropy(Ggreedy, routingTablesGreedy)\n",
        "  return entropyGreedyValue"
      ],
      "execution_count": 22,
      "outputs": []
    },
    {
      "cell_type": "markdown",
      "metadata": {
        "id": "S923ThXR2OJv"
      },
      "source": [
        "# **RANDOM UNWEIGHTED**"
      ]
    },
    {
      "cell_type": "code",
      "metadata": {
        "id": "9WyMIeJODhHK"
      },
      "source": [
        "def getRandomEntropy(graph, iter):\n",
        "  G = graph\n",
        "\n",
        "  # Each nodes' routing table\n",
        "  routingTables = []\n",
        "\n",
        "  for j in range(iter):\n",
        "    routingtable = []\n",
        "    for i in range(len(G.nodes)):\n",
        "      table = routingTable(i,G)\n",
        "      table.findNextHop()\n",
        "      routingtable.append(table)\n",
        "    routingTables.append(routingtable)\n",
        "\n",
        "  entropyList = []\n",
        "\n",
        "  for i in routingTables:\n",
        "    entropyList.append(avgEntropy(G, i))\n",
        "    \n",
        "  return entropyList"
      ],
      "execution_count": 23,
      "outputs": []
    },
    {
      "cell_type": "markdown",
      "metadata": {
        "id": "JlqG6qMJDIxL"
      },
      "source": [
        "# **KRIUKOV GRÁFGENERÁLÁS**"
      ]
    },
    {
      "cell_type": "code",
      "metadata": {
        "id": "-5FIzkhID9Oy"
      },
      "source": [
        "# Generate network\n",
        "\n",
        "def generateNetwork(radius, nodes):\n",
        "  network = Network(radius)\n",
        "  network.createNodes(nodes)\n",
        "  network.growNetwork()\n",
        "  return network"
      ],
      "execution_count": 24,
      "outputs": []
    },
    {
      "cell_type": "markdown",
      "metadata": {
        "id": "ils7GaDbFLsz"
      },
      "source": [
        "### **Random Kriukov**"
      ]
    },
    {
      "cell_type": "code",
      "metadata": {
        "id": "Ify3yoS1EN1a"
      },
      "source": [
        "def getKriukovGraphRandomEntropy(graph, iter):\n",
        "  GKriukov = graph\n",
        "\n",
        "  # Each nodes' routing table\n",
        "  routingTablesKriukov = []\n",
        "\n",
        "  for j in range(iter):\n",
        "    routingtable = []\n",
        "    for i in range(len(GKriukov.nodes)):\n",
        "      table = routingTable(i,GKriukov)\n",
        "      table.findNextHop()\n",
        "      routingtable.append(table)\n",
        "    routingTablesKriukov.append(routingtable)\n",
        "\n",
        "  entropyListKriukov = []\n",
        "\n",
        "  for i in routingTablesKriukov:\n",
        "    entropyListKriukov.append(avgEntropy(GKriukov, i))\n",
        "\n",
        "  return entropyListKriukov"
      ],
      "execution_count": 25,
      "outputs": []
    },
    {
      "cell_type": "markdown",
      "metadata": {
        "id": "6Nlza0OGFQQo"
      },
      "source": [
        "## **Greedy Kriukov**"
      ]
    },
    {
      "cell_type": "code",
      "metadata": {
        "id": "-7RU_u2kFWDj"
      },
      "source": [
        "def getKriukovGraphGreedyEntropy(graph):\n",
        "  GKriukov = graph\n",
        "\n",
        "  routingTablesGreedyKriukov = []\n",
        "\n",
        "  for i in GKriukov.nodes:\n",
        "    table = routingTable(i, GKriukov)\n",
        "    table.findNextHopGreedy()\n",
        "    routingTablesGreedyKriukov.append(table)\n",
        "  \n",
        "  entropyGreedyKriukovValue = avgEntropy(GKriukov, routingTablesGreedyKriukov)\n",
        "  return entropyGreedyKriukovValue"
      ],
      "execution_count": 26,
      "outputs": []
    },
    {
      "cell_type": "markdown",
      "metadata": {
        "id": "nHvV4OUXHTox"
      },
      "source": [
        "# Entropies"
      ]
    },
    {
      "cell_type": "code",
      "metadata": {
        "id": "H2ZPFrkCHWKy"
      },
      "source": [
        "# Number of data tables\n",
        "batchSize = len(pos)\n",
        "# List of entropies:\n",
        "# 1. Random algorithm entropies:\n",
        "entropyRandom = []\n",
        "# 2. Greedy algorithm entropies:\n",
        "entropyGreedy = []\n",
        "# 3. Random, Kriukov generated network entropies:\n",
        "entropyRandomKriukov = []\n",
        "# 4. Greedy, Kriukov generated network entropies:\n",
        "entropyGreedyKriukov = []"
      ],
      "execution_count": 27,
      "outputs": []
    },
    {
      "cell_type": "code",
      "metadata": {
        "id": "Oa1lgwFgIEDd"
      },
      "source": [
        "for i in range(batchSize):\n",
        "  # Network, routing tables and other methods use 'positions' and 'connections' list variable through the code. \n",
        "  # These two are the current data table during the iteration\n",
        "  positions = pos[i]\n",
        "  connections = conn[i]\n",
        "  # How many nodes they include\n",
        "  nodesNumber = len(positions[0])\n",
        "\n",
        "  '''# Init Graph for random and greedy algorithms\n",
        "  G = Graph()\n",
        "  G.addConnections(connections)\n",
        "  G.addPositions(positions)\n",
        "  G.addUnweightedEdges()\n",
        "  G.addWeightedEdges()'''\n",
        "\n",
        "  # Create a network (radius = 1, nodes = nodesNumber)\n",
        "  network = generateNetwork(1, nodesNumber)\n",
        "\n",
        "  # Init Kriukov graph\n",
        "  GKriukov = Graph()\n",
        "  GKriukov.addConnections(connections)\n",
        "  GKriukov.addPositions(positions)\n",
        "  GKriukov.addWeightedNetworkEdges(network)\n",
        "\n",
        "  '''# Random and Greedy entropies\n",
        "  entropyRandom.append(getRandomEntropy(G, 10))\n",
        "  print(entropyRandom[i])\n",
        "  entropyGreedy.append(getGreedyEntropy(G))'''\n",
        "\n",
        "  # Random and Greedy on Kriukov networks\n",
        "  entropyRandomKriukov.append(getKriukovGraphRandomEntropy(GKriukov, 50))\n",
        "  entropyGreedyKriukov.append(getKriukovGraphGreedyEntropy(GKriukov))\n",
        "  print(i)"
      ],
      "execution_count": null,
      "outputs": []
    },
    {
      "cell_type": "code",
      "metadata": {
        "id": "FOl_0yOZSq9_"
      },
      "source": [
        "printOut(\"/content/folder/greedyKriukov3\", entropyGreedyKriukov)\n",
        "printOut(\"/content/folder/randomKriukov3\", entropyRandomKriukov)"
      ],
      "execution_count": null,
      "outputs": []
    },
    {
      "cell_type": "code",
      "metadata": {
        "id": "1mw95M92OdDZ"
      },
      "source": [
        "greedyPoints = np.array(entropyGreedy)\n",
        "randomPoints = np.array(entropyRandom)\n",
        "\n",
        "for i in range(len(greedyPoints)):\n",
        "  plt.figure(figsize=(20, 10))\n",
        "  plt.plot(randomPoints[i], marker = 'o', label=\"Random\")\n",
        "  plt.axhline(y=greedyPoints[i], color='r', linestyle='-', label=\"Greedy\")\n",
        "  plt.ylabel(\"Entropy\")\n",
        "  plt.xlabel(\"Brain graphs\")\n",
        "  plt.legend()\n",
        "  plt.grid()"
      ],
      "execution_count": null,
      "outputs": []
    },
    {
      "cell_type": "code",
      "metadata": {
        "id": "-FhzG5ueLyPQ"
      },
      "source": [
        "greedyKriukovpoints = np.array(entropyGreedyKriukov)\n",
        "randomKriukovpoints = np.array(entropyRandomKriukov)\n",
        "\n",
        "for i in range(len(greedyKriukovpoints)):\n",
        "  plt.figure(figsize=(20, 10))\n",
        "  plt.plot(randomKriukovpoints[i], marker = 'o', label=\"Random\")\n",
        "  plt.axhline(y=greedyKriukovpoints[i], color='r', linestyle='-', label=\"Greedy\")\n",
        "  plt.ylabel(\"Entropy\")\n",
        "  plt.xlabel(\"Kriukov graphs\")\n",
        "  plt.legend()\n",
        "  plt.grid()"
      ],
      "execution_count": null,
      "outputs": []
    }
  ]
}