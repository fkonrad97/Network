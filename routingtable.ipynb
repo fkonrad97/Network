{
  "nbformat": 4,
  "nbformat_minor": 0,
  "metadata": {
    "accelerator": "GPU",
    "colab": {
      "name": "routingtable.ipynb",
      "provenance": [],
      "authorship_tag": "ABX9TyNjUkh+GqIM5lQyPDjFkKjj",
      "include_colab_link": true
    },
    "kernelspec": {
      "display_name": "Python 3",
      "name": "python3"
    },
    "language_info": {
      "name": "python"
    }
  },
  "cells": [
    {
      "cell_type": "markdown",
      "metadata": {
        "id": "view-in-github",
        "colab_type": "text"
      },
      "source": [
        "<a href=\"https://colab.research.google.com/github/fkonrad97/Network/blob/main/routingtable.ipynb\" target=\"_parent\"><img src=\"https://colab.research.google.com/assets/colab-badge.svg\" alt=\"Open In Colab\"/></a>"
      ]
    },
    {
      "cell_type": "code",
      "metadata": {
        "id": "Y39uWwLlkAHP"
      },
      "source": [
        "import csv\n",
        "import pandas as pd\n",
        "import numpy as np\n",
        "import networkx as nx\n",
        "import random\n",
        "import math\n",
        "from scipy.stats import entropy\n",
        "import matplotlib.pyplot as plt"
      ],
      "execution_count": 89,
      "outputs": []
    },
    {
      "cell_type": "markdown",
      "metadata": {
        "id": "0qxlJ8GXqu2d"
      },
      "source": [
        "# I/O"
      ]
    },
    {
      "cell_type": "code",
      "metadata": {
        "id": "Zgxa0Wmnjyn6"
      },
      "source": [
        "# Read positions of nodes (X,Y,Z)\n",
        "\n",
        "def positionRead(name):\n",
        "    positions = pd.read_csv(name + \".csv\", header=None, sep=\";\")\n",
        "    # Remove a plus sign from the end of the number\n",
        "    positions[0][0] = positions[0][0][:-1]\n",
        "    positions[0] = positions[0].astype(float)    # Convert data to numerical value\n",
        "    return positions"
      ],
      "execution_count": 38,
      "outputs": []
    },
    {
      "cell_type": "code",
      "metadata": {
        "id": "UnR_uRWEjyKR"
      },
      "source": [
        "# Read connection table between nodes\n",
        "\n",
        "def connectionRead(name):\n",
        "    connections = pd.read_csv(name + \".csv\", header=None)\n",
        "    return connections"
      ],
      "execution_count": 39,
      "outputs": []
    },
    {
      "cell_type": "code",
      "metadata": {
        "colab": {
          "base_uri": "https://localhost:8080/"
        },
        "id": "2a3rr_jOt0F-",
        "outputId": "56a67df5-0287-4d38-d10e-614a3927d483"
      },
      "source": [
        "# List of the positions of nodes\n",
        "# positions = positionRead(\"Network/Brain_data/Brain1Positions\")\n",
        "positions = positionRead(\"/content/Brain1Positions\")\n",
        "\n",
        "# List of how nodes connected to each other\n",
        "# connections = connectionRead(\"Network/Brain_data/Brain1Connections\")\n",
        "connections = connectionRead(\"/content/Brain1Connections\")"
      ],
      "execution_count": 40,
      "outputs": [
        {
          "output_type": "stream",
          "text": [
            "/usr/local/lib/python3.7/dist-packages/ipykernel_launcher.py:6: SettingWithCopyWarning: \n",
            "A value is trying to be set on a copy of a slice from a DataFrame\n",
            "\n",
            "See the caveats in the documentation: https://pandas.pydata.org/pandas-docs/stable/user_guide/indexing.html#returning-a-view-versus-a-copy\n",
            "  \n"
          ],
          "name": "stderr"
        }
      ]
    },
    {
      "cell_type": "markdown",
      "metadata": {
        "id": "_P3DmJPvt56R"
      },
      "source": [
        "# Additional Methods"
      ]
    },
    {
      "cell_type": "code",
      "metadata": {
        "id": "K7lWPu8hupvO"
      },
      "source": [
        "# Calculate distance between 2 points in Euclidean space\n",
        "# Positions should be 3D (X,Y,Z)\n",
        "\n",
        "def Euclidean_dist(p1, p2):\n",
        "    point1 = np.array((positions[0][p1], positions[1][p1], positions[2][p1]))\n",
        "    point2 = np.array((positions[0][p2], positions[1][p2], positions[2][p2]))\n",
        "    return np.linalg.norm(point1 - point2)"
      ],
      "execution_count": 41,
      "outputs": []
    },
    {
      "cell_type": "code",
      "metadata": {
        "id": "kkT3-nFUzcqw"
      },
      "source": [
        "def Euclidean_dist2D(p1, p2):\n",
        "    point1 = np.array((p1[0], p1[1]))\n",
        "    point2 = np.array((p2[0], p2[1]))\n",
        "    return np.linalg.norm(point1 - point2)"
      ],
      "execution_count": 100,
      "outputs": []
    },
    {
      "cell_type": "code",
      "metadata": {
        "id": "X3bQvXDpx9tB"
      },
      "source": [
        "def hyperbolicDist(coord1, coord2):\n",
        "  x1 = coord1[0]\n",
        "  y1 = coord1[1]\n",
        "  x2 = coord2[0]\n",
        "  y2 = coord2[1]\n",
        "\n",
        "  return np.arccosh(np.cosh(y1)*np.cosh(x2-x1)*np.cosh(y2)-np.sinh(y1)*np.sinh(y2))"
      ],
      "execution_count": 86,
      "outputs": []
    },
    {
      "cell_type": "code",
      "metadata": {
        "id": "eUx8qKdGzGqG"
      },
      "source": [
        "# Add a key-value pair to the existing dictionary\n",
        "\n",
        "def add_element(dict, key, value):\n",
        "    if key not in dict:\n",
        "        dict[key] = []\n",
        "    dict[key].append(value)"
      ],
      "execution_count": 42,
      "outputs": []
    },
    {
      "cell_type": "code",
      "metadata": {
        "id": "0vRPUCIEwdzn"
      },
      "source": [
        "# Returns with a dictionary. Key is the number of the node and \n",
        "# the value is the distant between the current node(act) and its neighbour.\n",
        "# The list is ascendant by the distance.\n",
        "\n",
        "def get_dist(act, neighbours):\n",
        "    dist = {}\n",
        "    \n",
        "    for i in neighbours:\n",
        "        add_element(dist, i, Euclidean_dist(act, i))\n",
        "    \n",
        "    dist = sorted(dist.items(), key=lambda x: x[1])\n",
        "    \n",
        "    return dist"
      ],
      "execution_count": 43,
      "outputs": []
    },
    {
      "cell_type": "code",
      "metadata": {
        "id": "nsSUR0fktaYy"
      },
      "source": [
        "def chooseRandomShortest(paths):\n",
        "  randomPaths = []\n",
        "\n",
        "  for i in paths:\n",
        "    randomPaths.append(random.choice(i))\n",
        "\n",
        "  return randomPaths"
      ],
      "execution_count": 44,
      "outputs": []
    },
    {
      "cell_type": "code",
      "metadata": {
        "id": "tL9t2u43ta9t"
      },
      "source": [
        "def avgEntropy(graph, routingTables):\n",
        "  sum = 0\n",
        "\n",
        "  for i in range(len(graph.nodes)):\n",
        "    routingTables[i].getNextHopsList()\n",
        "    sum += entropy(routingTables[i].nextHops)\n",
        "  \n",
        "  return (sum / len(graph.nodes))"
      ],
      "execution_count": 45,
      "outputs": []
    },
    {
      "cell_type": "code",
      "metadata": {
        "id": "bcQnKU_wuquu"
      },
      "source": [
        "def readWeightedIn():\n",
        "  greedyNeighbours = []\n",
        "  for i in range(len(connections)):\n",
        "    for j in range(len(connections)):\n",
        "       if connections[i][j] == 1 and i < j:\n",
        "          dist = Euclidean_dist(i,j)\n",
        "          greedyNeighbours.append([i,j,dist])\n",
        "  return greedyNeighbours"
      ],
      "execution_count": 46,
      "outputs": []
    },
    {
      "cell_type": "code",
      "metadata": {
        "id": "EA6ZOlzlu5gO"
      },
      "source": [
        "def readUnweightedIn():\n",
        "  neighbours = []\n",
        "  for i in range(len(connections)):\n",
        "    for j in range(len(connections)):\n",
        "      if connections[i][j] == 1 and i < j:\n",
        "        neighbours.append([i, j])\n",
        "  return neighbours"
      ],
      "execution_count": 47,
      "outputs": []
    },
    {
      "cell_type": "markdown",
      "metadata": {
        "id": "sT9XccYctiYF"
      },
      "source": [
        "# Graph algorithms"
      ]
    },
    {
      "cell_type": "code",
      "metadata": {
        "id": "yBUBtfClth1o"
      },
      "source": [
        "def findPaths(src, graph):\n",
        "  paths = []\n",
        "\n",
        "  for j in range(len(graph.nodes)):\n",
        "    if src!=j:\n",
        "      path = [p for p in nx.all_shortest_paths(graph, source=src, target=j)]\n",
        "      paths.append(path)\n",
        "  \n",
        "  return paths"
      ],
      "execution_count": 48,
      "outputs": []
    },
    {
      "cell_type": "code",
      "metadata": {
        "id": "4tCxbdT0tXS2"
      },
      "source": [
        "def greedy(graph, src, dest):\n",
        "  pathsGreedy = []\n",
        "  pathsGreedy.append(src)\n",
        "  ready = False\n",
        "  act = src\n",
        "\n",
        "  while ready==False:\n",
        "    nbours = [n for n in graph.neighbors(act)]\n",
        "\n",
        "    # Calculates the distances of the neighbour nodes from the end node\n",
        "    dist = get_dist(dest, nbours)\n",
        "\n",
        "    # if the 'dest' is connected with 'act'\n",
        "    if dest in nbours:\n",
        "      pathsGreedy.append(dest)\n",
        "      return pathsGreedy\n",
        "\n",
        "    # if 'act' has no neighbours \n",
        "    elif len(nbours) == 0:\n",
        "      return \"No neighbours\"\n",
        "\n",
        "    # if 'act' has just 1 neighbour\n",
        "    elif len(neighbours) == 1:\n",
        "      act = nbours[0]\n",
        "      pathsGreedy.append(act)\n",
        "\n",
        "    elif len(nbours) > 1:\n",
        "      not_found = False\n",
        "      for i in dist:\n",
        "        if i[0] not in pathsGreedy:\n",
        "          act = i[0]\n",
        "          pathsGreedy.append(act)\n",
        "          not_found = True\n",
        "          break\n",
        "      # If there are no more choosable node on the list\n",
        "      if not_found == False:\n",
        "        act = dist[0][0]\n",
        "        pathsGreedy.append(act)"
      ],
      "execution_count": 49,
      "outputs": []
    },
    {
      "cell_type": "markdown",
      "metadata": {
        "id": "bivOUOjayPVZ"
      },
      "source": [
        "# Network Generator"
      ]
    },
    {
      "cell_type": "code",
      "metadata": {
        "id": "4gy48BmpySlz"
      },
      "source": [
        "class Network:\n",
        "    def __init__(self, inputRadius):\n",
        "      self.inputRadius = inputRadius\n",
        "      self.xCoordinate = []\n",
        "      self.yCoordinate = []\n",
        "      self.coordinates = []\n",
        "      self.edges = []\n",
        "\n",
        "    def add_edge(self, src, dest):\n",
        "      edge = [src, dest]\n",
        "      self.edges.append(edge)\n",
        "\n",
        "    def growNetwork(self):\n",
        "      for i in range(len(self.coordinates)):\n",
        "        for j in range(len(self.coordinates)):\n",
        "          if self.coordinates[i] != self.coordinates[j]:\n",
        "            dist = hyperbolicDist(self.coordinates[i],self.coordinates[j])\n",
        "            if dist < self.inputRadius:\n",
        "              self.add_edge(i,j)\n",
        "\n",
        "    def generatePoint(self):\n",
        "      radius = self.inputRadius * math.sqrt(random.random())\n",
        "      theta = 2 * math.pi * random.random()\n",
        "\n",
        "      return radius * math.cos(theta), radius * math.sin(theta)\n",
        "\n",
        "    def createNodes(self, n):\n",
        "      self.xCoordinate, self.yCoordinate =  [], []\n",
        "      for i in range(n):\n",
        "          xc, yc = self.generatePoint()\n",
        "          self.xCoordinate.append(xc)\n",
        "          self.yCoordinate.append(yc)\n",
        "      self.convertCoords(n)\n",
        "\n",
        "    def convertCoords(self, n):\n",
        "        for i in range(n):\n",
        "           self.coordinates.append([self.xCoordinate[i], self.yCoordinate[i]])\n",
        "\n",
        "    def plot(self):\n",
        "        plt.figure(1)\n",
        "        plt.plot(self.xCoordinate, self.yCoordinate,'b.')\n",
        "        plt.grid('on')\n",
        "\n",
        "        x_circle = [self.inputRadius*math.cos(i) for i in np.arange(0, math.pi*2, 0.01)]\n",
        "        y_circle = [self.inputRadius*math.sin(i) for i in np.arange(0, math.pi*2, 0.01)]\n",
        "        plt.plot(x_circle, y_circle, '-k')"
      ],
      "execution_count": 87,
      "outputs": []
    },
    {
      "cell_type": "markdown",
      "metadata": {
        "id": "8c94aeeEs40d"
      },
      "source": [
        "# Classes"
      ]
    },
    {
      "cell_type": "code",
      "metadata": {
        "id": "M1AvgT_irHqX"
      },
      "source": [
        "class Graph():\n",
        "  def __init__(self,):\n",
        "    self.G = nx.Graph()\n",
        "    self.nodes = self.G.nodes\n",
        "\n",
        "  def addWeightedEdges(self):\n",
        "    neighborList = readWeightedIn()\n",
        "    for i in neighborList:\n",
        "      self.G.add_edge(i[0], i[1], weight=i[2])\n",
        "\n",
        "  def addWeightedNetworkEdges(self, network):\n",
        "    for i in network.edges:\n",
        "      self.G.add_edge(i[0], i[1], weight=Euclidean_dist2D(network.coordinates[i[0]],network.coordinates[i[1]]))\n",
        "\n",
        "  def addUnweightedEdges(self):\n",
        "    neighborList = readUnweightedIn()\n",
        "    for i in neighborList:\n",
        "      self.G.add_edge(i[0],i[1])"
      ],
      "execution_count": 149,
      "outputs": []
    },
    {
      "cell_type": "code",
      "metadata": {
        "id": "6jrBR0R0s8rC"
      },
      "source": [
        "class routingTable():\n",
        "\n",
        "  def __init__(self, nodeID, graph):\n",
        "    self.graph = graph.G\n",
        "    self.nodeID = nodeID\n",
        "    self.table = []\n",
        "    self.nextHops = []\n",
        "\n",
        "  def addtoTable(self, dest, nextHop):\n",
        "    self.table.append([dest, nextHop])\n",
        "\n",
        "  def findNextHop(self):\n",
        "    paths = findPaths(self.nodeID, self.graph)\n",
        "    paths = chooseRandomShortest(paths)\n",
        "    for i in paths:\n",
        "      self.addtoTable(i[-1], i[1])\n",
        "\n",
        "  def findNextHopGreedy(self):\n",
        "    paths = []\n",
        "    for i in range(len(self.graph.nodes)):\n",
        "      if self.nodeID!=i:\n",
        "        paths.append(greedy(self.graph, self.nodeID, i))\n",
        "    for i in paths:\n",
        "      self.addtoTable(i[-1], i[1])\n",
        "\n",
        "  def getNextHopsList(self):\n",
        "    self.nextHops = []\n",
        "    for i in self.table:\n",
        "      self.nextHops.append(i[1])"
      ],
      "execution_count": 150,
      "outputs": []
    },
    {
      "cell_type": "markdown",
      "metadata": {
        "id": "zNQUL8Wg2Gks"
      },
      "source": [
        "# **GREEDY ALGORITHM**"
      ]
    },
    {
      "cell_type": "code",
      "metadata": {
        "id": "jqS5tMeTt_KY"
      },
      "source": [
        "Ggreedy = Graph()\n",
        "Ggreedy.addWeightedEdges()\n",
        "\n",
        "routingTablesGreedy = []\n",
        "\n",
        "for i in Ggreedy.nodes:\n",
        "  table = routingTable(i, Ggreedy)\n",
        "  table.findNextHopGreedy()\n",
        "  routingTablesGreedy.append(table)"
      ],
      "execution_count": 186,
      "outputs": []
    },
    {
      "cell_type": "code",
      "metadata": {
        "colab": {
          "base_uri": "https://localhost:8080/"
        },
        "id": "DB-KNG3F9rGN",
        "outputId": "e0bec248-bf01-41ad-9f7a-ab4aba43c4a1"
      },
      "source": [
        "entropyGreedyValue = avgEntropy(Ggreedy, routingTablesGreedy)\n",
        "entropyGreedyValue"
      ],
      "execution_count": 187,
      "outputs": [
        {
          "output_type": "execute_result",
          "data": {
            "text/plain": [
              "4.24936333658451"
            ]
          },
          "metadata": {
            "tags": []
          },
          "execution_count": 187
        }
      ]
    },
    {
      "cell_type": "markdown",
      "metadata": {
        "id": "S923ThXR2OJv"
      },
      "source": [
        "# **RANDOM UNWEIGHTED**"
      ]
    },
    {
      "cell_type": "code",
      "metadata": {
        "id": "PXVPLb49kZXh"
      },
      "source": [
        "G = Graph()\n",
        "G.addUnweightedEdges()"
      ],
      "execution_count": 151,
      "outputs": []
    },
    {
      "cell_type": "code",
      "metadata": {
        "id": "9cdZ7DTDhCra"
      },
      "source": [
        "# Each nodes' routing table\n",
        "routingTables = []\n",
        "\n",
        "for j in range(10):\n",
        "  routingtable = []\n",
        "  for i in range(len(G.nodes)):\n",
        "    table = routingTable(i,G)\n",
        "    table.findNextHop()\n",
        "    routingtable.append(table)\n",
        "  routingTables.append(routingtable)"
      ],
      "execution_count": 152,
      "outputs": []
    },
    {
      "cell_type": "code",
      "metadata": {
        "id": "gV3DrzXeo1X9"
      },
      "source": [
        "entropyList = []\n",
        "\n",
        "for i in routingTables:\n",
        "  entropyList.append(avgEntropy(G, i))"
      ],
      "execution_count": 153,
      "outputs": []
    },
    {
      "cell_type": "code",
      "metadata": {
        "colab": {
          "base_uri": "https://localhost:8080/"
        },
        "id": "5Qcb5QHF5tOO",
        "outputId": "29f0ddc6-b969-4567-8590-e90d7e58cdd1"
      },
      "source": [
        "entropyList"
      ],
      "execution_count": 154,
      "outputs": [
        {
          "output_type": "execute_result",
          "data": {
            "text/plain": [
              "[4.247159897923012,\n",
              " 4.243380647231356,\n",
              " 4.245625983444261,\n",
              " 4.2454031474109035,\n",
              " 4.250961701933616,\n",
              " 4.244489160037206,\n",
              " 4.249741906662836,\n",
              " 4.2444784823750865,\n",
              " 4.245301248842816,\n",
              " 4.2479182219173826]"
            ]
          },
          "metadata": {
            "tags": []
          },
          "execution_count": 154
        }
      ]
    },
    {
      "cell_type": "markdown",
      "metadata": {
        "id": "JlqG6qMJDIxL"
      },
      "source": [
        "# **KRIUKOV GRÁFGENERÁLÁS**"
      ]
    },
    {
      "cell_type": "code",
      "metadata": {
        "colab": {
          "base_uri": "https://localhost:8080/",
          "height": 303
        },
        "id": "ExbS1TJtx_w3",
        "outputId": "cf3e74b1-2e3a-4e2d-c046-908183441a92"
      },
      "source": [
        "# Generate network\n",
        "\n",
        "network = Network(1)\n",
        "network.createNodes(83)\n",
        "network.growNetwork()\n",
        "network.plot()"
      ],
      "execution_count": 97,
      "outputs": [
        {
          "output_type": "stream",
          "text": [
            "[[-0.5686444381745462, 0.37952928776694433], [0.2774210542579096, -0.31182772653373114], [0.17718531658395575, -0.30871828225027576], [0.8379180614063796, 0.4521893047840277], [-0.5468903529701604, 0.20856766872897925], [-0.6358911321889024, -0.5198033918637169], [0.21255252688297827, 0.9100643691417764], [0.6591606169002875, 0.6988007917573803], [-0.6799259206824967, -0.4479248770596952], [0.6731591002976489, -0.34285824586968566], [0.6691002379332474, -0.3105328002416141], [0.40869989229749554, -0.3515155130504631], [0.4225685909430719, 0.43479861446916374], [-0.5385532734436975, -0.6942612931761671], [0.2450797629278301, -0.8038247240074735], [-0.004497872122935887, -0.7544474772257689], [0.17356857617835153, 0.4556811554789305], [-0.00573226055046138, 0.9382401009580911], [-0.3075264341871765, 0.16344791704731262], [-0.5058564634615792, 0.8111406289500614], [-0.7486007020893993, -0.3379492879467924], [0.34286879521566777, -0.9371889556418636], [-0.8733746434576418, -0.062239693849047234], [-0.5599504296359986, -0.8225355763113368], [-0.14051732601351247, 0.21300888247448385], [0.20156636806734604, 0.29258074200369083], [-0.3074743272999232, 0.17112986690058152], [0.03943449212605111, -0.3421910783243445], [-0.20383557648550585, -0.8802528989601508], [-0.6508207245747136, -0.19617361701532593], [-0.7625800431402017, -0.5326158026754392], [0.7373910027188473, -0.36213442559006676], [0.648421019078747, -0.7497193817529749], [0.036029876385988126, -0.6433927143913568], [-0.8794073769518326, -0.3742692452644527], [0.2212838836158233, 0.528831679909585], [0.014267739897973085, -0.07112396698327936], [0.7801890571060107, 0.5922444493423369], [-0.8822236857911188, 0.2811442037304778], [0.1657924653428912, -0.7344382461426385], [0.724230550494001, 0.3129066647148189], [0.47988923950479584, -0.6922528795193296], [0.39088243648635496, 0.10960969916902259], [-0.4648924705907768, 0.737868643392805], [0.6614983713096978, 0.2009095916133474], [0.09385924625255321, 0.9316609869340379], [0.2029791300029771, 0.4165638957129249], [0.18522891237748487, -0.6566762421414806], [0.6602311922850755, 0.3663402962381089], [-0.5168632868959009, -0.28429046371797956], [0.19903782419462454, -0.6175839769710305], [0.538739976731555, 0.6098609110480052], [-0.005465300008985845, 0.45681273944075124], [-0.5676359916515943, -0.23030531218526157], [0.024572834443090805, 0.1545177347753495], [-0.8130455770075237, -0.15606726333616872], [-0.287080067750522, -0.25562841625140487], [-0.8184616010132031, -0.4203765275400582], [-0.7647748191573134, 0.3099840196335341], [-0.7060475805847217, 0.5844526011614399], [0.5721291652253113, -0.345635885968361], [-0.09712457488321669, -0.37253600558946603], [0.33481095021569174, 0.9074014652573721], [0.3943681614092877, 0.33033333486492256], [0.6857688957559551, 0.41613675118922344], [-0.05061379918725038, 0.6459458586248479], [0.8298525148581165, -0.2761764302225485], [-0.7745627251053329, 0.5149518181100957], [-0.1785195959085528, 0.18384009101827944], [-0.1193812864172354, -0.42708553872380095], [-0.3270510465976089, -0.6633864669014304], [0.23981266571237275, 0.7210632827138082], [0.42726178233197576, 0.4040905645097202], [0.9104955564061201, 0.38868526676560633], [-0.01708731065185205, -0.2787132357939386], [0.882459467732276, -0.2166682814735152], [0.13897927842363667, 0.6254191701294547], [0.4947417361762337, 0.4044513087991697], [-0.6600256601985549, -0.7139229388947292], [-0.33989243357429477, 0.049468502279864386], [-0.7026774828822786, -0.6813810184793321], [0.5204747959011637, -0.8227481305316379], [-0.6962778732214014, -0.11304911543867172]]\n"
          ],
          "name": "stdout"
        },
        {
          "output_type": "display_data",
          "data": {
            "image/png": "[encoded data removed]",
            "text/plain": [
              "<Figure size 432x288 with 1 Axes>"
            ]
          },
          "metadata": {
            "tags": [],
            "needs_background": "light"
          }
        }
      ]
    },
    {
      "cell_type": "code",
      "metadata": {
        "colab": {
          "base_uri": "https://localhost:8080/"
        },
        "id": "YKuXWe9AzHwc",
        "outputId": "9ec454c2-333d-4da2-8a88-fb30b4a11fa8"
      },
      "source": [
        "GKriukov = Graph()\n",
        "GKriukov.addWeightedEdges(network)"
      ],
      "execution_count": 123,
      "outputs": [
        {
          "output_type": "execute_result",
          "data": {
            "text/plain": [
              "EdgeView([(0, 4), (0, 5), (0, 8), (0, 16), (0, 17), (0, 18), (0, 19), (0, 20), (0, 22), (0, 24), (0, 25), (0, 26), (0, 27), (0, 29), (0, 30), (0, 34), (0, 35), (0, 36), (0, 38), (0, 43), (0, 45), (0, 46), (0, 49), (0, 52), (0, 53), (0, 54), (0, 55), (0, 56), (0, 57), (0, 58), (0, 59), (0, 61), (0, 65), (0, 67), (0, 68), (0, 69), (0, 71), (0, 74), (0, 76), (0, 79), (0, 82), (4, 1), (4, 2), (4, 5), (4, 8), (4, 13), (4, 16), (4, 17), (4, 18), (4, 19), (4, 20), (4, 22), (4, 24), (4, 25), (4, 26), (4, 27), (4, 29), (4, 30), (4, 34), (4, 35), (4, 36), (4, 38), (4, 42), (4, 43), (4, 46), (4, 49), (4, 52), (4, 53), (4, 54), (4, 55), (4, 56), (4, 57), (4, 58), (4, 59), (4, 61), (4, 63), (4, 65), (4, 67), (4, 68), (4, 69), (4, 70), (4, 74), (4, 76), (4, 78), (4, 79), (4, 80), (4, 82), (5, 2), (5, 8), (5, 13), (5, 15), (5, 18), (5, 20), (5, 22), (5, 23), (5, 24), (5, 26), (5, 27), (5, 28), (5, 29), (5, 30), (5, 33), (5, 34), (5, 36), (5, 38), (5, 39), (5, 47), (5, 49), (5, 50), (5, 53), (5, 54), (5, 55), (5, 56), (5, 57), (5, 58), (5, 61), (5, 68), (5, 69), (5, 70), (5, 74), (5, 78), (5, 79), (5, 80), (5, 82), (8, 2), (8, 13), (8, 15), (8, 18), (8, 20), (8, 22), (8, 23), (8, 24), (8, 26), (8, 27), (8, 28), (8, 29), (8, 30), (8, 33), (8, 34), (8, 36), (8, 38), (8, 49), (8, 53), (8, 54), (8, 55), (8, 56), (8, 57), (8, 58), (8, 61), (8, 67), (8, 68), (8, 69), (8, 70), (8, 74), (8, 78), (8, 79), (8, 80), (8, 82), (16, 1), (16, 2), (16, 3), (16, 6), (16, 7), (16, 9), (16, 10), (16, 11), (16, 12), (16, 17), (16, 18), (16, 19), (16, 24), (16, 25), (16, 26), (16, 27), (16, 35), (16, 36), (16, 37), (16, 40), (16, 42), (16, 43), (16, 44), (16, 45), (16, 46), (16, 48), (16, 51), (16, 52), (16, 54), (16, 56), (16, 60), (16, 61), (16, 62), (16, 63), (16, 64), (16, 65), (16, 66), (16, 68), (16, 69), (16, 71), (16, 72), (16, 73), (16, 74), (16, 75), (16, 76), (16, 77), (16, 79), (17, 6), (17, 7), (17, 12), (17, 18), (17, 19), (17, 24), (17, 25), (17, 26), (17, 35), (17, 42), (17, 43), (17, 45), (17, 46), (17, 48), (17, 51), (17, 52), (17, 54), (17, 59), (17, 62), (17, 63), (17, 64), (17, 65), (17, 68), (17, 71), (17, 72), (17, 76), (17, 77), (17, 79), (18, 1), (18, 2), (18, 6), (18, 11), (18, 12), (18, 13), (18, 15), (18, 19), (18, 20), (18, 22), (18, 24), (18, 25), (18, 26), (18, 27), (18, 29), (18, 30), (18, 33), (18, 34), (18, 35), (18, 36), (18, 38), (18, 42), (18, 43), (18, 44), (18, 45), (18, 46), (18, 47), (18, 49), (18, 50), (18, 52), (18, 53), (18, 54), (18, 55), (18, 56), (18, 57), (18, 58), (18, 59), (18, 61), (18, 63), (18, 65), (18, 67), (18, 68), (18, 69), (18, 70), (18, 71), (18, 72), (18, 74), (18, 76), (18, 77), (18, 78), (18, 79), (18, 80), (18, 82), (19, 6), (19, 22), (19, 24), (19, 25), (19, 26), (19, 35), (19, 38), (19, 43), (19, 45), (19, 46), (19, 52), (19, 54), (19, 58), (19, 59), (19, 65), (19, 67), (19, 68), (19, 71), (19, 76), (19, 79), (19, 82), (20, 2), (20, 13), (20, 15), (20, 22), (20, 23), (20, 24), (20, 26), (20, 27), (20, 28), (20, 29), (20, 30), (20, 33), (20, 34), (20, 36), (20, 38), (20, 49), (20, 53), (20, 54), (20, 55), (20, 56), (20, 57), (20, 58), (20, 59), (20, 61), (20, 67), (20, 68), (20, 69), (20, 70), (20, 74), (20, 78), (20, 79), (20, 80), (20, 82), (22, 13), (22, 23), (22, 24), (22, 26), (22, 27), (22, 29), (22, 30), (22, 34), (22, 36), (22, 38), (22, 43), (22, 49), (22, 53), (22, 54), (22, 55), (22, 56), (22, 57), (22, 58), (22, 59), (22, 61), (22, 67), (22, 68), (22, 69), (22, 70), (22, 74), (22, 78), (22, 79), (22, 80), (22, 82), (24, 1), (24, 2), (24, 6), (24, 9), (24, 10), (24, 11), (24, 12), (24, 15), (24, 25), (24, 26), (24, 27), (24, 29), (24, 30), (24, 33), (24, 34), (24, 35), (24, 36), (24, 38), (24, 40), (24, 42), (24, 43), (24, 44), (24, 45), (24, 46), (24, 47), (24, 48), (24, 49), (24, 50), (24, 51), (24, 52), (24, 53), (24, 54), (24, 55), (24, 56), (24, 57), (24, 58), (24, 59), (24, 60), (24, 61), (24, 62), (24, 63), (24, 64), (24, 65), (24, 67), (24, 68), (24, 69), (24, 70), (24, 71), (24, 72), (24, 74), (24, 76), (24, 77), (24, 79), (24, 82), (25, 1), (25, 2), (25, 3), (25, 6), (25, 7), (25, 9), (25, 10), (25, 11), (25, 12), (25, 26), (25, 27), (25, 29), (25, 31), (25, 33), (25, 35), (25, 36), (25, 37), (25, 40), (25, 42), (25, 43), (25, 44), (25, 45), (25, 46), (25, 47), (25, 48), (25, 49), (25, 50), (25, 51), (25, 52), (25, 53), (25, 54), (25, 56), (25, 60), (25, 61), (25, 62), (25, 63), (25, 64), (25, 65), (25, 66), (25, 68), (25, 69), (25, 71), (25, 72), (25, 73), (25, 74), (25, 75), (25, 76), (25, 77), (25, 79), (25, 82), (26, 1), (26, 2), (26, 6), (26, 11), (26, 12), (26, 13), (26, 15), (26, 27), (26, 29), (26, 30), (26, 33), (26, 34), (26, 35), (26, 36), (26, 38), (26, 42), (26, 43), (26, 44), (26, 45), (26, 46), (26, 47), (26, 49), (26, 50), (26, 52), (26, 53), (26, 54), (26, 55), (26, 56), (26, 57), (26, 58), (26, 59), (26, 61), (26, 63), (26, 65), (26, 67), (26, 68), (26, 69), (26, 70), (26, 71), (26, 72), (26, 74), (26, 76), (26, 77), (26, 78), (26, 79), (26, 80), (26, 82), (27, 1), (27, 2), (27, 9), (27, 10), (27, 11), (27, 12), (27, 13), (27, 14), (27, 15), (27, 21), (27, 23), (27, 28), (27, 29), (27, 30), (27, 31), (27, 32), (27, 33), (27, 34), (27, 35), (27, 36), (27, 39), (27, 40), (27, 41), (27, 42), (27, 44), (27, 46), (27, 47), (27, 48), (27, 49), (27, 50), (27, 52), (27, 53), (27, 54), (27, 55), (27, 56), (27, 57), (27, 60), (27, 61), (27, 63), (27, 65), (27, 66), (27, 68), (27, 69), (27, 70), (27, 72), (27, 74), (27, 75), (27, 76), (27, 77), (27, 78), (27, 79), (27, 80), (27, 81), (27, 82), (29, 1), (29, 2), (29, 13), (29, 15), (29, 23), (29, 28), (29, 30), (29, 33), (29, 34), (29, 36), (29, 38), (29, 43), (29, 49), (29, 52), (29, 53), (29, 54), (29, 55), (29, 56), (29, 57), (29, 58), (29, 59), (29, 61), (29, 67), (29, 68), (29, 69), (29, 70), (29, 74), (29, 78), (29, 79), (29, 80), (29, 82), (30, 13), (30, 15), (30, 23), (30, 28), (30, 33), (30, 34), (30, 36), (30, 38), (30, 49), (30, 53), (30, 55), (30, 56), (30, 57), (30, 58), (30, 61), (30, 68), (30, 69), (30, 70), (30, 74), (30, 78), (30, 79), (30, 80), (30, 82), (34, 13), (34, 23), (34, 28), (34, 36), (34, 38), (34, 49), (34, 53), (34, 55), (34, 56), (34, 57), (34, 58), (34, 59), (34, 61), (34, 67), (34, 68), (34, 69), (34, 70), (34, 74), (34, 78), (34, 79), (34, 80), (34, 82), (35, 1), (35, 2), (35, 3), (35, 6), (35, 7), (35, 9), (35, 10), (35, 11), (35, 12), (35, 36), (35, 37), (35, 40), (35, 42), (35, 43), (35, 44), (35, 45), (35, 46), (35, 48), (35, 51), (35, 52), (35, 54), (35, 56), (35, 60), (35, 61), (35, 62), (35, 63), (35, 64), (35, 65), (35, 68), (35, 71), (35, 72), (35, 73), (35, 74), (35, 76), (35, 77), (35, 79), (36, 1), (36, 2), (36, 3), (36, 9), (36, 10), (36, 11), (36, 12), (36, 13), (36, 14), (36, 15), (36, 21), (36, 23), (36, 28), (36, 31), (36, 32), (36, 33), (36, 38), (36, 39), (36, 40), (36, 41), (36, 42), (36, 43), (36, 44), (36, 46), (36, 47), (36, 48), (36, 49), (36, 50), (36, 51), (36, 52), (36, 53), (36, 54), (36, 55), (36, 56), (36, 57), (36, 58), (36, 59), (36, 60), (36, 61), (36, 63), (36, 64), (36, 65), (36, 66), (36, 68), (36, 69), (36, 70), (36, 71), (36, 72), (36, 74), (36, 75), (36, 76), (36, 77), (36, 78), (36, 79), (36, 80), (36, 81), (36, 82), (38, 43), (38, 49), (38, 52), (38, 53), (38, 54), (38, 55), (38, 56), (38, 57), (38, 58), (38, 59), (38, 65), (38, 67), (38, 68), (38, 79), (38, 80), (38, 82), (43, 6), (43, 45), (43, 46), (43, 52), (43, 53), (43, 54), (43, 55), (43, 58), (43, 59), (43, 65), (43, 67), (43, 68), (43, 71), (43, 76), (43, 79), (43, 82), (45, 6), (45, 7), (45, 12), (45, 37), (45, 40), (45, 42), (45, 44), (45, 46), (45, 48), (45, 51), (45, 52), (45, 54), (45, 62), (45, 63), (45, 64), (45, 65), (45, 68), (45, 71), (45, 72), (45, 76), (45, 77), (46, 1), (46, 2), (46, 3), (46, 6), (46, 7), (46, 9), (46, 10), (46, 11), (46, 12), (46, 31), (46, 37), (46, 40), (46, 42), (46, 44), (46, 48), (46, 51), (46, 52), (46, 54), (46, 56), (46, 60), (46, 61), (46, 62), (46, 63), (46, 64), (46, 65), (46, 66), (46, 68), (46, 69), (46, 71), (46, 72), (46, 73), (46, 74), (46, 75), (46, 76), (46, 77), (46, 79), (49, 1), (49, 2), (49, 11), (49, 13), (49, 15), (49, 23), (49, 28), (49, 33), (49, 39), (49, 42), (49, 47), (49, 50), (49, 52), (49, 53), (49, 54), (49, 55), (49, 56), (49, 57), (49, 58), (49, 59), (49, 61), (49, 67), (49, 68), (49, 69), (49, 70), (49, 74), (49, 78), (49, 79), (49, 80), (49, 82), (52, 1), (52, 2), (52, 3), (52, 6), (52, 7), (52, 11), (52, 12), (52, 37), (52, 40), (52, 42), (52, 44), (52, 48), (52, 51), (52, 53), (52, 54), (52, 56), (52, 58), (52, 59), (52, 60), (52, 61), (52, 62), (52, 63), (52, 64), (52, 65), (52, 67), (52, 68), (52, 69), (52, 71), (52, 72), (52, 73), (52, 74), (52, 76), (52, 77), (52, 79), (52, 82), (53, 1), (53, 2), (53, 13), (53, 15), (53, 23), (53, 28), (53, 33), (53, 39), (53, 47), (53, 50), (53, 54), (53, 55), (53, 56), (53, 57), (53, 58), (53, 59), (53, 61), (53, 67), (53, 68), (53, 69), (53, 70), (53, 74), (53, 78), (53, 79), (53, 80), (53, 82), (54, 1), (54, 2), (54, 3), (54, 6), (54, 7), (54, 9), (54, 10), (54, 11), (54, 12), (54, 14), (54, 15), (54, 31), (54, 33), (54, 37), (54, 39), (54, 40), (54, 41), (54, 42), (54, 44), (54, 47), (54, 48), (54, 50), (54, 51), (54, 55), (54, 56), (54, 58), (54, 59), (54, 60), (54, 61), (54, 62), (54, 63), (54, 64), (54, 65), (54, 66), (54, 67), (54, 68), (54, 69), (54, 70), (54, 71), (54, 72), (54, 73), (54, 74), (54, 75), (54, 76), (54, 77), (54, 79), (54, 82), (55, 13), (55, 23), (55, 56), (55, 57), (55, 58), (55, 59), (55, 61), (55, 67), (55, 68), (55, 69), (55, 70), (55, 74), (55, 78), (55, 79), (55, 80), (55, 82), (56, 1), (56, 2), (56, 10), (56, 11), (56, 13), (56, 14), (56, 15), (56, 23), (56, 28), (56, 33), (56, 39), (56, 41), (56, 42), (56, 47), (56, 50), (56, 57), (56, 58), (56, 59), (56, 60), (56, 61), (56, 63), (56, 65), (56, 67), (56, 68), (56, 69), (56, 70), (56, 72), (56, 74), (56, 76), (56, 78), (56, 79), (56, 80), (56, 82), (57, 13), (57, 23), (57, 28), (57, 33), (57, 58), (57, 61), (57, 67), (57, 68), (57, 69), (57, 70), (57, 74), (57, 78), (57, 79), (57, 80), (57, 82), (58, 59), (58, 61), (58, 65), (58, 67), (58, 68), (58, 69), (58, 74), (58, 79), (58, 80), (58, 82), (59, 65), (59, 67), (59, 68), (59, 76), (59, 79), (59, 82), (61, 1), (61, 2), (61, 9), (61, 10), (61, 11), (61, 12), (61, 13), (61, 14), (61, 15), (61, 21), (61, 23), (61, 28), (61, 31), (61, 32), (61, 33), (61, 39), (61, 41), (61, 42), (61, 44), (61, 47), (61, 50), (61, 60), (61, 63), (61, 66), (61, 68), (61, 69), (61, 70), (61, 72), (61, 74), (61, 77), (61, 78), (61, 79), (61, 80), (61, 81), (61, 82), (65, 2), (65, 6), (65, 7), (65, 12), (65, 37), (65, 40), (65, 42), (65, 44), (65, 48), (65, 51), (65, 62), (65, 63), (65, 64), (65, 67), (65, 68), (65, 71), (65, 72), (65, 74), (65, 76), (65, 77), (65, 79), (67, 68), (67, 79), (67, 82), (68, 1), (68, 2), (68, 6), (68, 10), (68, 11), (68, 12), (68, 13), (68, 15), (68, 33), (68, 39), (68, 40), (68, 42), (68, 44), (68, 47), (68, 48), (68, 50), (68, 51), (68, 60), (68, 62), (68, 63), (68, 64), (68, 69), (68, 70), (68, 71), (68, 72), (68, 74), (68, 76), (68, 77), (68, 79), (68, 82), (69, 1), (69, 2), (69, 9), (69, 10), (69, 11), (69, 13), (69, 14), (69, 15), (69, 21), (69, 23), (69, 28), (69, 31), (69, 32), (69, 33), (69, 39), (69, 41), (69, 42), (69, 47), (69, 50), (69, 60), (69, 63), (69, 70), (69, 74), (69, 78), (69, 79), (69, 80), (69, 81), (69, 82), (71, 3), (71, 6), (71, 7), (71, 12), (71, 37), (71, 40), (71, 42), (71, 44), (71, 48), (71, 51), (71, 62), (71, 63), (71, 64), (71, 72), (71, 73), (71, 76), (71, 77), (71, 79), (74, 1), (74, 2), (74, 9), (74, 10), (74, 11), (74, 12), (74, 13), (74, 14), (74, 15), (74, 21), (74, 23), (74, 28), (74, 31), (74, 32), (74, 33), (74, 39), (74, 40), (74, 41), (74, 42), (74, 44), (74, 47), (74, 48), (74, 50), (74, 60), (74, 63), (74, 64), (74, 66), (74, 70), (74, 72), (74, 75), (74, 76), (74, 77), (74, 78), (74, 79), (74, 80), (74, 81), (74, 82), (76, 1), (76, 2), (76, 3), (76, 6), (76, 7), (76, 12), (76, 37), (76, 40), (76, 42), (76, 44), (76, 48), (76, 51), (76, 62), (76, 63), (76, 64), (76, 72), (76, 73), (76, 77), (76, 79), (79, 1), (79, 2), (79, 11), (79, 12), (79, 13), (79, 15), (79, 23), (79, 28), (79, 33), (79, 39), (79, 42), (79, 47), (79, 50), (79, 63), (79, 70), (79, 72), (79, 77), (79, 78), (79, 80), (79, 82), (82, 2), (82, 13), (82, 15), (82, 23), (82, 28), (82, 33), (82, 70), (82, 78), (82, 80), (1, 2), (1, 3), (1, 9), (1, 10), (1, 11), (1, 12), (1, 13), (1, 14), (1, 15), (1, 21), (1, 28), (1, 31), (1, 32), (1, 33), (1, 39), (1, 40), (1, 41), (1, 42), (1, 44), (1, 47), (1, 48), (1, 50), (1, 51), (1, 60), (1, 63), (1, 64), (1, 66), (1, 70), (1, 72), (1, 73), (1, 75), (1, 77), (1, 81), (2, 9), (2, 10), (2, 11), (2, 12), (2, 13), (2, 14), (2, 15), (2, 21), (2, 23), (2, 28), (2, 31), (2, 32), (2, 33), (2, 39), (2, 40), (2, 41), (2, 42), (2, 44), (2, 47), (2, 48), (2, 50), (2, 51), (2, 60), (2, 63), (2, 64), (2, 66), (2, 70), (2, 72), (2, 75), (2, 77), (2, 81), (3, 6), (3, 7), (3, 9), (3, 10), (3, 11), (3, 12), (3, 31), (3, 37), (3, 40), (3, 42), (3, 44), (3, 48), (3, 51), (3, 60), (3, 62), (3, 63), (3, 64), (3, 66), (3, 72), (3, 73), (3, 75), (3, 77), (9, 10), (9, 11), (9, 12), (9, 14), (9, 15), (9, 21), (9, 31), (9, 32), (9, 33), (9, 37), (9, 39), (9, 40), (9, 41), (9, 42), (9, 44), (9, 47), (9, 48), (9, 50), (9, 51), (9, 60), (9, 63), (9, 64), (9, 66), (9, 72), (9, 73), (9, 75), (9, 77), (9, 81), (10, 11), (10, 12), (10, 14), (10, 15), (10, 21), (10, 31), (10, 32), (10, 33), (10, 37), (10, 39), (10, 40), (10, 41), (10, 42), (10, 44), (10, 47), (10, 48), (10, 50), (10, 51), (10, 60), (10, 63), (10, 64), (10, 66), (10, 72), (10, 73), (10, 75), (10, 77), (10, 81), (11, 12), (11, 14), (11, 15), (11, 21), (11, 28), (11, 31), (11, 32), (11, 33), (11, 39), (11, 40), (11, 41), (11, 42), (11, 44), (11, 47), (11, 48), (11, 50), (11, 51), (11, 60), (11, 63), (11, 64), (11, 66), (11, 70), (11, 72), (11, 73), (11, 75), (11, 77), (11, 81), (12, 6), (12, 7), (12, 31), (12, 37), (12, 40), (12, 42), (12, 44), (12, 48), (12, 51), (12, 60), (12, 62), (12, 63), (12, 64), (12, 66), (12, 72), (12, 73), (12, 75), (12, 77), (13, 15), (13, 23), (13, 28), (13, 33), (13, 39), (13, 47), (13, 50), (13, 70), (13, 78), (13, 80), (14, 15), (14, 21), (14, 28), (14, 31), (14, 32), (14, 33), (14, 39), (14, 41), (14, 42), (14, 47), (14, 50), (14, 60), (14, 66), (14, 70), (14, 75), (14, 81), (15, 21), (15, 23), (15, 28), (15, 31), (15, 32), (15, 33), (15, 39), (15, 41), (15, 42), (15, 47), (15, 50), (15, 60), (15, 70), (15, 78), (15, 80), (15, 81), (21, 28), (21, 31), (21, 32), (21, 33), (21, 39), (21, 41), (21, 47), (21, 50), (21, 60), (21, 66), (21, 70), (21, 75), (21, 81), (28, 23), (28, 33), (28, 39), (28, 41), (28, 47), (28, 50), (28, 70), (28, 78), (28, 80), (28, 81), (31, 32), (31, 33), (31, 37), (31, 39), (31, 40), (31, 41), (31, 42), (31, 44), (31, 47), (31, 48), (31, 50), (31, 51), (31, 60), (31, 63), (31, 64), (31, 66), (31, 72), (31, 73), (31, 75), (31, 77), (31, 81), (32, 33), (32, 39), (32, 41), (32, 42), (32, 44), (32, 47), (32, 50), (32, 60), (32, 66), (32, 75), (32, 81), (33, 23), (33, 39), (33, 41), (33, 42), (33, 47), (33, 50), (33, 60), (33, 66), (33, 70), (33, 78), (33, 80), (33, 81), (39, 23), (39, 41), (39, 42), (39, 47), (39, 50), (39, 60), (39, 66), (39, 70), (39, 75), (39, 81), (40, 6), (40, 7), (40, 37), (40, 42), (40, 44), (40, 48), (40, 51), (40, 60), (40, 62), (40, 63), (40, 64), (40, 66), (40, 72), (40, 73), (40, 75), (40, 77), (41, 42), (41, 44), (41, 47), (41, 50), (41, 60), (41, 66), (41, 70), (41, 75), (41, 81), (42, 6), (42, 7), (42, 37), (42, 44), (42, 47), (42, 48), (42, 50), (42, 51), (42, 60), (42, 62), (42, 63), (42, 64), (42, 66), (42, 72), (42, 73), (42, 75), (42, 77), (42, 81), (44, 6), (44, 7), (44, 37), (44, 47), (44, 48), (44, 50), (44, 51), (44, 60), (44, 62), (44, 63), (44, 64), (44, 66), (44, 72), (44, 73), (44, 75), (44, 77), (47, 23), (47, 50), (47, 60), (47, 66), (47, 70), (47, 75), (47, 81), (48, 6), (48, 7), (48, 37), (48, 51), (48, 60), (48, 62), (48, 63), (48, 64), (48, 66), (48, 72), (48, 73), (48, 75), (48, 77), (50, 23), (50, 60), (50, 63), (50, 66), (50, 70), (50, 75), (50, 81), (51, 6), (51, 7), (51, 37), (51, 60), (51, 62), (51, 63), (51, 64), (51, 66), (51, 72), (51, 73), (51, 75), (51, 77), (60, 37), (60, 63), (60, 64), (60, 66), (60, 72), (60, 73), (60, 75), (60, 77), (60, 81), (63, 6), (63, 7), (63, 37), (63, 62), (63, 64), (63, 66), (63, 72), (63, 73), (63, 75), (63, 77), (64, 6), (64, 7), (64, 37), (64, 62), (64, 66), (64, 72), (64, 73), (64, 75), (64, 77), (66, 7), (66, 37), (66, 72), (66, 73), (66, 75), (66, 77), (66, 81), (70, 23), (70, 78), (70, 80), (72, 6), (72, 7), (72, 37), (72, 62), (72, 73), (72, 75), (72, 77), (73, 6), (73, 7), (73, 37), (73, 62), (73, 75), (73, 77), (75, 7), (75, 37), (75, 77), (75, 81), (77, 6), (77, 7), (77, 37), (77, 62), (23, 78), (23, 80), (6, 7), (6, 37), (6, 62), (7, 37), (7, 62), (37, 62), (78, 80)])"
            ]
          },
          "metadata": {
            "tags": []
          },
          "execution_count": 123
        }
      ]
    },
    {
      "cell_type": "markdown",
      "metadata": {
        "id": "mVfJzRUh5tsr"
      },
      "source": [
        "### **Random Kriukov**"
      ]
    },
    {
      "cell_type": "code",
      "metadata": {
        "id": "gsJkzVLU5QmW"
      },
      "source": [
        "# Each nodes' routing table\n",
        "routingTablesKriukov = []\n",
        "\n",
        "for j in range(10):\n",
        "  routingtable = []\n",
        "  for i in range(len(GKriukov.nodes)):\n",
        "    table = routingTable(i,GKriukov)\n",
        "    table.findNextHop()\n",
        "    routingtable.append(table)\n",
        "  routingTablesKriukov.append(routingtable)"
      ],
      "execution_count": 124,
      "outputs": []
    },
    {
      "cell_type": "code",
      "metadata": {
        "id": "sHD3cmNO5fKV"
      },
      "source": [
        "entropyListKriukov = []\n",
        "\n",
        "for i in routingTablesKriukov:\n",
        "  entropyListKriukov.append(avgEntropy(GKriukov, i))"
      ],
      "execution_count": 125,
      "outputs": []
    },
    {
      "cell_type": "code",
      "metadata": {
        "colab": {
          "base_uri": "https://localhost:8080/"
        },
        "id": "wZ_vo5pN5prw",
        "outputId": "d800d1fc-7a57-49e4-b112-c1819386ddca"
      },
      "source": [
        "entropyListKriukov"
      ],
      "execution_count": 126,
      "outputs": [
        {
          "output_type": "execute_result",
          "data": {
            "text/plain": [
              "[4.2260551683159155,\n",
              " 4.217967895723957,\n",
              " 4.222908947232048,\n",
              " 4.218483775790944,\n",
              " 4.217144938884035,\n",
              " 4.219045220897811,\n",
              " 4.222391673302572,\n",
              " 4.217526623345642,\n",
              " 4.222158693035132,\n",
              " 4.218294506586456]"
            ]
          },
          "metadata": {
            "tags": []
          },
          "execution_count": 126
        }
      ]
    },
    {
      "cell_type": "markdown",
      "metadata": {
        "id": "g687V1zX5zFK"
      },
      "source": [
        "### Greedy Kriukov"
      ]
    },
    {
      "cell_type": "code",
      "metadata": {
        "id": "wsX1FeKgC0k2"
      },
      "source": [
        "routingTablesGreedyKriukov = []\n",
        "\n",
        "for i in GKriukov.nodes:\n",
        "  table = routingTable(i, GKriukov)\n",
        "  table.findNextHopGreedy()\n",
        "  routingTablesGreedyKriukov.append(table)"
      ],
      "execution_count": 190,
      "outputs": []
    },
    {
      "cell_type": "code",
      "metadata": {
        "colab": {
          "base_uri": "https://localhost:8080/"
        },
        "id": "lPqMM7kKC073",
        "outputId": "c469b3e4-9f9f-4a77-a669-597d0cdb84a0"
      },
      "source": [
        "entropyGreedyKriukovValue = avgEntropy(GKriukov, routingTablesGreedyKriukov)\n",
        "entropyGreedyKriukovValue"
      ],
      "execution_count": 191,
      "outputs": [
        {
          "output_type": "execute_result",
          "data": {
            "text/plain": [
              "4.214624288585639"
            ]
          },
          "metadata": {
            "tags": []
          },
          "execution_count": 191
        }
      ]
    }
  ]
}