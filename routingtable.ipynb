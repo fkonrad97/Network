{
  "nbformat": 4,
  "nbformat_minor": 0,
  "metadata": {
    "accelerator": "GPU",
    "colab": {
      "name": "routingtable.ipynb",
      "provenance": [],
      "authorship_tag": "ABX9TyPHOEqD5RdKxMLNOGoqL9lo",
      "include_colab_link": true
    },
    "kernelspec": {
      "display_name": "Python 3",
      "name": "python3"
    },
    "language_info": {
      "name": "python"
    }
  },
  "cells": [
    {
      "cell_type": "markdown",
      "metadata": {
        "id": "view-in-github",
        "colab_type": "text"
      },
      "source": [
        "<a href=\"https://colab.research.google.com/github/fkonrad97/Network/blob/main/routingtable.ipynb\" target=\"_parent\"><img src=\"https://colab.research.google.com/assets/colab-badge.svg\" alt=\"Open In Colab\"/></a>"
      ]
    },
    {
      "cell_type": "code",
      "metadata": {
        "id": "Y39uWwLlkAHP"
      },
      "source": [
        "import csv\n",
        "import pandas as pd\n",
        "import numpy as np\n",
        "import networkx as nx\n",
        "import random\n",
        "from scipy.stats import entropy"
      ],
      "execution_count": 37,
      "outputs": []
    },
    {
      "cell_type": "markdown",
      "metadata": {
        "id": "0qxlJ8GXqu2d"
      },
      "source": [
        "# I/O"
      ]
    },
    {
      "cell_type": "code",
      "metadata": {
        "id": "Zgxa0Wmnjyn6"
      },
      "source": [
        "# Read positions of nodes (X,Y,Z)\n",
        "\n",
        "def positionRead(name):\n",
        "    positions = pd.read_csv(name + \".csv\", header=None, sep=\";\")\n",
        "    # Remove a plus sign from the end of the number\n",
        "    positions[0][0] = positions[0][0][:-1]\n",
        "    positions[0] = positions[0].astype(float)    # Convert data to numerical value\n",
        "    return positions"
      ],
      "execution_count": 38,
      "outputs": []
    },
    {
      "cell_type": "code",
      "metadata": {
        "id": "UnR_uRWEjyKR"
      },
      "source": [
        "# Read connection table between nodes\n",
        "\n",
        "def connectionRead(name):\n",
        "    connections = pd.read_csv(name + \".csv\", header=None)\n",
        "    return connections"
      ],
      "execution_count": 39,
      "outputs": []
    },
    {
      "cell_type": "code",
      "metadata": {
        "colab": {
          "base_uri": "https://localhost:8080/"
        },
        "id": "2a3rr_jOt0F-",
        "outputId": "56a67df5-0287-4d38-d10e-614a3927d483"
      },
      "source": [
        "# List of the positions of nodes\n",
        "# positions = positionRead(\"Network/Brain_data/Brain1Positions\")\n",
        "positions = positionRead(\"/content/Brain1Positions\")\n",
        "\n",
        "# List of how nodes connected to each other\n",
        "# connections = connectionRead(\"Network/Brain_data/Brain1Connections\")\n",
        "connections = connectionRead(\"/content/Brain1Connections\")"
      ],
      "execution_count": 40,
      "outputs": [
        {
          "output_type": "stream",
          "text": [
            "/usr/local/lib/python3.7/dist-packages/ipykernel_launcher.py:6: SettingWithCopyWarning: \n",
            "A value is trying to be set on a copy of a slice from a DataFrame\n",
            "\n",
            "See the caveats in the documentation: https://pandas.pydata.org/pandas-docs/stable/user_guide/indexing.html#returning-a-view-versus-a-copy\n",
            "  \n"
          ],
          "name": "stderr"
        }
      ]
    },
    {
      "cell_type": "markdown",
      "metadata": {
        "id": "_P3DmJPvt56R"
      },
      "source": [
        "# Additional Methods"
      ]
    },
    {
      "cell_type": "code",
      "metadata": {
        "id": "K7lWPu8hupvO"
      },
      "source": [
        "# Calculate distance between 2 points in Euclidean space\n",
        "# Positions should be 3D (X,Y,Z)\n",
        "\n",
        "def Euclidean_dist(p1, p2):\n",
        "    point1 = np.array((positions[0][p1], positions[1][p1], positions[2][p1]))\n",
        "    point2 = np.array((positions[0][p2], positions[1][p2], positions[2][p2]))\n",
        "    return np.linalg.norm(point1 - point2)"
      ],
      "execution_count": 41,
      "outputs": []
    },
    {
      "cell_type": "code",
      "metadata": {
        "id": "eUx8qKdGzGqG"
      },
      "source": [
        "# Add a key-value pair to the existing dictionary\n",
        "\n",
        "def add_element(dict, key, value):\n",
        "    if key not in dict:\n",
        "        dict[key] = []\n",
        "    dict[key].append(value)"
      ],
      "execution_count": 42,
      "outputs": []
    },
    {
      "cell_type": "code",
      "metadata": {
        "id": "0vRPUCIEwdzn"
      },
      "source": [
        "# Returns with a dictionary. Key is the number of the node and \n",
        "# the value is the distant between the current node(act) and its neighbour.\n",
        "# The list is ascendant by the distance.\n",
        "\n",
        "def get_dist(act, neighbours):\n",
        "    dist = {}\n",
        "    \n",
        "    for i in neighbours:\n",
        "        add_element(dist, i, Euclidean_dist(act, i))\n",
        "    \n",
        "    dist = sorted(dist.items(), key=lambda x: x[1])\n",
        "    \n",
        "    return dist"
      ],
      "execution_count": 43,
      "outputs": []
    },
    {
      "cell_type": "code",
      "metadata": {
        "id": "nsSUR0fktaYy"
      },
      "source": [
        "def chooseRandomShortest(paths):\n",
        "  randomPaths = []\n",
        "\n",
        "  for i in paths:\n",
        "    randomPaths.append(random.choice(i))\n",
        "\n",
        "  return randomPaths"
      ],
      "execution_count": 44,
      "outputs": []
    },
    {
      "cell_type": "code",
      "metadata": {
        "id": "tL9t2u43ta9t"
      },
      "source": [
        "def avgEntropy(graph, routingTables):\n",
        "  sum = 0\n",
        "\n",
        "  for i in range(len(graph.nodes)):\n",
        "    routingTables[i].getNextHopsList()\n",
        "    sum += entropy(routingTables[i].nextHops)\n",
        "  \n",
        "  return (sum / len(graph.nodes))"
      ],
      "execution_count": 45,
      "outputs": []
    },
    {
      "cell_type": "code",
      "metadata": {
        "id": "bcQnKU_wuquu"
      },
      "source": [
        "def readWeightedIn():\n",
        "  greedyNeighbours = []\n",
        "  for i in range(len(connections)):\n",
        "    for j in range(len(connections)):\n",
        "       if connections[i][j] == 1 and i < j:\n",
        "          dist = Euclidean_dist(i,j)\n",
        "          greedyNeighbours.append([i,j,dist])\n",
        "  return greedyNeighbours"
      ],
      "execution_count": 46,
      "outputs": []
    },
    {
      "cell_type": "code",
      "metadata": {
        "id": "EA6ZOlzlu5gO"
      },
      "source": [
        "def readUnweightedIn():\n",
        "  neighbours = []\n",
        "  for i in range(len(connections)):\n",
        "    for j in range(len(connections)):\n",
        "      if connections[i][j] == 1 and i < j:\n",
        "        neighbours.append([i, j])\n",
        "  return neighbours"
      ],
      "execution_count": 47,
      "outputs": []
    },
    {
      "cell_type": "markdown",
      "metadata": {
        "id": "sT9XccYctiYF"
      },
      "source": [
        "# Graph algorithms"
      ]
    },
    {
      "cell_type": "code",
      "metadata": {
        "id": "yBUBtfClth1o"
      },
      "source": [
        "def findPaths(src, graph):\n",
        "  paths = []\n",
        "\n",
        "  for j in range(len(graph.nodes)):\n",
        "    if src!=j:\n",
        "      path = [p for p in nx.all_shortest_paths(graph, source=src, target=j)]\n",
        "      paths.append(path)\n",
        "  \n",
        "  return paths"
      ],
      "execution_count": 48,
      "outputs": []
    },
    {
      "cell_type": "code",
      "metadata": {
        "id": "4tCxbdT0tXS2"
      },
      "source": [
        "def greedy(graph, src, dest):\n",
        "  pathsGreedy = []\n",
        "  pathsGreedy.append(src)\n",
        "  ready = False\n",
        "  act = src\n",
        "\n",
        "  while ready==False:\n",
        "    nbours = [n for n in graph.neighbors(act)]\n",
        "\n",
        "    # Calculates the distances of the neighbour nodes from the end node\n",
        "    dist = get_dist(dest, nbours)\n",
        "\n",
        "    # if the 'dest' is connected with 'act'\n",
        "    if dest in nbours:\n",
        "      pathsGreedy.append(dest)\n",
        "      return pathsGreedy\n",
        "\n",
        "    # if 'act' has no neighbours \n",
        "    elif len(nbours) == 0:\n",
        "      return \"No neighbours\"\n",
        "\n",
        "    # if 'act' has just 1 neighbour\n",
        "    elif len(neighbours) == 1:\n",
        "      act = nbours[0]\n",
        "      pathsGreedy.append(act)\n",
        "\n",
        "    elif len(nbours) > 1:\n",
        "      not_found = False\n",
        "      for i in dist:\n",
        "        if i[0] not in pathsGreedy:\n",
        "          act = i[0]\n",
        "          pathsGreedy.append(act)\n",
        "          not_found = True\n",
        "          break\n",
        "      # If there are no more choosable node on the list\n",
        "      if not_found == False:\n",
        "        act = dist[0][0]\n",
        "        pathsGreedy.append(act)"
      ],
      "execution_count": 49,
      "outputs": []
    },
    {
      "cell_type": "markdown",
      "metadata": {
        "id": "8c94aeeEs40d"
      },
      "source": [
        "# Classes"
      ]
    },
    {
      "cell_type": "code",
      "metadata": {
        "id": "M1AvgT_irHqX"
      },
      "source": [
        "class Graph():\n",
        "  def __init__(self,):\n",
        "    self.G = nx.Graph()\n",
        "    self.nodes = self.G.nodes\n",
        "\n",
        "  def addWeightedEdges(self, neighborList):\n",
        "    for i in neighborList:\n",
        "      self.G.add_edge(i[0], i[1], weight=i[2])\n",
        "\n",
        "  def addUnweightedEdges(self, neighborList):\n",
        "    for i in neighborList:\n",
        "      self.G.add_edge(i[0],i[1])"
      ],
      "execution_count": 80,
      "outputs": []
    },
    {
      "cell_type": "code",
      "metadata": {
        "id": "6jrBR0R0s8rC"
      },
      "source": [
        "class routingTable():\n",
        "\n",
        "  def __init__(self, nodeID, graph):\n",
        "    self.graph = graph.G\n",
        "    self.nodeID = nodeID\n",
        "    self.table = []\n",
        "    self.nextHops = []\n",
        "\n",
        "  def addtoTable(self, dest, nextHop):\n",
        "    self.table.append([dest, nextHop])\n",
        "\n",
        "  def findNextHop(self):\n",
        "    paths = findPaths(self.nodeID, self.graph)\n",
        "    paths = chooseRandomShortest(paths)\n",
        "    for i in paths:\n",
        "      self.addtoTable(i[-1], i[1])\n",
        "\n",
        "  def getNextHopsList(self):\n",
        "    self.nextHops = []\n",
        "    for i in self.table:\n",
        "      self.nextHops.append(i[1])"
      ],
      "execution_count": 81,
      "outputs": []
    },
    {
      "cell_type": "markdown",
      "metadata": {
        "id": "zNQUL8Wg2Gks"
      },
      "source": [
        "# **GREEDY ALGORITHM**"
      ]
    },
    {
      "cell_type": "code",
      "metadata": {
        "id": "jqS5tMeTt_KY"
      },
      "source": [
        "Ggreedy = Graph()\n",
        "greedyNeighbours = readWeightedIn()\n",
        "Ggreedy.addWeightedEdges(greedyNeighbours)"
      ],
      "execution_count": 73,
      "outputs": []
    },
    {
      "cell_type": "code",
      "metadata": {
        "id": "jXrYp8x6150t"
      },
      "source": [
        "pathsGreedy = []\n",
        "\n",
        "for i in range(len(Ggreedy.nodes)):\n",
        "  temp = []\n",
        "  for j in range(len(Ggreedy.nodes)):\n",
        "    if i!=j:\n",
        "      temp.append(greedy(Ggreedy.G,i,j))\n",
        "  pathsGreedy.append(temp)"
      ],
      "execution_count": 74,
      "outputs": []
    },
    {
      "cell_type": "code",
      "metadata": {
        "id": "6uYfZBva3C0V"
      },
      "source": [
        "routingGreedyTable = []\n",
        "\n",
        "for i in pathsGreedy:\n",
        "  temp = []\n",
        "  for j in i:\n",
        "    temp.append([j[-1], j[1]])\n",
        "  routingGreedyTable.append(temp)"
      ],
      "execution_count": 64,
      "outputs": []
    },
    {
      "cell_type": "code",
      "metadata": {
        "id": "bvbOpveb3OPO"
      },
      "source": [
        "greedyNextHops = []\n",
        "\n",
        "for i in routingGreedyTable:\n",
        "  temp = []\n",
        "  for j in i:\n",
        "    temp.append(j[1])\n",
        "  greedyNextHops.append(temp)"
      ],
      "execution_count": 65,
      "outputs": []
    },
    {
      "cell_type": "code",
      "metadata": {
        "colab": {
          "base_uri": "https://localhost:8080/"
        },
        "id": "UOFcaxJA4kA0",
        "outputId": "9856d0ef-6439-4661-adb7-3ca221c7a112"
      },
      "source": [
        "sum = 0\n",
        "\n",
        "for i in range(len(Ggreedy.nodes)):\n",
        "  sum += entropy(greedyNextHops[0])\n",
        "\n",
        "avgGreedyEntropy = sum / len(Ggreedy.nodes)\n",
        "avgGreedyEntropy"
      ],
      "execution_count": 68,
      "outputs": [
        {
          "output_type": "execute_result",
          "data": {
            "text/plain": [
              "4.102882086518131"
            ]
          },
          "metadata": {
            "tags": []
          },
          "execution_count": 68
        }
      ]
    },
    {
      "cell_type": "markdown",
      "metadata": {
        "id": "S923ThXR2OJv"
      },
      "source": [
        "# **RANDOM UNWEIGHTED**"
      ]
    },
    {
      "cell_type": "code",
      "metadata": {
        "id": "PXVPLb49kZXh"
      },
      "source": [
        "G = Graph()\n",
        "neighbours = readUnweightedIn()\n",
        "G.addUnweightedEdges(neighbours)"
      ],
      "execution_count": 82,
      "outputs": []
    },
    {
      "cell_type": "code",
      "metadata": {
        "id": "9cdZ7DTDhCra"
      },
      "source": [
        "# Each nodes' routing table\n",
        "routingTables = []\n",
        "\n",
        "for j in range(10):\n",
        "  routingtable = []\n",
        "  for i in range(len(G.nodes)):\n",
        "    table = routingTable(i,G)\n",
        "    table.findNextHop()\n",
        "    routingtable.append(table)\n",
        "  routingTables.append(routingtable)"
      ],
      "execution_count": 83,
      "outputs": []
    },
    {
      "cell_type": "code",
      "metadata": {
        "id": "gV3DrzXeo1X9"
      },
      "source": [
        "entropyList = []\n",
        "\n",
        "for i in routingTables:\n",
        "  entropyList.append(avgEntropy(G, i))"
      ],
      "execution_count": 84,
      "outputs": []
    },
    {
      "cell_type": "code",
      "metadata": {
        "colab": {
          "base_uri": "https://localhost:8080/"
        },
        "id": "5Qcb5QHF5tOO",
        "outputId": "2b59f1f3-d47b-492f-c6ab-4f0220a7a655"
      },
      "source": [
        "entropyList"
      ],
      "execution_count": 85,
      "outputs": [
        {
          "output_type": "execute_result",
          "data": {
            "text/plain": [
              "[4.245982423362341,\n",
              " 4.250469848455398,\n",
              " 4.247939080793474,\n",
              " 4.246330849763421,\n",
              " 4.245614763704439,\n",
              " 4.243350411067987,\n",
              " 4.246620776826123,\n",
              " 4.25031940012612,\n",
              " 4.248992561418494,\n",
              " 4.246167628965554]"
            ]
          },
          "metadata": {
            "tags": []
          },
          "execution_count": 85
        }
      ]
    },
    {
      "cell_type": "markdown",
      "metadata": {
        "id": "JlqG6qMJDIxL"
      },
      "source": [
        "# **KRIUKOV GRÁFGENERÁLÁS**"
      ]
    }
  ]
}