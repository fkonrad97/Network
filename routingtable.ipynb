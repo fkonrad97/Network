{
  "nbformat": 4,
  "nbformat_minor": 0,
  "metadata": {
    "accelerator": "GPU",
    "colab": {
      "name": "routingtable.ipynb",
      "provenance": [],
      "authorship_tag": "ABX9TyPPqHql8Ax87vyE0Fj+XF/J",
      "include_colab_link": true
    },
    "kernelspec": {
      "display_name": "Python 3",
      "name": "python3"
    },
    "language_info": {
      "name": "python"
    }
  },
  "cells": [
    {
      "cell_type": "markdown",
      "metadata": {
        "id": "view-in-github",
        "colab_type": "text"
      },
      "source": [
        "<a href=\"https://colab.research.google.com/github/fkonrad97/Network/blob/main/routingtable.ipynb\" target=\"_parent\"><img src=\"https://colab.research.google.com/assets/colab-badge.svg\" alt=\"Open In Colab\"/></a>"
      ]
    },
    {
      "cell_type": "code",
      "metadata": {
        "id": "Y39uWwLlkAHP"
      },
      "source": [
        "import csv\n",
        "import pandas as pd\n",
        "import numpy as np\n",
        "import networkx as nx\n",
        "import random\n",
        "from scipy.stats import entropy"
      ],
      "execution_count": 31,
      "outputs": []
    },
    {
      "cell_type": "code",
      "metadata": {
        "id": "Zgxa0Wmnjyn6"
      },
      "source": [
        "# Read positions of nodes (X,Y,Z)\n",
        "\n",
        "def positionRead(name):\n",
        "    positions = pd.read_csv(name + \".csv\", header=None, sep=\";\")\n",
        "    # Remove a plus sign from the end of the number\n",
        "    positions[0][0] = positions[0][0][:-1]\n",
        "    positions[0] = positions[0].astype(float)    # Convert data to numerical value\n",
        "    return positions"
      ],
      "execution_count": 32,
      "outputs": []
    },
    {
      "cell_type": "code",
      "metadata": {
        "id": "UnR_uRWEjyKR"
      },
      "source": [
        "# Read connection table between nodes\n",
        "\n",
        "def connectionRead(name):\n",
        "    connections = pd.read_csv(name + \".csv\", header=None)\n",
        "    return connections"
      ],
      "execution_count": 33,
      "outputs": []
    },
    {
      "cell_type": "code",
      "metadata": {
        "colab": {
          "base_uri": "https://localhost:8080/"
        },
        "id": "M3EJ-NmkjuPr",
        "outputId": "bb7db5dc-619d-4f83-96e7-abdaf8657a41"
      },
      "source": [
        "# List of the positions of nodes\n",
        "# positions = positionRead(\"Network/Brain_data/Brain1Positions\")\n",
        "positions = positionRead(\"/content/Brain1Positions\")\n",
        "\n",
        "# List of how nodes connected to each other\n",
        "# connections = connectionRead(\"Network/Brain_data/Brain1Connections\")\n",
        "connections = connectionRead(\"/content/Brain1Connections\")\n",
        "\n",
        "neighbours = []\n",
        "\n",
        "for i in range(len(connections)):\n",
        "  for j in range(len(connections)):\n",
        "     if connections[i][j] == 1 and i < j:\n",
        "       neighbours.append([i, j])"
      ],
      "execution_count": 34,
      "outputs": [
        {
          "output_type": "stream",
          "text": [
            "/usr/local/lib/python3.7/dist-packages/ipykernel_launcher.py:6: SettingWithCopyWarning: \n",
            "A value is trying to be set on a copy of a slice from a DataFrame\n",
            "\n",
            "See the caveats in the documentation: https://pandas.pydata.org/pandas-docs/stable/user_guide/indexing.html#returning-a-view-versus-a-copy\n",
            "  \n"
          ],
          "name": "stderr"
        }
      ]
    },
    {
      "cell_type": "code",
      "metadata": {
        "id": "OlP6TyE0gJgv"
      },
      "source": [
        "def findPaths(src, graph):\n",
        "  paths = []\n",
        "\n",
        "  for j in range(len(graph.nodes)):\n",
        "    if src!=j:\n",
        "      path = [p for p in nx.all_shortest_paths(graph, source=src, target=j)]\n",
        "      paths.append(path)\n",
        "  \n",
        "  return paths"
      ],
      "execution_count": 35,
      "outputs": []
    },
    {
      "cell_type": "code",
      "metadata": {
        "id": "LPN462G0hVhW"
      },
      "source": [
        "def chooseRandomShortest(paths):\n",
        "  randomPaths = []\n",
        "\n",
        "  for i in paths:\n",
        "    randomPaths.append(random.choice(i))\n",
        "\n",
        "  return randomPaths"
      ],
      "execution_count": 36,
      "outputs": []
    },
    {
      "cell_type": "code",
      "metadata": {
        "id": "SlCCfaMSnxq1"
      },
      "source": [
        "def avgEntropy(graph, routingTables):\n",
        "  sum = 0\n",
        "\n",
        "  for i in range(len(graph.nodes)):\n",
        "    routingTables[i].getNextHopsList()\n",
        "    sum += entropy(routingTables[i].nextHops)\n",
        "  \n",
        "  return (sum / len(graph.nodes))"
      ],
      "execution_count": 37,
      "outputs": []
    },
    {
      "cell_type": "code",
      "metadata": {
        "id": "PXVPLb49kZXh"
      },
      "source": [
        "# Init Graph\n",
        "\n",
        "G = nx.Graph()\n",
        "for i in neighbours:\n",
        "  G.add_edge(i[0],i[1])\n",
        "\n",
        "# number of nodes\n",
        "size = len(G.nodes)\n",
        "\n",
        "# List of paths from nodes to nodes\n",
        "paths = []\n",
        "for i in range(size):\n",
        "  temp = []\n",
        "  for j in range(size):\n",
        "    if i!=j:\n",
        "      path = [p for p in nx.all_shortest_paths(G, source=i, target=j)]\n",
        "      temp.append(path)\n",
        "  paths.append(temp)"
      ],
      "execution_count": 38,
      "outputs": []
    },
    {
      "cell_type": "code",
      "metadata": {
        "id": "Q_i1r3bpcwe_"
      },
      "source": [
        "class routingTable():\n",
        "\n",
        "  def __init__(self, nodeID):\n",
        "    self.nodeID = nodeID\n",
        "    self.table = []\n",
        "    self.nextHops = []\n",
        "\n",
        "  def addtoTable(self, dest, nextHop):\n",
        "    self.table.append([dest, nextHop])\n",
        "\n",
        "  def findNextHop(self, graph):\n",
        "    paths = findPaths(self.nodeID, graph)\n",
        "    paths = chooseRandomShortest(paths)\n",
        "    for i in paths:\n",
        "      self.addtoTable(i[-1], i[1])\n",
        "\n",
        "  def getNextHopsList(self):\n",
        "    self.nextHops = []\n",
        "    for i in self.table:\n",
        "      self.nextHops.append(i[1])"
      ],
      "execution_count": 39,
      "outputs": []
    },
    {
      "cell_type": "code",
      "metadata": {
        "id": "9cdZ7DTDhCra"
      },
      "source": [
        "# Each nodes' routing table\n",
        "routingTables = []\n",
        "\n",
        "for j in range(100):\n",
        "  routingtable = []\n",
        "  for i in range(len(G.nodes)):\n",
        "    table = routingTable(i)\n",
        "    table.findNextHop(G)\n",
        "    routingtable.append(table)\n",
        "  routingTables.append(routingtable)"
      ],
      "execution_count": 48,
      "outputs": []
    },
    {
      "cell_type": "code",
      "metadata": {
        "id": "gV3DrzXeo1X9"
      },
      "source": [
        "entropyList = []\n",
        "\n",
        "for i in routingTables:\n",
        "  entropyList.append(avgEntropy(G, i))"
      ],
      "execution_count": 49,
      "outputs": []
    },
    {
      "cell_type": "code",
      "metadata": {
        "id": "Z5oq81ENtUet"
      },
      "source": [
        ""
      ],
      "execution_count": null,
      "outputs": []
    }
  ]
}