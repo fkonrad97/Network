{
  "nbformat": 4,
  "nbformat_minor": 0,
  "metadata": {
    "colab": {
      "name": "Shortest_Paths.ipynb",
      "provenance": [],
      "authorship_tag": "ABX9TyOjbVrrsfrbNs6P067Wxp4T",
      "include_colab_link": true
    },
    "kernelspec": {
      "name": "python3",
      "display_name": "Python 3"
    },
    "language_info": {
      "name": "python"
    },
    "accelerator": "GPU"
  },
  "cells": [
    {
      "cell_type": "markdown",
      "metadata": {
        "id": "view-in-github",
        "colab_type": "text"
      },
      "source": [
        "<a href=\"https://colab.research.google.com/github/fkonrad97/Network/blob/main/Shortest_Paths.ipynb\" target=\"_parent\"><img src=\"https://colab.research.google.com/assets/colab-badge.svg\" alt=\"Open In Colab\"/></a>"
      ]
    },
    {
      "cell_type": "code",
      "metadata": {
        "id": "3J5XbskhNTTj"
      },
      "source": [
        "from collections import defaultdict\n",
        "from math import log, e\n",
        "import csv\n",
        "import pandas as pd\n",
        "import numpy as np\n",
        "from typing import List\n",
        "from sys import maxsize\n",
        "from collections import deque\n",
        "import random"
      ],
      "execution_count": 28,
      "outputs": []
    },
    {
      "cell_type": "code",
      "metadata": {
        "id": "kq-kgfqdNXq-"
      },
      "source": [
        "# Print out the 'list' to the 'name.csv' file \n",
        "\n",
        "def printOut(name, list):\n",
        "    with open(name + '.csv', 'w', newline='') as csv_1:\n",
        "        csv_out = csv.writer(csv_1)\n",
        "        csv_out.writerows([list[index]] for index in range(0, len(list)))"
      ],
      "execution_count": 29,
      "outputs": []
    },
    {
      "cell_type": "code",
      "metadata": {
        "id": "tCjLiPwLNZZF"
      },
      "source": [
        "# Read positions of nodes (X,Y,Z)\n",
        "\n",
        "def positionRead(name):\n",
        "    positions = pd.read_csv(name + \".csv\", header=None, sep=\";\")\n",
        "    # Remove a plus sign from the end of the number\n",
        "    positions[0][0] = positions[0][0][:-1]\n",
        "    positions[0] = positions[0].astype(float)    # Convert data to numerical value\n",
        "    return positions"
      ],
      "execution_count": 30,
      "outputs": []
    },
    {
      "cell_type": "code",
      "metadata": {
        "id": "uDnyCgZSNd7C"
      },
      "source": [
        "# Read connection table between nodes\n",
        "\n",
        "def connectionRead(name):\n",
        "    connections = pd.read_csv(name + \".csv\", header=None)\n",
        "    return connections"
      ],
      "execution_count": 31,
      "outputs": []
    },
    {
      "cell_type": "code",
      "metadata": {
        "colab": {
          "base_uri": "https://localhost:8080/"
        },
        "id": "Ube6zpo4NeTo",
        "outputId": "b43dd222-27dd-427c-ba5e-4af9f21ca079"
      },
      "source": [
        "# List of the positions of nodes\n",
        "positions = positionRead(\"Network/Brain_data/Brain1Positions\")\n",
        "\n",
        "# List of how nodes connected to each other\n",
        "connections = connectionRead(\"Network/Brain_data/Brain1Connections\")"
      ],
      "execution_count": 32,
      "outputs": [
        {
          "output_type": "stream",
          "text": [
            "C:\\Users\\fkonr\\anaconda3\\lib\\site-packages\\ipykernel_launcher.py:6: SettingWithCopyWarning: \n",
            "A value is trying to be set on a copy of a slice from a DataFrame\n",
            "\n",
            "See the caveats in the documentation: https://pandas.pydata.org/pandas-docs/stable/user_guide/indexing.html#returning-a-view-versus-a-copy\n",
            "  \n"
          ],
          "name": "stderr"
        }
      ]
    },
    {
      "cell_type": "code",
      "metadata": {
        "id": "K8nLsgNnCamC"
      },
      "source": [
        "# Entropy by numpy library\n",
        "\n",
        "def entropy(labels, base=None):\n",
        "    n_labels = len(labels)\n",
        "    \n",
        "    if n_labels <= 1:\n",
        "        return 0\n",
        "    \n",
        "    value, counts = np.unique(labels, return_counts=True)\n",
        "    probs = counts/n_labels\n",
        "    n_classes = np.count_nonzero(probs)\n",
        "    \n",
        "    if n_classes <= 1:\n",
        "        return 0\n",
        "    \n",
        "    ent = 0.\n",
        "    \n",
        "    base = e if base is None else base\n",
        "    for i in probs:\n",
        "        ent -= i * log(i, base)\n",
        "        \n",
        "    return ent"
      ],
      "execution_count": 33,
      "outputs": []
    },
    {
      "cell_type": "code",
      "metadata": {
        "id": "9qXMCz1WOmGZ"
      },
      "source": [
        "paths = []\n",
        "\n",
        "for i in range(len(connections)):\n",
        "  src = i\n",
        "  dest = 0\n",
        "  route = []\n",
        "  for j in connections[i]:\n",
        "    if j == 1 and src < dest:\n",
        "      route.append([src,dest])\n",
        "    dest += 1\n",
        "  paths.append(route)"
      ],
      "execution_count": 34,
      "outputs": []
    },
    {
      "cell_type": "code",
      "metadata": {
        "id": "SkTx-mG0Nn4_"
      },
      "source": [
        "# Function to form edge between\n",
        "# two vertices src and dest\n",
        " \n",
        "def add_edge(adj: List[List[int]],\n",
        "             src: int, dest: int) -> None:\n",
        "    adj[src].append(dest)\n",
        "    adj[dest].append(src)\n",
        "\n",
        "# Function which finds all the paths\n",
        "# and stores it in paths array\n",
        "def find_paths(paths: List[List[int]], path: List[int],\n",
        "               parent: List[List[int]], n: int, u: int) -> None:\n",
        "    # Base Case\n",
        "    if (u == -1):\n",
        "        paths.append(path.copy())\n",
        "        return\n",
        " \n",
        "    # Loop for all the parents\n",
        "    # of the given vertex\n",
        "    for par in parent[u]:\n",
        " \n",
        "        # Insert the current\n",
        "        # vertex in path\n",
        "        path.append(u)\n",
        " \n",
        "        # Recursive call for its parent\n",
        "        find_paths(paths, path, parent, n, par)\n",
        " \n",
        "        # Remove the current vertex\n",
        "        path.pop()\n",
        "\n",
        "# Function which performs bfs\n",
        "# from the given souce vertex\n",
        "def bfs(adj: List[List[int]],\n",
        "        parent: List[List[int]], n: int,\n",
        "        start: int) -> None:\n",
        " \n",
        "    # dist will contain shortest distance\n",
        "    # from start to every other vertex\n",
        "    dist = [maxsize for _ in range(n)]\n",
        "    q = deque()\n",
        " \n",
        "    # Insert source vertex in queue and make\n",
        "    # its parent -1 and distance 0\n",
        "    q.append(start)\n",
        "    parent[start] = [-1]\n",
        "    dist[start] = 0\n",
        " \n",
        "    # Untill Queue is empty\n",
        "    while q:\n",
        "        u = q[0]\n",
        "        q.popleft()\n",
        "        for v in adj[u]:\n",
        "            if (dist[v] > dist[u] + 1):\n",
        " \n",
        "                # A shorter distance is found\n",
        "                # So erase all the previous parents\n",
        "                # and insert new parent u in parent[v]\n",
        "                dist[v] = dist[u] + 1\n",
        "                q.append(v)\n",
        "                parent[v].clear()\n",
        "                parent[v].append(u)\n",
        " \n",
        "            elif (dist[v] == dist[u] + 1):\n",
        " \n",
        "                # Another candidate parent for\n",
        "                # shortes path found\n",
        "                parent[v].append(u)\n",
        " \n",
        "# Function which prints all the paths\n",
        "# from start to end\n",
        "def getPaths(adj: List[List[int]], n: int,\n",
        "                start: int, end: int) -> None:\n",
        "    revPaths = []\n",
        "    path = []\n",
        "    parent = [[] for _ in range(n)]\n",
        "\n",
        "    paths = []\n",
        " \n",
        "    # Function call to bfs\n",
        "    bfs(adj, parent, n, start)\n",
        " \n",
        "    # Function call to find_paths\n",
        "    find_paths(revPaths, path, parent, n, end)\n",
        "    for v in revPaths:\n",
        "        v = v[::-1]\n",
        "        paths.append(v)\n",
        "\n",
        "    return paths"
      ],
      "execution_count": 35,
      "outputs": []
    },
    {
      "cell_type": "code",
      "metadata": {
        "id": "X4Gb_YYySFt_"
      },
      "source": [
        "# Number of vertices\n",
        "n = 83\n",
        "\n",
        "# Number of pairs\n",
        "pairs = 0\n",
        "for i in paths:\n",
        "  for j in i:\n",
        "    pairs+=1\n",
        "\n",
        "# array of vectors is used\n",
        "# to store the graph\n",
        "# in the form of an adjacency list\n",
        "adj = [[] for i in range(len(paths))]\n",
        "\n",
        "for i in paths:\n",
        "  for j in i:\n",
        "    add_edge(adj, j[0], j[1])"
      ],
      "execution_count": 36,
      "outputs": []
    },
    {
      "cell_type": "code",
      "metadata": {
        "id": "JnQWAxMBYx3S"
      },
      "source": [
        "shortest_paths = []\n",
        "\n",
        "for i in range(len(paths)):\n",
        "  for j in range(len(paths)):\n",
        "    if i!=j:\n",
        "      shortest_paths.append(getPaths(adj, n, i, j))"
      ],
      "execution_count": 37,
      "outputs": []
    },
    {
      "cell_type": "code",
      "metadata": {
        "id": "lOYnyyg1dDK5"
      },
      "source": [
        "routingTable = []\n",
        "\n",
        "for j in range(100):\n",
        "  routes = []\n",
        "  for i in shortest_paths:\n",
        "    routes.append(random.choice(i))\n",
        "  routingTable.append(routes)"
      ],
      "execution_count": 38,
      "outputs": []
    },
    {
      "cell_type": "code",
      "metadata": {
        "id": "-NYI0HbjBo62",
        "outputId": "a861ce59-f383-4a5a-ab2d-79b627ef53c2",
        "colab": {
          "base_uri": "https://localhost:8080/"
        }
      },
      "source": [
        "'''entropyTables = []\n",
        "\n",
        "for i in routingTable:\n",
        "  temp = []\n",
        "  for j in i:\n",
        "    temp.append(entropy(j))\n",
        "  entropyTables.append(temp)'''"
      ],
      "execution_count": 44,
      "outputs": [
        {
          "output_type": "execute_result",
          "data": {
            "text/plain": [
              "'entropyTables = []\\n\\nfor i in routingTable:\\n  temp = []\\n  for j in i:\\n    temp.append(entropy(j))\\n  entropyTables.append(temp)'"
            ]
          },
          "metadata": {
            "tags": []
          },
          "execution_count": 44
        }
      ]
    },
    {
      "cell_type": "code",
      "metadata": {
        "id": "_KZbWDo_FeLr"
      },
      "source": [
        "epochSize = len(connections[0])\n",
        "ent = []\n",
        "\n",
        "cnt = 0\n",
        "for i in entropyTables:\n",
        "  temp = []\n",
        "  table = []\n",
        "  for j in i:\n",
        "    if cnt == epochSize:\n",
        "      table.append(temp)\n",
        "      temp = []\n",
        "      cnt = 0\n",
        "    if cnt < epochSize:\n",
        "      temp.append(j)\n",
        "      cnt += 1\n",
        "  cnt = 0\n",
        "  ent.append(table)"
      ],
      "execution_count": 50,
      "outputs": []
    },
    {
      "cell_type": "code",
      "metadata": {
        "id": "lTFns5SzMeu0"
      },
      "source": [
        "ent"
      ],
      "execution_count": 52,
      "outputs": []
    }
  ]
}