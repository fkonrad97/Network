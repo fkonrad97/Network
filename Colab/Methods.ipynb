{
  "nbformat": 4,
  "nbformat_minor": 0,
  "metadata": {
    "colab": {
      "name": "Methods.ipynb másolata",
      "provenance": [],
      "collapsed_sections": [
        "kB2u_JTWKc1F",
        "RMazNvYpKc1H"
      ],
      "toc_visible": true
    },
    "kernelspec": {
      "display_name": "Python 3",
      "language": "python",
      "name": "python3"
    },
    "language_info": {
      "codemirror_mode": {
        "name": "ipython",
        "version": 3
      },
      "file_extension": ".py",
      "mimetype": "text/x-python",
      "name": "python",
      "nbconvert_exporter": "python",
      "pygments_lexer": "ipython3",
      "version": "3.7.6"
    }
  },
  "cells": [
    {
      "cell_type": "code",
      "metadata": {
        "id": "WlC1bPIBKc0x"
      },
      "source": [
        "import pandas as pd\n",
        "import numpy as np\n",
        "import random "
      ],
      "execution_count": 2,
      "outputs": []
    },
    {
      "cell_type": "markdown",
      "metadata": {
        "id": "L0HVHPiwKc04"
      },
      "source": [
        "# Additional methods"
      ]
    },
    {
      "cell_type": "code",
      "metadata": {
        "id": "skyhggVZKc05"
      },
      "source": [
        "# Calculate distance between 2 points in Euclidean space\n",
        "# Positions should be 3D (X,Y,Z)\n",
        "\n",
        "def Euclidean_dist(p1, p2):\n",
        "    point1 = np.array((positions[0][p1], positions[1][p1], positions[2][p1]))\n",
        "    point2 = np.array((positions[0][p2], positions[1][p2], positions[2][p2]))\n",
        "    return np.linalg.norm(point1 - point2)"
      ],
      "execution_count": 3,
      "outputs": []
    },
    {
      "cell_type": "code",
      "metadata": {
        "id": "3yqdpQlGKc05"
      },
      "source": [
        "# Get neighbours of 'p' from the connections dataframe \n",
        "\n",
        "def get_neighbours(p): \n",
        "    neighbours = []\n",
        "    \n",
        "    for i in range(len(positions[0])):\n",
        "        if connections[i][p] == 1:\n",
        "            neighbours.append(i)\n",
        "    \n",
        "    return neighbours"
      ],
      "execution_count": 4,
      "outputs": []
    },
    {
      "cell_type": "code",
      "metadata": {
        "id": "hyKEKyJjKc05"
      },
      "source": [
        "# Average distance between neighbours\n",
        "\n",
        "def distNeighbours():\n",
        "    distances = []\n",
        "    for i in range(len(positions[0])):\n",
        "        neighbours = get_neighbours(i)\n",
        "        for j in neighbours:\n",
        "            list = get_dist(i, neighbours)\n",
        "        summary = 0\n",
        "        for x in list:\n",
        "            summary += sum(x[1])\n",
        "        distances.append(summary/len(list))\n",
        "    \n",
        "    avgNeighbourDist = sum(distances) / len(distances)\n",
        "    return avgNeighbourDist"
      ],
      "execution_count": 5,
      "outputs": []
    },
    {
      "cell_type": "code",
      "metadata": {
        "id": "yIPZt6jSKc06"
      },
      "source": [
        "# Average difference between neighbour distances\n",
        "\n",
        "def differenceNeighbourDist():\n",
        "    distances = []\n",
        "    for i in range(len(positions[0])):\n",
        "        neighbours = get_neighbours(i)\n",
        "        for j in neighbours:\n",
        "            list = get_dist(i, neighbours)\n",
        "\n",
        "        iter = 0\n",
        "        for j in range(len(list)):\n",
        "            cnt = 0\n",
        "            for z in range(len(list)-1):\n",
        "                cnt += abs(sum(list[j][1]) - sum(list[z+1][1]))\n",
        "                iter += 1\n",
        "        distances.append(cnt / iter)\n",
        "    \n",
        "    avgNeighbourDistDifferences = sum(distances)/len(distances)\n",
        "    return avgNeighbourDistDifferences"
      ],
      "execution_count": 6,
      "outputs": []
    },
    {
      "cell_type": "code",
      "metadata": {
        "id": "CUFBkPybKc06"
      },
      "source": [
        "# Add a key-value pair to the existing dictionary\n",
        "\n",
        "def add_element(dict, key, value):\n",
        "    if key not in dict:\n",
        "        dict[key] = []\n",
        "    dict[key].append(value)"
      ],
      "execution_count": 7,
      "outputs": []
    },
    {
      "cell_type": "code",
      "metadata": {
        "id": "K4duaCApKc06"
      },
      "source": [
        "# Returns with a dictionary. Key is the number of the node and \n",
        "# the value is the distant between the current node(act) and its neighbour.\n",
        "# The list is ascendant by the distance.\n",
        "\n",
        "def get_dist(act, neighbours):\n",
        "    dist = {}\n",
        "    \n",
        "    for i in neighbours:\n",
        "        add_element(dist, i, Euclidean_dist(act, i))\n",
        "    \n",
        "    dist = sorted(dist.items(), key=lambda x: x[1])\n",
        "    \n",
        "    return dist"
      ],
      "execution_count": 8,
      "outputs": []
    },
    {
      "cell_type": "code",
      "metadata": {
        "id": "fRqhgmFeKc07"
      },
      "source": [
        "# Calculates the full lenght of the path through the nodes.\n",
        "\n",
        "def path_dist(g):\n",
        "    dist = 0\n",
        "    \n",
        "    for i in range(len(g)-1):\n",
        "        dist = dist + Euclidean_dist(g[i], g[i+1])\n",
        "    \n",
        "    return dist"
      ],
      "execution_count": 9,
      "outputs": []
    },
    {
      "cell_type": "code",
      "metadata": {
        "id": "-zcI4nCGKc07"
      },
      "source": [
        "# Entropy by numpy library\n",
        "\n",
        "def entropy(labels, base=None):\n",
        "    n_labels = len(labels)\n",
        "    \n",
        "    if n_labels <= 1:\n",
        "        return 0\n",
        "    \n",
        "    value, counts = np.unique(labels, return_counts=True)\n",
        "    probs = counts/n_labels\n",
        "    n_classes = np.count_nonzero(probs)\n",
        "    \n",
        "    if n_classes <= 1:\n",
        "        return 0\n",
        "    \n",
        "    ent = 0.\n",
        "    \n",
        "    base = e if base is None else base\n",
        "    for i in probs:\n",
        "        ent -= i * log(i, base)\n",
        "        \n",
        "    return ent"
      ],
      "execution_count": 10,
      "outputs": []
    },
    {
      "cell_type": "code",
      "metadata": {
        "id": "jHBiAygvKc07"
      },
      "source": [
        "# Gives back the distance between two chosen points\n",
        "\n",
        "def distCalculator(a,b,dist):\n",
        "    x = a * len(positions[0]) + b\n",
        "    return np.sum(dist[x])"
      ],
      "execution_count": 11,
      "outputs": []
    },
    {
      "cell_type": "code",
      "metadata": {
        "id": "Qe-vP2FTKc08"
      },
      "source": [
        "# ArrayList[num, [a,b]]\n",
        "\n",
        "def getList(addList):\n",
        "    a_b = []\n",
        "    for i in range(len(positions[0])):\n",
        "        for j in range(len(positions[0])):\n",
        "            if j!=i:\n",
        "                current = [i, j]\n",
        "                a_b.append(current)\n",
        "                \n",
        "    list = []\n",
        "    for i in range(len(a_b)):\n",
        "        list.append([addList[i], a_b[i]])\n",
        "    \n",
        "    return list"
      ],
      "execution_count": 12,
      "outputs": []
    },
    {
      "cell_type": "code",
      "metadata": {
        "id": "jZc_Uj5TKc08"
      },
      "source": [
        "# Get the differences of a node\n",
        "\n",
        "def getNodeDiff(num, list):\n",
        "    l = []\n",
        "    for i in list:\n",
        "        if i[1][0] == num:\n",
        "            y = i[0]\n",
        "            x = i[1][1]\n",
        "            vec = [x,y]\n",
        "            l.append(vec)\n",
        "        l = sorted(l, key=lambda x: x[0])\n",
        "    return l"
      ],
      "execution_count": 13,
      "outputs": []
    },
    {
      "cell_type": "code",
      "metadata": {
        "id": "vSYPUUFZKc08"
      },
      "source": [
        "# Calculates the average entropy for each routing tables\n",
        "\n",
        "def avgEntropy(list):\n",
        "    avg = []\n",
        "    for i in range(len(positions[0])):\n",
        "        node = getNodeDiff(i, list)\n",
        "        num = 0\n",
        "        for j in node:\n",
        "            num += j[1]\n",
        "        avg.append(num/len(positions[0]))\n",
        "    return avg"
      ],
      "execution_count": 14,
      "outputs": []
    },
    {
      "cell_type": "markdown",
      "metadata": {
        "id": "lzQE5OosKc09"
      },
      "source": [
        "# Pathfinding algorithms"
      ]
    },
    {
      "cell_type": "markdown",
      "metadata": {
        "id": "sCpa0dSkKc09"
      },
      "source": [
        "## Greedy algorithm"
      ]
    },
    {
      "cell_type": "code",
      "metadata": {
        "id": "-mNpKa2KKc0-"
      },
      "source": [
        "# The algorithm chooses the neighbour node, which one is the closest the to end node.\n",
        "# If the closest node is already on the routing list, the algorithm will choose the next one in the ascendant list.\n",
        "# A node could be on the routing table several times, if the algorithm already used all of the elements in the neighbour list.\n",
        "# If that happens, it will choose the closest one again.\n",
        "\n",
        "def greedy(p, z, routing_nodes, routing_dist):\n",
        "    ready = False\n",
        "    routing_nodes.append(p)\n",
        "    act = p       # current node\n",
        "    \n",
        "    while ready==False:\n",
        "        neighbours = get_neighbours(act)\n",
        "        \n",
        "        # Calculates the distances of the neighbour nodes from the end node\n",
        "        dist = get_dist(z, neighbours)\n",
        "        \n",
        "        # if the 'z' is connected with 'act'\n",
        "        if z in neighbours:\n",
        "            routing_dist.append(Euclidean_dist(act, dist[0][0]))\n",
        "            routing_nodes.append(z)\n",
        "            ready=True\n",
        "        \n",
        "        # if 'act' has no neighbours \n",
        "        elif len(neighbours) == 0:\n",
        "            return \"No neighbours\"\n",
        "        \n",
        "        # if 'act' has just 1 neighbour\n",
        "        elif len(neighbours) == 1:\n",
        "            routing_dist.append(Euclidean_dist(act, dist[0][0]))\n",
        "            act = neighbours[0]\n",
        "            routing_nodes.append(act)\n",
        "            \n",
        "        elif len(neighbours) > 1:\n",
        "            not_found = False\n",
        "            for i in dist:\n",
        "                if i[0] not in routing_nodes:\n",
        "                    routing_dist.append(Euclidean_dist(act, i[0]))\n",
        "                    act = i[0]\n",
        "                    routing_nodes.append(act)\n",
        "                    not_found = True\n",
        "                    break\n",
        "            # If there are no more choosable node on the list     \n",
        "            if not_found == False:\n",
        "                routing_dist.append(Euclidean_dist(act, dist[0][0]))\n",
        "                act = dist[0][0]\n",
        "                routing_nodes.append(act)"
      ],
      "execution_count": 15,
      "outputs": []
    },
    {
      "cell_type": "markdown",
      "metadata": {
        "id": "GYhhenwwKc0-"
      },
      "source": [
        "## Dijkstra algorithm"
      ]
    },
    {
      "cell_type": "code",
      "metadata": {
        "id": "hhhBUovRKc1A"
      },
      "source": [
        "# The algorithm chooses the neighbour node, through the distance to the end node from 'p' is the shortest.\n",
        "# If the closest node is already on the routing list, the algorithm will choose the next one in the ascendant list.\n",
        "# A node could be on the routing table several times, if the algorithm already used all of the elements in the neighbour list.\n",
        "# If that happens, it will choose the closest one again.\n",
        "\n",
        "def dijkstra(p, z, routing_nodes, routing_dist):\n",
        "    ready = False\n",
        "    routing_nodes.append(p)\n",
        "    act = p       # current node\n",
        "    \n",
        "    while ready==False:\n",
        "        neighbours = get_neighbours(act)\n",
        "        \n",
        "        # Calculates the distances of the neighbour nodes from the end node\n",
        "        dist = get_dist(z, neighbours)\n",
        "        \n",
        "        # if the 'z' is connected with 'act'\n",
        "        if z in neighbours:\n",
        "            routing_dist.append(Euclidean_dist(act, dist[0][0]))\n",
        "            routing_nodes.append(z)\n",
        "            ready=True\n",
        "        \n",
        "        # if 'act' has no neighbours \n",
        "        elif len(neighbours)==0:\n",
        "            return \"No neighbours\"\n",
        "        \n",
        "        # if 'act' has just 1 neighbour\n",
        "        elif len(neighbours) == 1:\n",
        "            routing_dist.append(Euclidean_dist(act, dist[0][0]))\n",
        "            act = neighbours[0]\n",
        "            routing_nodes.append(act)\n",
        "            \n",
        "        elif len(neighbours) > 1:\n",
        "            # distance from 'p' to the neighbours\n",
        "            dist1 = get_dist(act, neighbours)\n",
        "            # distance from the neighbours to the end node\n",
        "            dist2 = get_dist(z, neighbours)\n",
        "            dist = {}\n",
        "            \n",
        "            # Calculate the distance from 'p' through the neighbours to the end node\n",
        "            for i in range(len(neighbours)):\n",
        "                for j in range(len(neighbours)):\n",
        "                    if dist1[i][0]==dist2[j][0]:\n",
        "                        val1 = dist1[i][1]\n",
        "                        val2 = dist2[j][1]\n",
        "                        add_element(dist, dist1[i][0], val1[0]+val2[0])\n",
        "            dist = sorted(dist.items(), key=lambda x: x[1])\n",
        "            \n",
        "            not_found = False\n",
        "            for i in dist:\n",
        "                if i[0] not in routing_nodes:\n",
        "                    routing_dist.append(Euclidean_dist(act, i[0]))\n",
        "                    act = i[0]\n",
        "                    routing_nodes.append(act)\n",
        "                    not_found = True\n",
        "                    break\n",
        "            # If there are no more choosable node on the list     \n",
        "            if not_found == False:\n",
        "                routing_dist.append(Euclidean_dist(act, dist[0][0]))\n",
        "                act = dist[0][0]\n",
        "                routing_nodes.append(act)"
      ],
      "execution_count": 16,
      "outputs": []
    },
    {
      "cell_type": "markdown",
      "metadata": {
        "id": "81x8ZLVQKc1B"
      },
      "source": [
        "## Random algorithm 1. (Fully random)"
      ]
    },
    {
      "cell_type": "code",
      "metadata": {
        "id": "iWBWMR5HKc1B"
      },
      "source": [
        "# The algorithm chooses randomly amongst neighbours\n",
        "\n",
        "def rand(p, z, routing_nodes, routing_dist):\n",
        "    ready = False\n",
        "    routing_nodes.append(p)\n",
        "    act = p       # current node\n",
        "    \n",
        "    while ready==False:\n",
        "        neighbours = get_neighbours(act)\n",
        "        \n",
        "        # Calculates the distances of the neighbour nodes from the end node\n",
        "        dist = get_dist(z, neighbours)\n",
        "        \n",
        "        # if the 'z' is connected with 'act'\n",
        "        if z in neighbours:\n",
        "            routing_dist.append(Euclidean_dist(act, dist[0][0]))\n",
        "            routing_nodes.append(z)\n",
        "            ready=True\n",
        "        \n",
        "        # if 'act' has no neighbours \n",
        "        elif len(neighbours) == 0:\n",
        "            return \"No neighbours\"\n",
        "        \n",
        "        # if 'act' has just 1 neighbour\n",
        "        elif len(neighbours) == 1:\n",
        "            routing_dist.append(Euclidean_dist(act, dist[0][0]))\n",
        "            act = neighbours[0]\n",
        "            routing_nodes.append(act)\n",
        "            \n",
        "        elif len(neighbours) > 1:\n",
        "            nextHop = random.choice(neighbours)\n",
        "            print(nextHop)\n",
        "            routing_dist.append(Euclidean_dist(act, nextHop))\n",
        "            act = nextHop\n",
        "            routing_nodes.append(act)"
      ],
      "execution_count": 17,
      "outputs": []
    },
    {
      "cell_type": "markdown",
      "metadata": {
        "id": "UuWew23WKc1C"
      },
      "source": [
        "## Random algorithm 2. (Random decision with boundary) "
      ]
    },
    {
      "cell_type": "code",
      "metadata": {
        "id": "BfQVfaJGKc1D"
      },
      "source": [
        "# The algorithm chooses randomly amongst neighbours, which ones are the same or within distance with boundary from the endpoint\n",
        "\n",
        "def randBoundary(p, z, routing_nodes, routing_dist, boundary=0):\n",
        "    ready = False\n",
        "    routing_nodes.append(p)\n",
        "    act = p       # current node\n",
        "    \n",
        "    while ready==False:\n",
        "        neighbours = get_neighbours(act)\n",
        "        \n",
        "        # Calculates the distances of the neighbour nodes from the end node\n",
        "        dist = get_dist(z, neighbours)\n",
        "        \n",
        "        # if the 'z' is connected with 'act'\n",
        "        if z in neighbours:\n",
        "            routing_dist.append(Euclidean_dist(act, dist[0][0]))\n",
        "            routing_nodes.append(z)\n",
        "            ready=True\n",
        "        \n",
        "        # if 'act' has no neighbours \n",
        "        elif len(neighbours) == 0:\n",
        "            return \"No neighbours\"\n",
        "        \n",
        "        # if 'act' has just 1 neighbour\n",
        "        elif len(neighbours) == 1:\n",
        "            routing_dist.append(Euclidean_dist(act, dist[0][0]))\n",
        "            act = neighbours[0]\n",
        "            routing_nodes.append(act)\n",
        "            \n",
        "        elif len(neighbours) > 1:\n",
        "            list = []\n",
        "            for i in dist:\n",
        "                if len(list) == 0:\n",
        "                    list.append(i)\n",
        "                elif sum(list[0][1]) + boundary >= i[1]:\n",
        "                    list.append(i)\n",
        "            reduced_neighbours = []\n",
        "            for i in list:\n",
        "                reduced_neighbours.append(i[0])\n",
        "            nextHop = random.choice(reduced_neighbours)\n",
        "            routing_dist.append(Euclidean_dist(act, nextHop))\n",
        "            act = nextHop\n",
        "            routing_nodes.append(act)"
      ],
      "execution_count": 18,
      "outputs": []
    },
    {
      "cell_type": "code",
      "metadata": {
        "id": "mPrCA7Z4Kc1E"
      },
      "source": [
        "# The algorithm chooses the node which one is the closest to the current node and they are neighbours.\n",
        "# If the closest node is already on the routing list, the algorithm will choose the next one in the ascendant list.\n",
        "# A node could be on the routing table several times, if the algorithm already used all of the elements in the neighbour list.\n",
        "# If that happens, it will choose the closest one again.\n",
        "\n",
        "def greedy_alternative(p, z, strech):\n",
        "    ready = False\n",
        "    routing = []\n",
        "    routing.append(p)\n",
        "    act = p       # current node\n",
        "    \n",
        "    while ready==False:\n",
        "        neighbours = get_neighbours(act)\n",
        "        \n",
        "        # if the 'z' is connected with 'act'\n",
        "        if z in neighbours:\n",
        "            routing.append(z)\n",
        "            return routing\n",
        "        \n",
        "        # if 'act' has no neighbours \n",
        "        elif len(neighbours)==0:\n",
        "            return \"No neighbours\"\n",
        "        \n",
        "        # if 'act' has just 1 neighbour\n",
        "        elif len(neighbours) == 1:\n",
        "            act = neighbours[0]\n",
        "            routing.append(act)\n",
        "            \n",
        "        elif len(neighbours) > 1:\n",
        "            dist = get_dist(act, neighbours)\n",
        "            \n",
        "            # print(\"Neighbours: \", neighbours)\n",
        "            # print(\"DIST: \", dist)\n",
        "            # print()\n",
        "            \n",
        "            not_found = False\n",
        "            for i in dist:\n",
        "                if i[0] not in routing:\n",
        "                    act = i[0]\n",
        "                    routing.append(act)\n",
        "                    not_found = True\n",
        "                    break\n",
        "            # If there are no more choosable node on the list     \n",
        "            if not_found == False:\n",
        "                act = dist[0][0]\n",
        "                routing.append(act)"
      ],
      "execution_count": 19,
      "outputs": []
    },
    {
      "cell_type": "markdown",
      "metadata": {
        "id": "s28G2rbdKc1E"
      },
      "source": [
        "# Additional methods to the algorithms"
      ]
    },
    {
      "cell_type": "markdown",
      "metadata": {
        "id": "kB2u_JTWKc1F"
      },
      "source": [
        "### Adding elements to routing tables"
      ]
    },
    {
      "cell_type": "code",
      "metadata": {
        "id": "Mr8cO772Kc1F"
      },
      "source": [
        "# Add the path of p->z to the routing table \n",
        "\n",
        "def greedyAlgorithm(p,z,dist,nodes):\n",
        "    routing_nodes = []\n",
        "    routing_dist = []\n",
        "    greedy(p,z,routing_nodes,routing_dist)\n",
        "    if routing_nodes not in nodes:\n",
        "        nodes.append(routing_nodes)\n",
        "        dist.append(routing_dist)"
      ],
      "execution_count": 20,
      "outputs": []
    },
    {
      "cell_type": "code",
      "metadata": {
        "id": "8lNpjkFDKc1G"
      },
      "source": [
        "# Add the path of p->z to the routing table \n",
        "\n",
        "def dijkstraAlgorithm(p,z,dist,nodes):\n",
        "    routing_nodes = []\n",
        "    routing_dist = []\n",
        "    dijkstra(p,z,routing_nodes,routing_dist)\n",
        "    if routing_nodes not in nodes:\n",
        "        nodes.append(routing_nodes)\n",
        "        dist.append(routing_dist)"
      ],
      "execution_count": 21,
      "outputs": []
    },
    {
      "cell_type": "code",
      "metadata": {
        "id": "DS7MAOPuKc1G"
      },
      "source": [
        "# Add the path of p->z to the routing table \n",
        "\n",
        "def randAlgorithm(p,z,dist,nodes):\n",
        "    routing_nodes = []\n",
        "    routing_dist = []\n",
        "    rand(p,z,routing_nodes,routing_dist)\n",
        "    if routing_nodes not in nodes:\n",
        "        nodes.append(routing_nodes)\n",
        "        dist.append(routing_dist)"
      ],
      "execution_count": 22,
      "outputs": []
    },
    {
      "cell_type": "code",
      "metadata": {
        "id": "gVUc28OsKc1G"
      },
      "source": [
        "# Add the path of p->z to the routing table \n",
        "\n",
        "def randBoundaryAlgorithm(p, z, dist, nodes, boundary=0):\n",
        "    routing_nodes = []\n",
        "    routing_dist = []\n",
        "    randBoundary(p,z,routing_nodes,routing_dist,boundary)\n",
        "    if routing_nodes not in nodes:\n",
        "        nodes.append(routing_nodes)\n",
        "        dist.append(routing_dist)"
      ],
      "execution_count": 23,
      "outputs": []
    },
    {
      "cell_type": "code",
      "metadata": {
        "id": "vkrkqHpSKc1G"
      },
      "source": [
        "# Add the path of p->z to the routing table \n",
        "\n",
        "def greedyAlternative(p,z,nodes):\n",
        "    path = greedy_alternative(p,z)\n",
        "    if path not in nodes:\n",
        "        nodes.append(path)"
      ],
      "execution_count": 24,
      "outputs": []
    },
    {
      "cell_type": "markdown",
      "metadata": {
        "id": "RMazNvYpKc1H"
      },
      "source": [
        "### Iteration"
      ]
    },
    {
      "cell_type": "code",
      "metadata": {
        "id": "8rri5cYgKc1H"
      },
      "source": [
        "# Iterate throught all of the nodes and run the greedy algorithm on them.\n",
        "\n",
        "def greedyIter(dist, nodes):\n",
        "    for i in range(len(positions[0])):\n",
        "        for j in range(len(positions[0])):\n",
        "            if i!= j:\n",
        "                greedyAlgorithm(i,j,dist,nodes)"
      ],
      "execution_count": 25,
      "outputs": []
    },
    {
      "cell_type": "code",
      "metadata": {
        "id": "QK0wAZIlKc1H"
      },
      "source": [
        "# Iterate throught all of the nodes and run the dijkstra algorithm on them.\n",
        "\n",
        "def dijkstraIter(dist, nodes):\n",
        "    for i in range(len(positions[0])):\n",
        "        for j in range(len(positions[0])):\n",
        "            if i!= j:\n",
        "                dijkstraAlgorithm(i,j,dist,nodes)"
      ],
      "execution_count": 26,
      "outputs": []
    },
    {
      "cell_type": "code",
      "metadata": {
        "id": "XJchBcLLKc1H"
      },
      "source": [
        "# Iterate throught all of the nodes and run the rand algorithm on them.\n",
        "\n",
        "def randIter(dist, nodes):\n",
        "    for i in range(len(positions[0])):\n",
        "        for j in range(len(positions[0])):\n",
        "            if i!= j:\n",
        "                randAlgorithm(i,j,dist,nodes)"
      ],
      "execution_count": 27,
      "outputs": []
    },
    {
      "cell_type": "code",
      "metadata": {
        "id": "bVsK7QpcKc1I"
      },
      "source": [
        "# Iterate throught all of the nodes and run the rand algorithm on them.\n",
        "\n",
        "def randBoundaryIter(dist, nodes, boundary=0):\n",
        "    for i in range(len(positions[0])):\n",
        "        for j in range(len(positions[0])):\n",
        "            if i!= j:\n",
        "                randBoundaryAlgorithm(i,j,dist,nodes,boundary)"
      ],
      "execution_count": 28,
      "outputs": []
    },
    {
      "cell_type": "code",
      "metadata": {
        "id": "IwzeQrwTKc1I"
      },
      "source": [
        "# Iterate throught all of the nodes and run the greedy_alternative algorithm on them.\n",
        "\n",
        "def greedyAlternativeIter():\n",
        "    for i in range(len(positions[0])):\n",
        "        for j in range(len(positions[0])):\n",
        "            if i!= j:\n",
        "                greedyAlternative(i,j)"
      ],
      "execution_count": 29,
      "outputs": []
    },
    {
      "cell_type": "markdown",
      "metadata": {
        "id": "ZH4sTur7Kc1I"
      },
      "source": [
        "# I/O methods"
      ]
    },
    {
      "cell_type": "code",
      "metadata": {
        "id": "Vt1wQdYuKc1I"
      },
      "source": [
        "# Read connection table between nodes\n",
        "\n",
        "def connectionRead(name):\n",
        "    connections = pd.read_csv(name + \".csv\", header=None)\n",
        "    return connections"
      ],
      "execution_count": 30,
      "outputs": []
    },
    {
      "cell_type": "code",
      "metadata": {
        "id": "ZAIbw8nNKc1I"
      },
      "source": [
        "# Read positions of nodes (X,Y,Z)\n",
        "\n",
        "def positionRead(name):\n",
        "    positions = pd.read_csv(name + \".csv\", header=None, sep=\";\")\n",
        "    # Remove a plus sign from the end of the number\n",
        "    positions[0][0] = positions[0][0][:-1]\n",
        "    positions[0] = positions[0].astype(float)    # Convert data to numerical value\n",
        "    return positions"
      ],
      "execution_count": 31,
      "outputs": []
    },
    {
      "cell_type": "code",
      "metadata": {
        "id": "sbVoaOYiKc1J"
      },
      "source": [
        "# for one col csv\n",
        "\n",
        "def csv2list(name):\n",
        "    df = pd.read_csv(name + \".csv\", header=None)\n",
        "    list=df[0].tolist()\n",
        "    return list"
      ],
      "execution_count": 32,
      "outputs": []
    },
    {
      "cell_type": "code",
      "metadata": {
        "id": "lbr6jungKc1J"
      },
      "source": [
        "# for multicol csv\n",
        "\n",
        "def csv2array(name):\n",
        "    df = pd.read_csv(name + \".csv\", sep=';',header=None)\n",
        "    array = df.values\n",
        "    \n",
        "    list = []\n",
        "    for i in array:\n",
        "        list.append(i[np.logical_not(np.isnan(i))])\n",
        "\n",
        "    values = []\n",
        "    for i in list:\n",
        "        current = []\n",
        "        for j in i:\n",
        "            current.append(j)\n",
        "        values.append(current)\n",
        "        \n",
        "    return values"
      ],
      "execution_count": 33,
      "outputs": []
    },
    {
      "cell_type": "code",
      "metadata": {
        "id": "mgoQAyJlKc1J"
      },
      "source": [
        "# Print out the 'list' to the 'name.csv' file \n",
        "\n",
        "def printOut(name, list):\n",
        "    with open(name + '.csv', 'w', newline='') as csv_1:\n",
        "        csv_out = csv.writer(csv_1)\n",
        "        csv_out.writerows([list[index]] for index in range(0, len(list)))"
      ],
      "execution_count": 34,
      "outputs": []
    },
    {
      "cell_type": "markdown",
      "metadata": {
        "id": "r_0JpvtoKc1J"
      },
      "source": [
        "# Important variables, lists..."
      ]
    },
    {
      "cell_type": "code",
      "metadata": {
        "colab": {
          "base_uri": "https://localhost:8080/"
        },
        "id": "boH_pm9jKc1K",
        "outputId": "abeb1223-ce54-4f3a-9ee8-c74775456048"
      },
      "source": [
        "# List of the positions of nodes\n",
        "positions = positionRead(\"Network/Brain_data/Brain1Positions\")\n",
        "\n",
        "# List of how nodes connected to each other\n",
        "connections = connectionRead(\"Network/Brain_data/Brain1Connections\")"
      ],
      "execution_count": 35,
      "outputs": [
        {
          "output_type": "stream",
          "text": [
            "C:\\Users\\fkonr\\anaconda3\\lib\\site-packages\\ipykernel_launcher.py:6: SettingWithCopyWarning: \n",
            "A value is trying to be set on a copy of a slice from a DataFrame\n",
            "\n",
            "See the caveats in the documentation: https://pandas.pydata.org/pandas-docs/stable/user_guide/indexing.html#returning-a-view-versus-a-copy\n",
            "  \n"
          ],
          "name": "stderr"
        }
      ]
    }
  ]
}