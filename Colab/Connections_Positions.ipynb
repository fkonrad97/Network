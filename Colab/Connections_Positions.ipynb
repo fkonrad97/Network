{
 "cells": [
  {
   "cell_type": "code",
   "execution_count": null,
   "metadata": {
    "id": "TMY1FAkcKpBU"
   },
   "outputs": [],
   "source": [
    "import csv\n",
    "import itertools\n",
    "import pandas as pd\n",
    "import numpy as np\n",
    "from math import log, e\n",
    "import random"
   ]
  },
  {
   "cell_type": "code",
   "execution_count": 1,
   "metadata": {
    "colab": {
     "base_uri": "https://localhost:8080/"
    },
    "executionInfo": {
     "elapsed": 1120,
     "status": "ok",
     "timestamp": 1617496010185,
     "user": {
      "displayName": "Konrád Farkas",
      "photoUrl": "",
      "userId": "15025319325510783859"
     },
     "user_tz": -120
    },
    "id": "sOcYmOXlKpBc",
    "outputId": "28aff837-d0cc-4258-cf53-814db1a03b2e"
   },
   "outputs": [
    {
     "name": "stderr",
     "output_type": "stream",
     "text": [
      "ERROR:root:File `'/Methods.ipynb.py'` not found.\n"
     ]
    }
   ],
   "source": [
    "# Add Methods notebook to this notebook\n",
    "%run /Methods.ipynb"
   ]
  },
  {
   "cell_type": "code",
   "execution_count": null,
   "metadata": {
    "colab": {
     "base_uri": "https://localhost:8080/",
     "height": 168
    },
    "executionInfo": {
     "elapsed": 1120,
     "status": "error",
     "timestamp": 1617496010193,
     "user": {
      "displayName": "Konrád Farkas",
      "photoUrl": "",
      "userId": "15025319325510783859"
     },
     "user_tz": -120
    },
    "id": "p3dYnOTwKpBc",
    "outputId": "b7a3195c-7e06-4f49-c8c6-c6d2dd7a79a6",
    "scrolled": true
   },
   "outputs": [
    {
     "ename": "NameError",
     "evalue": "ignored",
     "output_type": "error",
     "traceback": [
      "\u001b[0;31m---------------------------------------------------------------------------\u001b[0m",
      "\u001b[0;31mNameError\u001b[0m                                 Traceback (most recent call last)",
      "\u001b[0;32m<ipython-input-27-207d94a8a5e2>\u001b[0m in \u001b[0;36m<module>\u001b[0;34m()\u001b[0m\n\u001b[0;32m----> 1\u001b[0;31m \u001b[0mdifferenceNeighbourDist\u001b[0m\u001b[0;34m(\u001b[0m\u001b[0;34m)\u001b[0m\u001b[0;34m\u001b[0m\u001b[0;34m\u001b[0m\u001b[0m\n\u001b[0m",
      "\u001b[0;31mNameError\u001b[0m: name 'differenceNeighbourDist' is not defined"
     ]
    }
   ],
   "source": [
    "differenceNeighbourDist()"
   ]
  },
  {
   "cell_type": "code",
   "execution_count": null,
   "metadata": {
    "id": "YW6esotKKpBe"
   },
   "outputs": [],
   "source": [
    "distNeighbours()"
   ]
  },
  {
   "cell_type": "markdown",
   "metadata": {
    "id": "t8OfLoJkKpBf"
   },
   "source": [
    "# Greedy"
   ]
  },
  {
   "cell_type": "code",
   "execution_count": null,
   "metadata": {
    "id": "oOUa_HyiKpBf"
   },
   "outputs": [],
   "source": [
    "# Iter Greedy algorithm\n",
    "\n",
    "routingMap_nodesG = []\n",
    "routingMap_distG = []\n",
    "\n",
    "greedyIter(routingMap_distG, routingMap_nodesG)"
   ]
  },
  {
   "cell_type": "code",
   "execution_count": null,
   "metadata": {
    "id": "1-F3_8uUKpBf"
   },
   "outputs": [],
   "source": [
    "# Calculate entropy for each path\n",
    "\n",
    "nodes_entropyG = []\n",
    "dist_entropyG = []\n",
    "\n",
    "for i in range(len(routingMap_nodesG)):\n",
    "    nodes_entropyG.append(entropy(routingMap_nodesG[i]))\n",
    "    dist_entropyG.append(entropy(routingMap_distG[i]))"
   ]
  },
  {
   "cell_type": "code",
   "execution_count": null,
   "metadata": {
    "id": "bz538sUVKpBg"
   },
   "outputs": [],
   "source": [
    "len(dist_entropyG)"
   ]
  },
  {
   "cell_type": "code",
   "execution_count": null,
   "metadata": {
    "id": "Wp_3CLreKpBg"
   },
   "outputs": [],
   "source": [
    "# Average entropy\n",
    "\n",
    "sum_entG = 0\n",
    "for i in range(len(routingMap_distG)):\n",
    "    # sum_entG += dist_entropyG[i]\n",
    "    sum_entG += nodes_entrop\n",
    "    yG[i]\n",
    "    \n",
    "avr_entG = sum_entG / len(routingMap_distG)\n",
    "avr_entG"
   ]
  },
  {
   "cell_type": "markdown",
   "metadata": {
    "id": "2BU1-pbXKpBg"
   },
   "source": [
    "# Dijkstra"
   ]
  },
  {
   "cell_type": "code",
   "execution_count": null,
   "metadata": {
    "id": "mjDDNNH6KpBh"
   },
   "outputs": [],
   "source": [
    "# Iter Dijsktra algorithm\n",
    "\n",
    "routingMap_nodesD = []\n",
    "routingMap_distD = []\n",
    "\n",
    "dijkstraIter(routingMap_distD, routingMap_nodesD)"
   ]
  },
  {
   "cell_type": "code",
   "execution_count": null,
   "metadata": {
    "id": "nF7ynIyxKpBh"
   },
   "outputs": [],
   "source": [
    "# Calculate entropy for each path\n",
    "\n",
    "nodes_entropyD = []\n",
    "dist_entropyD = []\n",
    "\n",
    "for i in range(len(routingMap_nodesD)):\n",
    "    nodes_entropyD.append(entropy(routingMap_nodesD[i]))\n",
    "    dist_entropyD.append(entropy(routingMap_distD[i]))"
   ]
  },
  {
   "cell_type": "code",
   "execution_count": null,
   "metadata": {
    "id": "UzyAKegoKpBh"
   },
   "outputs": [],
   "source": [
    "# Average entropy\n",
    "\n",
    "sum_entD = 0\n",
    "for i in range(len(routingMap_distD)):\n",
    "    # sum_entD += dist_entropyD[i]\n",
    "    sum_entD += nodes_entropyD[i]\n",
    "    \n",
    "avr_entD = sum_entD / len(routingMap_distD)\n",
    "avr_entD"
   ]
  },
  {
   "cell_type": "markdown",
   "metadata": {
    "id": "IJm-y_smKpBh"
   },
   "source": [
    "# Rand"
   ]
  },
  {
   "cell_type": "code",
   "execution_count": null,
   "metadata": {
    "id": "IBjAab1WKpBi",
    "scrolled": true
   },
   "outputs": [],
   "source": [
    "'''# Iter Rand algorithm\n",
    "entropyRand = []\n",
    "\n",
    "for i in range(100):\n",
    "    print(i)\n",
    "    tmpNode = []\n",
    "    tmpDist = []\n",
    "    randIter(tmpDist, tmpNode)\n",
    "    if entropyRand == []:\n",
    "        for j in tmpDist:\n",
    "            entropyRand.append(entropy(j))\n",
    "    else:\n",
    "        for j in range(len(tmpDist)):\n",
    "            entropyRand[j] += entropy(tmpDist[j])'''"
   ]
  },
  {
   "cell_type": "markdown",
   "metadata": {
    "id": "zSZGNxeXKpBi"
   },
   "source": [
    "# Random with boundaries"
   ]
  },
  {
   "cell_type": "code",
   "execution_count": null,
   "metadata": {
    "id": "5PFzcwyhKpBi"
   },
   "outputs": [],
   "source": [
    "# Iter Rand with boundary algorithm\n",
    "# Iterate the algorithm 100 times\n",
    "entropyRand = []\n",
    "\n",
    "for i in range(100):\n",
    "    print(i)\n",
    "    tmpNode = []\n",
    "    tmpDist = []\n",
    "    randBoundaryIter(tmpDist, tmpNode, 2)\n",
    "    if entropyRand == []:\n",
    "        for j in tmpDist:\n",
    "            entropyRand.append(entropy(j))\n",
    "    else:\n",
    "        for j in range(len(tmpDist)):\n",
    "            entropyRand[j] += entropy(tmpDist[j])"
   ]
  },
  {
   "cell_type": "code",
   "execution_count": null,
   "metadata": {
    "id": "Y5sLKLoaKpBi"
   },
   "outputs": [],
   "source": [
    "printOut('Data/Centroid4/entDistGreedy4', dist_entropyG)\n",
    "printOut('Data/Centroid4/entDistDijkstra4', dist_entropyD)"
   ]
  }
 ],
 "metadata": {
  "colab": {
   "collapsed_sections": [],
   "name": "Connections_Positions.ipynb másolata",
   "provenance": [
    {
     "file_id": "1ZcBsTQ0c2fGmSYagiD7ddeP8TgnwA3SX",
     "timestamp": 1617496174496
    }
   ]
  },
  "kernelspec": {
   "display_name": "Python 3",
   "language": "python",
   "name": "python3"
  },
  "language_info": {
   "codemirror_mode": {
    "name": "ipython",
    "version": 3
   },
   "file_extension": ".py",
   "mimetype": "text/x-python",
   "name": "python",
   "nbconvert_exporter": "python",
   "pygments_lexer": "ipython3",
   "version": "3.7.6"
  }
 },
 "nbformat": 4,
 "nbformat_minor": 1
}
