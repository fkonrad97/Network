{
  "nbformat": 4,
  "nbformat_minor": 0,
  "metadata": {
    "colab": {
      "name": "Connections_Positions.ipynb másolata",
      "provenance": [],
      "collapsed_sections": [],
      "toc_visible": true
    },
    "kernelspec": {
      "display_name": "Python 3",
      "language": "python",
      "name": "python3"
    },
    "language_info": {
      "codemirror_mode": {
        "name": "ipython",
        "version": 3
      },
      "file_extension": ".py",
      "mimetype": "text/x-python",
      "name": "python",
      "nbconvert_exporter": "python",
      "pygments_lexer": "ipython3",
      "version": "3.7.6"
    }
  },
  "cells": [
    {
      "cell_type": "code",
      "metadata": {
        "id": "TMY1FAkcKpBU"
      },
      "source": [
        "import csv\n",
        "import itertools\n",
        "import pandas as pd\n",
        "import numpy as np\n",
        "from math import log, e\n",
        "import random"
      ],
      "execution_count": 9,
      "outputs": []
    },
    {
      "cell_type": "code",
      "metadata": {
        "colab": {
          "base_uri": "https://localhost:8080/"
        },
        "id": "sOcYmOXlKpBc",
        "outputId": "166f978d-cf7a-4ec8-bd54-5b618bbe5806"
      },
      "source": [
        "# Add Methods notebook to this notebook\n",
        "%run Network/Colab/Methods.ipynb"
      ],
      "execution_count": 10,
      "outputs": [
        {
          "output_type": "stream",
          "text": [
            "Network/Colab/Methods.ipynb:6: SettingWithCopyWarning: \n",
            "A value is trying to be set on a copy of a slice from a DataFrame\n",
            "\n",
            "See the caveats in the documentation: https://pandas.pydata.org/pandas-docs/stable/user_guide/indexing.html#returning-a-view-versus-a-copy\n",
            "  \"name\": \"Methods.ipynb másolata\",\n"
          ],
          "name": "stderr"
        }
      ]
    },
    {
      "cell_type": "code",
      "metadata": {
        "colab": {
          "base_uri": "https://localhost:8080/"
        },
        "id": "p3dYnOTwKpBc",
        "scrolled": true,
        "outputId": "cca88e6b-3216-4258-9b60-6b1c26f1f4aa"
      },
      "source": [
        "differenceNeighbourDist()"
      ],
      "execution_count": 11,
      "outputs": [
        {
          "output_type": "execute_result",
          "data": {
            "text/plain": [
              "2.1469940658762883"
            ]
          },
          "metadata": {
            "tags": []
          },
          "execution_count": 11
        }
      ]
    },
    {
      "cell_type": "code",
      "metadata": {
        "id": "YW6esotKKpBe",
        "outputId": "5aa31920-e977-4811-b109-1e0f73475599",
        "colab": {
          "base_uri": "https://localhost:8080/"
        }
      },
      "source": [
        "distNeighbours()"
      ],
      "execution_count": 12,
      "outputs": [
        {
          "output_type": "execute_result",
          "data": {
            "text/plain": [
              "50.44033027100041"
            ]
          },
          "metadata": {
            "tags": []
          },
          "execution_count": 12
        }
      ]
    },
    {
      "cell_type": "markdown",
      "metadata": {
        "id": "t8OfLoJkKpBf"
      },
      "source": [
        "# Greedy"
      ]
    },
    {
      "cell_type": "code",
      "metadata": {
        "id": "oOUa_HyiKpBf"
      },
      "source": [
        "# Iter Greedy algorithm\n",
        "\n",
        "routingMap_nodesG = []\n",
        "routingMap_distG = []\n",
        "\n",
        "greedyIter(routingMap_distG, routingMap_nodesG)"
      ],
      "execution_count": null,
      "outputs": []
    },
    {
      "cell_type": "code",
      "metadata": {
        "id": "1-F3_8uUKpBf"
      },
      "source": [
        "# Calculate entropy for each path\n",
        "\n",
        "nodes_entropyG = []\n",
        "dist_entropyG = []\n",
        "\n",
        "for i in range(len(routingMap_nodesG)):\n",
        "    nodes_entropyG.append(entropy(routingMap_nodesG[i]))\n",
        "    dist_entropyG.append(entropy(routingMap_distG[i]))"
      ],
      "execution_count": null,
      "outputs": []
    },
    {
      "cell_type": "code",
      "metadata": {
        "id": "bz538sUVKpBg"
      },
      "source": [
        "len(dist_entropyG)"
      ],
      "execution_count": null,
      "outputs": []
    },
    {
      "cell_type": "code",
      "metadata": {
        "id": "Wp_3CLreKpBg"
      },
      "source": [
        "# Average entropy\n",
        "\n",
        "sum_entG = 0\n",
        "for i in range(len(routingMap_distG)):\n",
        "    # sum_entG += dist_entropyG[i]\n",
        "    sum_entG += nodes_entrop\n",
        "    yG[i]\n",
        "    \n",
        "avr_entG = sum_entG / len(routingMap_distG)\n",
        "avr_entG"
      ],
      "execution_count": null,
      "outputs": []
    },
    {
      "cell_type": "markdown",
      "metadata": {
        "id": "2BU1-pbXKpBg"
      },
      "source": [
        "# Dijkstra"
      ]
    },
    {
      "cell_type": "code",
      "metadata": {
        "id": "mjDDNNH6KpBh"
      },
      "source": [
        "# Iter Dijsktra algorithm\n",
        "\n",
        "routingMap_nodesD = []\n",
        "routingMap_distD = []\n",
        "\n",
        "dijkstraIter(routingMap_distD, routingMap_nodesD)"
      ],
      "execution_count": null,
      "outputs": []
    },
    {
      "cell_type": "code",
      "metadata": {
        "id": "nF7ynIyxKpBh"
      },
      "source": [
        "# Calculate entropy for each path\n",
        "\n",
        "nodes_entropyD = []\n",
        "dist_entropyD = []\n",
        "\n",
        "for i in range(len(routingMap_nodesD)):\n",
        "    nodes_entropyD.append(entropy(routingMap_nodesD[i]))\n",
        "    dist_entropyD.append(entropy(routingMap_distD[i]))"
      ],
      "execution_count": null,
      "outputs": []
    },
    {
      "cell_type": "code",
      "metadata": {
        "id": "UzyAKegoKpBh"
      },
      "source": [
        "# Average entropy\n",
        "\n",
        "sum_entD = 0\n",
        "for i in range(len(routingMap_distD)):\n",
        "    # sum_entD += dist_entropyD[i]\n",
        "    sum_entD += nodes_entropyD[i]\n",
        "    \n",
        "avr_entD = sum_entD / len(routingMap_distD)\n",
        "avr_entD"
      ],
      "execution_count": null,
      "outputs": []
    },
    {
      "cell_type": "markdown",
      "metadata": {
        "id": "IJm-y_smKpBh"
      },
      "source": [
        "# Rand"
      ]
    },
    {
      "cell_type": "code",
      "metadata": {
        "id": "IBjAab1WKpBi",
        "scrolled": true
      },
      "source": [
        "'''# Iter Rand algorithm\n",
        "entropyRand = []\n",
        "\n",
        "for i in range(100):\n",
        "    print(i)\n",
        "    tmpNode = []\n",
        "    tmpDist = []\n",
        "    randIter(tmpDist, tmpNode)\n",
        "    if entropyRand == []:\n",
        "        for j in tmpDist:\n",
        "            entropyRand.append(entropy(j))\n",
        "    else:\n",
        "        for j in range(len(tmpDist)):\n",
        "            entropyRand[j] += entropy(tmpDist[j])'''"
      ],
      "execution_count": null,
      "outputs": []
    },
    {
      "cell_type": "markdown",
      "metadata": {
        "id": "zSZGNxeXKpBi"
      },
      "source": [
        "# Random with boundaries"
      ]
    },
    {
      "cell_type": "code",
      "metadata": {
        "id": "5PFzcwyhKpBi"
      },
      "source": [
        "# Iter Rand with boundary algorithm\n",
        "# Iterate the algorithm 100 times\n",
        "entropyRand = []\n",
        "\n",
        "for i in range(100):\n",
        "    print(i)\n",
        "    tmpNode = []\n",
        "    tmpDist = []\n",
        "    randBoundaryIter(tmpDist, tmpNode, 2)\n",
        "    if entropyRand == []:\n",
        "        for j in tmpDist:\n",
        "            entropyRand.append(entropy(j))\n",
        "    else:\n",
        "        for j in range(len(tmpDist)):\n",
        "            entropyRand[j] += entropy(tmpDist[j])"
      ],
      "execution_count": null,
      "outputs": []
    },
    {
      "cell_type": "code",
      "metadata": {
        "id": "Y5sLKLoaKpBi"
      },
      "source": [
        "printOut('Data/Centroid4/entDistGreedy4', dist_entropyG)\n",
        "printOut('Data/Centroid4/entDistDijkstra4', dist_entropyD)"
      ],
      "execution_count": null,
      "outputs": []
    }
  ]
}