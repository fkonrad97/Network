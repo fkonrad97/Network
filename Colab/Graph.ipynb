{
  "nbformat": 4,
  "nbformat_minor": 0,
  "metadata": {
    "colab": {
      "name": "Graph.ipynb",
      "provenance": [],
      "collapsed_sections": [],
      "authorship_tag": "ABX9TyMHQR1BJnwWulqsYR8hhbx9",
      "include_colab_link": true
    },
    "kernelspec": {
      "name": "python3",
      "display_name": "Python 3"
    },
    "language_info": {
      "name": "python"
    }
  },
  "cells": [
    {
      "cell_type": "markdown",
      "metadata": {
        "id": "view-in-github",
        "colab_type": "text"
      },
      "source": [
        "<a href=\"https://colab.research.google.com/github/fkonrad97/Network/blob/main/Colab/Graph.ipynb\" target=\"_parent\"><img src=\"https://colab.research.google.com/assets/colab-badge.svg\" alt=\"Open In Colab\"/></a>"
      ]
    },
    {
      "cell_type": "code",
      "metadata": {
        "id": "Z5y8-AMAOOwA"
      },
      "source": [
        "from collections import defaultdict\n",
        "import pandas as pd\n",
        "import numpy as np\n",
        "from math import log, e\n",
        "import csv"
      ],
      "execution_count": 110,
      "outputs": []
    },
    {
      "cell_type": "code",
      "metadata": {
        "id": "qEXT5LcmNDNv"
      },
      "source": [
        "# Print out the 'list' to the 'name.csv' file \n",
        "\n",
        "def printOut(name, list):\n",
        "    with open(name + '.csv', 'w', newline='') as csv_1:\n",
        "        csv_out = csv.writer(csv_1)\n",
        "        csv_out.writerows([list[index]] for index in range(0, len(list)))"
      ],
      "execution_count": 111,
      "outputs": []
    },
    {
      "cell_type": "code",
      "metadata": {
        "id": "-pOtrWxZOh2Y"
      },
      "source": [
        "# Read positions of nodes (X,Y,Z)\n",
        "\n",
        "def positionRead(name):\n",
        "    positions = pd.read_csv(name + \".csv\", header=None, sep=\";\")\n",
        "    # Remove a plus sign from the end of the number\n",
        "    positions[0][0] = positions[0][0][:-1]\n",
        "    positions[0] = positions[0].astype(float)    # Convert data to numerical value\n",
        "    return positions"
      ],
      "execution_count": 112,
      "outputs": []
    },
    {
      "cell_type": "code",
      "metadata": {
        "id": "VEjRQChxOurT"
      },
      "source": [
        "# Read connection table between nodes\n",
        "\n",
        "def connectionRead(name):\n",
        "    connections = pd.read_csv(name + \".csv\", header=None)\n",
        "    return connections"
      ],
      "execution_count": 113,
      "outputs": []
    },
    {
      "cell_type": "code",
      "metadata": {
        "colab": {
          "base_uri": "https://localhost:8080/"
        },
        "id": "plZNvmkKOwQI",
        "outputId": "de63e8ce-3737-4b8d-dbeb-6be4f769d447"
      },
      "source": [
        "# List of the positions of nodes\n",
        "positions = positionRead(\"Network/Brain_data/Brain1Positions\")\n",
        "\n",
        "# List of how nodes connected to each other\n",
        "connections = connectionRead(\"Network/Brain_data/Brain1Connections\")"
      ],
      "execution_count": 114,
      "outputs": [
        {
          "output_type": "stream",
          "text": [
            "C:\\Users\\fkonr\\anaconda3\\lib\\site-packages\\ipykernel_launcher.py:6: SettingWithCopyWarning: \n",
            "A value is trying to be set on a copy of a slice from a DataFrame\n",
            "\n",
            "See the caveats in the documentation: https://pandas.pydata.org/pandas-docs/stable/user_guide/indexing.html#returning-a-view-versus-a-copy\n",
            "  \n"
          ],
          "name": "stderr"
        }
      ]
    },
    {
      "cell_type": "code",
      "metadata": {
        "id": "XA7xizvNSpAR"
      },
      "source": [
        "# Calculate distance between 2 points in Euclidean space\n",
        "# Positions should be 3D (X,Y,Z)\n",
        "\n",
        "def Euclidean_dist(p1, p2):\n",
        "    point1 = np.array((positions[0][p1], positions[1][p1], positions[2][p1]))\n",
        "    point2 = np.array((positions[0][p2], positions[1][p2], positions[2][p2]))\n",
        "    return np.linalg.norm(point1 - point2)"
      ],
      "execution_count": 115,
      "outputs": []
    },
    {
      "cell_type": "code",
      "metadata": {
        "id": "hrT3NxorI4LM"
      },
      "source": [
        "# Entropy by numpy library\n",
        "\n",
        "def entropy(labels, base=None):\n",
        "    n_labels = len(labels)\n",
        "    \n",
        "    if n_labels <= 1:\n",
        "        return 0\n",
        "    \n",
        "    value, counts = np.unique(labels, return_counts=True)\n",
        "    probs = counts/n_labels\n",
        "    n_classes = np.count_nonzero(probs)\n",
        "    \n",
        "    if n_classes <= 1:\n",
        "        return 0\n",
        "    \n",
        "    ent = 0.\n",
        "    \n",
        "    base = e if base is None else base\n",
        "    for i in probs:\n",
        "        ent -= i * log(i, base)\n",
        "        \n",
        "    return ent"
      ],
      "execution_count": 116,
      "outputs": []
    },
    {
      "cell_type": "code",
      "metadata": {
        "id": "u_5ZNeAhTJxr"
      },
      "source": [
        "# Get neighbours of 'p' from the connections dataframe \n",
        "\n",
        "def get_neighbours(p): \n",
        "    neighbours = []\n",
        "    \n",
        "    for i in range(len(positions[0])):\n",
        "        if connections[i][p] == 1:\n",
        "            neighbours.append(i)\n",
        "    \n",
        "    return neighbours"
      ],
      "execution_count": 117,
      "outputs": []
    },
    {
      "cell_type": "code",
      "metadata": {
        "colab": {
          "base_uri": "https://localhost:8080/",
          "height": 399
        },
        "id": "EFC3m7juPZNi",
        "outputId": "50d4b23d-f07d-4284-cf5f-8cd08f3b3927"
      },
      "source": [
        "positions"
      ],
      "execution_count": 118,
      "outputs": [
        {
          "output_type": "execute_result",
          "data": {
            "text/plain": [
              "             0           1          2\n",
              "0    86.828723   55.964199  26.615948\n",
              "1    68.934166   51.139614  32.673099\n",
              "2    99.234568   29.370370  38.259259\n",
              "3   101.797312   49.265398  28.711646\n",
              "4    65.881081   61.874595  43.203784\n",
              "..         ...         ...        ...\n",
              "78  125.030392   96.151471  28.293137\n",
              "79  114.409524   80.682993  26.676190\n",
              "80  130.959165  111.471842  12.879515\n",
              "81  128.398802   94.169108  12.902796\n",
              "82  107.132165  116.364936   8.681591\n",
              "\n",
              "[83 rows x 3 columns]"
            ],
            "text/html": [
              "<div>\n",
              "<style scoped>\n",
              "    .dataframe tbody tr th:only-of-type {\n",
              "        vertical-align: middle;\n",
              "    }\n",
              "\n",
              "    .dataframe tbody tr th {\n",
              "        vertical-align: top;\n",
              "    }\n",
              "\n",
              "    .dataframe thead th {\n",
              "        text-align: right;\n",
              "    }\n",
              "</style>\n",
              "<table border=\"1\" class=\"dataframe\">\n",
              "  <thead>\n",
              "    <tr style=\"text-align: right;\">\n",
              "      <th></th>\n",
              "      <th>0</th>\n",
              "      <th>1</th>\n",
              "      <th>2</th>\n",
              "    </tr>\n",
              "  </thead>\n",
              "  <tbody>\n",
              "    <tr>\n",
              "      <th>0</th>\n",
              "      <td>86.828723</td>\n",
              "      <td>55.964199</td>\n",
              "      <td>26.615948</td>\n",
              "    </tr>\n",
              "    <tr>\n",
              "      <th>1</th>\n",
              "      <td>68.934166</td>\n",
              "      <td>51.139614</td>\n",
              "      <td>32.673099</td>\n",
              "    </tr>\n",
              "    <tr>\n",
              "      <th>2</th>\n",
              "      <td>99.234568</td>\n",
              "      <td>29.370370</td>\n",
              "      <td>38.259259</td>\n",
              "    </tr>\n",
              "    <tr>\n",
              "      <th>3</th>\n",
              "      <td>101.797312</td>\n",
              "      <td>49.265398</td>\n",
              "      <td>28.711646</td>\n",
              "    </tr>\n",
              "    <tr>\n",
              "      <th>4</th>\n",
              "      <td>65.881081</td>\n",
              "      <td>61.874595</td>\n",
              "      <td>43.203784</td>\n",
              "    </tr>\n",
              "    <tr>\n",
              "      <th>...</th>\n",
              "      <td>...</td>\n",
              "      <td>...</td>\n",
              "      <td>...</td>\n",
              "    </tr>\n",
              "    <tr>\n",
              "      <th>78</th>\n",
              "      <td>125.030392</td>\n",
              "      <td>96.151471</td>\n",
              "      <td>28.293137</td>\n",
              "    </tr>\n",
              "    <tr>\n",
              "      <th>79</th>\n",
              "      <td>114.409524</td>\n",
              "      <td>80.682993</td>\n",
              "      <td>26.676190</td>\n",
              "    </tr>\n",
              "    <tr>\n",
              "      <th>80</th>\n",
              "      <td>130.959165</td>\n",
              "      <td>111.471842</td>\n",
              "      <td>12.879515</td>\n",
              "    </tr>\n",
              "    <tr>\n",
              "      <th>81</th>\n",
              "      <td>128.398802</td>\n",
              "      <td>94.169108</td>\n",
              "      <td>12.902796</td>\n",
              "    </tr>\n",
              "    <tr>\n",
              "      <th>82</th>\n",
              "      <td>107.132165</td>\n",
              "      <td>116.364936</td>\n",
              "      <td>8.681591</td>\n",
              "    </tr>\n",
              "  </tbody>\n",
              "</table>\n",
              "<p>83 rows × 3 columns</p>\n",
              "</div>"
            ]
          },
          "metadata": {
            "tags": []
          },
          "execution_count": 118
        }
      ]
    },
    {
      "cell_type": "code",
      "metadata": {
        "colab": {
          "base_uri": "https://localhost:8080/",
          "height": 399
        },
        "id": "LAgsOl8GPZda",
        "outputId": "b8744da2-e30c-4cf0-8e28-b04b4ad7ebbb"
      },
      "source": [
        "connections"
      ],
      "execution_count": 119,
      "outputs": [
        {
          "output_type": "execute_result",
          "data": {
            "text/plain": [
              "    0   1   2   3   4   5   6   7   8   9   ...  73  74  75  76  77  78  79  \\\n",
              "0    0   1   1   1   1   1   1   1   1   0  ...   0   0   0   0   0   0   0   \n",
              "1    1   0   0   0   1   1   1   1   0   0  ...   0   0   0   0   0   0   0   \n",
              "2    1   0   0   1   0   0   1   1   0   0  ...   0   0   0   0   0   0   0   \n",
              "3    1   0   1   0   0   0   1   1   0   0  ...   0   0   0   1   0   0   1   \n",
              "4    1   1   0   0   0   1   1   1   1   0  ...   0   0   0   0   0   0   0   \n",
              "..  ..  ..  ..  ..  ..  ..  ..  ..  ..  ..  ...  ..  ..  ..  ..  ..  ..  ..   \n",
              "78   0   0   0   0   0   0   1   0   0   1  ...   1   1   1   1   1   0   1   \n",
              "79   0   0   0   1   0   0   0   1   0   0  ...   0   0   1   1   1   1   0   \n",
              "80   0   0   0   0   0   0   0   0   0   0  ...   0   1   1   1   1   1   1   \n",
              "81   0   0   0   0   0   0   0   0   0   0  ...   0   1   1   1   1   1   1   \n",
              "82   1   1   0   0   1   1   1   1   1   1  ...   0   0   1   1   1   1   1   \n",
              "\n",
              "    80  81  82  \n",
              "0    0   0   1  \n",
              "1    0   0   1  \n",
              "2    0   0   0  \n",
              "3    0   0   0  \n",
              "4    0   0   1  \n",
              "..  ..  ..  ..  \n",
              "78   1   1   1  \n",
              "79   1   1   1  \n",
              "80   0   1   1  \n",
              "81   1   0   1  \n",
              "82   1   1   0  \n",
              "\n",
              "[83 rows x 83 columns]"
            ],
            "text/html": [
              "<div>\n",
              "<style scoped>\n",
              "    .dataframe tbody tr th:only-of-type {\n",
              "        vertical-align: middle;\n",
              "    }\n",
              "\n",
              "    .dataframe tbody tr th {\n",
              "        vertical-align: top;\n",
              "    }\n",
              "\n",
              "    .dataframe thead th {\n",
              "        text-align: right;\n",
              "    }\n",
              "</style>\n",
              "<table border=\"1\" class=\"dataframe\">\n",
              "  <thead>\n",
              "    <tr style=\"text-align: right;\">\n",
              "      <th></th>\n",
              "      <th>0</th>\n",
              "      <th>1</th>\n",
              "      <th>2</th>\n",
              "      <th>3</th>\n",
              "      <th>4</th>\n",
              "      <th>5</th>\n",
              "      <th>6</th>\n",
              "      <th>7</th>\n",
              "      <th>8</th>\n",
              "      <th>9</th>\n",
              "      <th>...</th>\n",
              "      <th>73</th>\n",
              "      <th>74</th>\n",
              "      <th>75</th>\n",
              "      <th>76</th>\n",
              "      <th>77</th>\n",
              "      <th>78</th>\n",
              "      <th>79</th>\n",
              "      <th>80</th>\n",
              "      <th>81</th>\n",
              "      <th>82</th>\n",
              "    </tr>\n",
              "  </thead>\n",
              "  <tbody>\n",
              "    <tr>\n",
              "      <th>0</th>\n",
              "      <td>0</td>\n",
              "      <td>1</td>\n",
              "      <td>1</td>\n",
              "      <td>1</td>\n",
              "      <td>1</td>\n",
              "      <td>1</td>\n",
              "      <td>1</td>\n",
              "      <td>1</td>\n",
              "      <td>1</td>\n",
              "      <td>0</td>\n",
              "      <td>...</td>\n",
              "      <td>0</td>\n",
              "      <td>0</td>\n",
              "      <td>0</td>\n",
              "      <td>0</td>\n",
              "      <td>0</td>\n",
              "      <td>0</td>\n",
              "      <td>0</td>\n",
              "      <td>0</td>\n",
              "      <td>0</td>\n",
              "      <td>1</td>\n",
              "    </tr>\n",
              "    <tr>\n",
              "      <th>1</th>\n",
              "      <td>1</td>\n",
              "      <td>0</td>\n",
              "      <td>0</td>\n",
              "      <td>0</td>\n",
              "      <td>1</td>\n",
              "      <td>1</td>\n",
              "      <td>1</td>\n",
              "      <td>1</td>\n",
              "      <td>0</td>\n",
              "      <td>0</td>\n",
              "      <td>...</td>\n",
              "      <td>0</td>\n",
              "      <td>0</td>\n",
              "      <td>0</td>\n",
              "      <td>0</td>\n",
              "      <td>0</td>\n",
              "      <td>0</td>\n",
              "      <td>0</td>\n",
              "      <td>0</td>\n",
              "      <td>0</td>\n",
              "      <td>1</td>\n",
              "    </tr>\n",
              "    <tr>\n",
              "      <th>2</th>\n",
              "      <td>1</td>\n",
              "      <td>0</td>\n",
              "      <td>0</td>\n",
              "      <td>1</td>\n",
              "      <td>0</td>\n",
              "      <td>0</td>\n",
              "      <td>1</td>\n",
              "      <td>1</td>\n",
              "      <td>0</td>\n",
              "      <td>0</td>\n",
              "      <td>...</td>\n",
              "      <td>0</td>\n",
              "      <td>0</td>\n",
              "      <td>0</td>\n",
              "      <td>0</td>\n",
              "      <td>0</td>\n",
              "      <td>0</td>\n",
              "      <td>0</td>\n",
              "      <td>0</td>\n",
              "      <td>0</td>\n",
              "      <td>0</td>\n",
              "    </tr>\n",
              "    <tr>\n",
              "      <th>3</th>\n",
              "      <td>1</td>\n",
              "      <td>0</td>\n",
              "      <td>1</td>\n",
              "      <td>0</td>\n",
              "      <td>0</td>\n",
              "      <td>0</td>\n",
              "      <td>1</td>\n",
              "      <td>1</td>\n",
              "      <td>0</td>\n",
              "      <td>0</td>\n",
              "      <td>...</td>\n",
              "      <td>0</td>\n",
              "      <td>0</td>\n",
              "      <td>0</td>\n",
              "      <td>1</td>\n",
              "      <td>0</td>\n",
              "      <td>0</td>\n",
              "      <td>1</td>\n",
              "      <td>0</td>\n",
              "      <td>0</td>\n",
              "      <td>0</td>\n",
              "    </tr>\n",
              "    <tr>\n",
              "      <th>4</th>\n",
              "      <td>1</td>\n",
              "      <td>1</td>\n",
              "      <td>0</td>\n",
              "      <td>0</td>\n",
              "      <td>0</td>\n",
              "      <td>1</td>\n",
              "      <td>1</td>\n",
              "      <td>1</td>\n",
              "      <td>1</td>\n",
              "      <td>0</td>\n",
              "      <td>...</td>\n",
              "      <td>0</td>\n",
              "      <td>0</td>\n",
              "      <td>0</td>\n",
              "      <td>0</td>\n",
              "      <td>0</td>\n",
              "      <td>0</td>\n",
              "      <td>0</td>\n",
              "      <td>0</td>\n",
              "      <td>0</td>\n",
              "      <td>1</td>\n",
              "    </tr>\n",
              "    <tr>\n",
              "      <th>...</th>\n",
              "      <td>...</td>\n",
              "      <td>...</td>\n",
              "      <td>...</td>\n",
              "      <td>...</td>\n",
              "      <td>...</td>\n",
              "      <td>...</td>\n",
              "      <td>...</td>\n",
              "      <td>...</td>\n",
              "      <td>...</td>\n",
              "      <td>...</td>\n",
              "      <td>...</td>\n",
              "      <td>...</td>\n",
              "      <td>...</td>\n",
              "      <td>...</td>\n",
              "      <td>...</td>\n",
              "      <td>...</td>\n",
              "      <td>...</td>\n",
              "      <td>...</td>\n",
              "      <td>...</td>\n",
              "      <td>...</td>\n",
              "      <td>...</td>\n",
              "    </tr>\n",
              "    <tr>\n",
              "      <th>78</th>\n",
              "      <td>0</td>\n",
              "      <td>0</td>\n",
              "      <td>0</td>\n",
              "      <td>0</td>\n",
              "      <td>0</td>\n",
              "      <td>0</td>\n",
              "      <td>1</td>\n",
              "      <td>0</td>\n",
              "      <td>0</td>\n",
              "      <td>1</td>\n",
              "      <td>...</td>\n",
              "      <td>1</td>\n",
              "      <td>1</td>\n",
              "      <td>1</td>\n",
              "      <td>1</td>\n",
              "      <td>1</td>\n",
              "      <td>0</td>\n",
              "      <td>1</td>\n",
              "      <td>1</td>\n",
              "      <td>1</td>\n",
              "      <td>1</td>\n",
              "    </tr>\n",
              "    <tr>\n",
              "      <th>79</th>\n",
              "      <td>0</td>\n",
              "      <td>0</td>\n",
              "      <td>0</td>\n",
              "      <td>1</td>\n",
              "      <td>0</td>\n",
              "      <td>0</td>\n",
              "      <td>0</td>\n",
              "      <td>1</td>\n",
              "      <td>0</td>\n",
              "      <td>0</td>\n",
              "      <td>...</td>\n",
              "      <td>0</td>\n",
              "      <td>0</td>\n",
              "      <td>1</td>\n",
              "      <td>1</td>\n",
              "      <td>1</td>\n",
              "      <td>1</td>\n",
              "      <td>0</td>\n",
              "      <td>1</td>\n",
              "      <td>1</td>\n",
              "      <td>1</td>\n",
              "    </tr>\n",
              "    <tr>\n",
              "      <th>80</th>\n",
              "      <td>0</td>\n",
              "      <td>0</td>\n",
              "      <td>0</td>\n",
              "      <td>0</td>\n",
              "      <td>0</td>\n",
              "      <td>0</td>\n",
              "      <td>0</td>\n",
              "      <td>0</td>\n",
              "      <td>0</td>\n",
              "      <td>0</td>\n",
              "      <td>...</td>\n",
              "      <td>0</td>\n",
              "      <td>1</td>\n",
              "      <td>1</td>\n",
              "      <td>1</td>\n",
              "      <td>1</td>\n",
              "      <td>1</td>\n",
              "      <td>1</td>\n",
              "      <td>0</td>\n",
              "      <td>1</td>\n",
              "      <td>1</td>\n",
              "    </tr>\n",
              "    <tr>\n",
              "      <th>81</th>\n",
              "      <td>0</td>\n",
              "      <td>0</td>\n",
              "      <td>0</td>\n",
              "      <td>0</td>\n",
              "      <td>0</td>\n",
              "      <td>0</td>\n",
              "      <td>0</td>\n",
              "      <td>0</td>\n",
              "      <td>0</td>\n",
              "      <td>0</td>\n",
              "      <td>...</td>\n",
              "      <td>0</td>\n",
              "      <td>1</td>\n",
              "      <td>1</td>\n",
              "      <td>1</td>\n",
              "      <td>1</td>\n",
              "      <td>1</td>\n",
              "      <td>1</td>\n",
              "      <td>1</td>\n",
              "      <td>0</td>\n",
              "      <td>1</td>\n",
              "    </tr>\n",
              "    <tr>\n",
              "      <th>82</th>\n",
              "      <td>1</td>\n",
              "      <td>1</td>\n",
              "      <td>0</td>\n",
              "      <td>0</td>\n",
              "      <td>1</td>\n",
              "      <td>1</td>\n",
              "      <td>1</td>\n",
              "      <td>1</td>\n",
              "      <td>1</td>\n",
              "      <td>1</td>\n",
              "      <td>...</td>\n",
              "      <td>0</td>\n",
              "      <td>0</td>\n",
              "      <td>1</td>\n",
              "      <td>1</td>\n",
              "      <td>1</td>\n",
              "      <td>1</td>\n",
              "      <td>1</td>\n",
              "      <td>1</td>\n",
              "      <td>1</td>\n",
              "      <td>0</td>\n",
              "    </tr>\n",
              "  </tbody>\n",
              "</table>\n",
              "<p>83 rows × 83 columns</p>\n",
              "</div>"
            ]
          },
          "metadata": {
            "tags": []
          },
          "execution_count": 119
        }
      ]
    },
    {
      "cell_type": "code",
      "metadata": {
        "id": "laB2HFUeQj8Y"
      },
      "source": [
        "def toDictionary(positions, connections):\n",
        "  edges = []\n",
        "  for i in range(len(connections[0])):\n",
        "    for j in range(len(connections[0])):\n",
        "      if i!=j and i<j and connections[i][j]==1:\n",
        "        edges.append((i,j,Euclidean_dist(i,j)))\n",
        "  return edges"
      ],
      "execution_count": 120,
      "outputs": []
    },
    {
      "cell_type": "code",
      "metadata": {
        "id": "f_DxSW-pObha"
      },
      "source": [
        "class Graph():\n",
        "    def __init__(self):\n",
        "        \"\"\"\n",
        "        self.edges is a dict of all possible next nodes\n",
        "        e.g. {'X': ['A', 'B', 'C', 'E'], ...}\n",
        "        self.weights has all the weights between two nodes,\n",
        "        with the two nodes as a tuple as the key\n",
        "        e.g. {('X', 'A'): 7, ('X', 'B'): 2, ...}\n",
        "        self.shortest_path is a dict of node - full distance pairs\n",
        "        e.g init node is 1 -> {8: (4, 60.511292298086815)} means from init node 1 through node 4 to node 8, the full distance between node 1 and node 8 is 60.51...\n",
        "        self.node2node_paths is a dict of node and node to node ditances\n",
        "        e.g init node is 1 -> {8: (4, 45.166701725970064)} means from node 4 to node 8 the distance is 45.166...\n",
        "        \"\"\"\n",
        "        self.edges = defaultdict(list)\n",
        "        self.weights = {}\n",
        "        self.shortest_paths = {}\n",
        "        self.node2node_paths = {}\n",
        "#------------------------------------------------------------------------------------------------------------------------------------    \n",
        "    def add_edge(self, from_node, to_node, weight):\n",
        "        # Note: assumes edges are bi-directional\n",
        "        self.edges[from_node].append(to_node)\n",
        "        self.edges[to_node].append(from_node)\n",
        "        self.weights[(from_node, to_node)] = weight\n",
        "        self.weights[(to_node, from_node)] = weight\n",
        "#--------------------------------------------------------------------------------------------------------------------------------------\n",
        "    def dijsktra(self, initial, end):\n",
        "      # shortest paths is a dict of nodes\n",
        "      # whose value is a tuple of (previous node, weight)\n",
        "      current_node = initial\n",
        "      visited = set()\n",
        "      self.shortest_paths = {initial: (None, 0)}\n",
        "      self.node2node_paths = {initial: (None, 0)}\n",
        "    \n",
        "      while current_node != end:\n",
        "        visited.add(current_node)\n",
        "        destinations = graph.edges[current_node]\n",
        "        weight_to_current_node = self.shortest_paths[current_node][1]\n",
        "\n",
        "        for next_node in destinations:\n",
        "            nodeDist = graph.weights[(current_node, next_node)]\n",
        "            weight = graph.weights[(current_node, next_node)] + weight_to_current_node\n",
        "            if next_node not in self.shortest_paths:\n",
        "                self.shortest_paths[next_node] = (current_node, weight)\n",
        "                self.node2node_paths[next_node] = (current_node, nodeDist)\n",
        "            else:\n",
        "                current_shortest_weight = self.shortest_paths[next_node][1]\n",
        "                if current_shortest_weight > weight:\n",
        "                    self.shortest_paths[next_node] = (current_node, weight)\n",
        "                    self.node2node_paths[next_node] = (current_node, nodeDist)\n",
        "        \n",
        "        next_destinations = {node: self.shortest_paths[node] for node in self.shortest_paths if node not in visited}\n",
        "        if not next_destinations:\n",
        "            return \"Route Not Possible\"\n",
        "        # next node is the destination with the lowest weight\n",
        "        current_node = min(next_destinations, key=lambda k: next_destinations[k][1])\n",
        "#-----------------------------------------------------------------------------------------------------------------------------------------------\n",
        "    def BFS_SP(self, initial, end):\n",
        "      explored = []\n",
        "     \n",
        "      # Queue for traversing the\n",
        "      # graph in the BFS\n",
        "      queue = [[initial]]\n",
        "     \n",
        "      # If the desired node is\n",
        "      # reached\n",
        "      if initial == end:\n",
        "        print(\"Same Node\")\n",
        "        return\n",
        "     \n",
        "      # Loop to traverse the graph\n",
        "      # with the help of the queue\n",
        "      while queue:\n",
        "        path = queue.pop(0)\n",
        "        node = path[-1]\n",
        "         \n",
        "        # Condition to check if the\n",
        "        # current node is not visited\n",
        "        if node not in explored:\n",
        "            neighbours = self.edges[node]\n",
        "             \n",
        "            # Loop to iterate over the\n",
        "            # neighbours of the node\n",
        "            for neighbour in neighbours:\n",
        "                new_path = list(path)\n",
        "                new_path.append(neighbour)\n",
        "                queue.append(new_path)\n",
        "                 \n",
        "                # Condition to check if the\n",
        "                # neighbour node is the goal\n",
        "                if neighbour == end:\n",
        "                    return new_path\n",
        "            explored.append(node)\n",
        " \n",
        "      # Condition when the nodes\n",
        "      # are not connected\n",
        "      print(\"Path doesn't exist.\")\n",
        "      return\n",
        "#------------------------------------------------------------------------------------------------------------------------------------    \n",
        "    def findAllBFS(self, initial):\n",
        "      paths = []\n",
        "      for i in range(len(connections[0])):\n",
        "        if i!=initial:\n",
        "          paths.append(self.BFS_SP(initial, i))\n",
        "      return paths\n",
        "#------------------------------------------------------------------------------------------------------------------------------------    \n",
        "    def findAllDijkstra(self, initial):\n",
        "      for i in range(len(connections)):\n",
        "        if i!=initial:\n",
        "          self.dijsktra(initial, i)\n",
        "          if(len(self.shortest_paths)==len(connections[0])):\n",
        "            break;\n",
        "#------------------------------------------------------------------------------------------------------------------------------------    \n",
        "    def shortestPath(self, initial, end):\n",
        "      # Work back through destinations in shortest path\n",
        "      current_node = end\n",
        "      path = []\n",
        "      while current_node is not None:\n",
        "        path.append([current_node, self.node2node_paths[current_node][1]])\n",
        "        next_node = self.shortest_paths[current_node][0]\n",
        "        current_node = next_node\n",
        "      # Reverse path\n",
        "      path = path[::-1]\n",
        "      return path"
      ],
      "execution_count": 121,
      "outputs": []
    },
    {
      "cell_type": "code",
      "metadata": {
        "id": "-TL9Ju42VOPz"
      },
      "source": [
        "# Initialize graph\n",
        "\n",
        "graph = Graph()\n",
        "edges = toDictionary(positions, connections)\n",
        "\n",
        "for edge in edges:\n",
        "    graph.add_edge(*edge)"
      ],
      "execution_count": 122,
      "outputs": []
    },
    {
      "cell_type": "code",
      "metadata": {
        "id": "dZuKFWkYI-Qp",
        "outputId": "ad76ea52-e554-47fc-b11e-d8d29b639316",
        "colab": {
          "base_uri": "https://localhost:8080/"
        }
      },
      "source": [
        "# Calculate all shortest paths (Dijkstra)\n",
        "\n",
        "nodesDijk = []\n",
        "distDijk = []\n",
        "pathsDijk = []\n",
        "\n",
        "for i in range(len(connections[0])):\n",
        "  graph.findAllDijkstra(i)\n",
        "  for j in range(len(connections[0])):\n",
        "    pathsDijk.append(graph.shortestPath(i,j))\n",
        "\n",
        "cnt = 0\n",
        "for i in pathsDijk:\n",
        "  path_nodes = []\n",
        "  path_dist = []\n",
        "  cnt += 1\n",
        "  for j in range(len(i)-1):\n",
        "    path_nodes.append(i[j+1][0])\n",
        "    path_dist.append(i[j+1][1])\n",
        "  nodesDijk.append(path_nodes)\n",
        "  distDijk.append(path_dist)\n",
        "\n",
        "nodesDijk = nodesDijk[1:]\n",
        "nodesDijk[9]"
      ],
      "execution_count": 147,
      "outputs": [
        {
          "output_type": "execute_result",
          "data": {
            "text/plain": [
              "[35, 10]"
            ]
          },
          "metadata": {
            "tags": []
          },
          "execution_count": 147
        }
      ]
    },
    {
      "cell_type": "code",
      "metadata": {
        "id": "LOn19hgXnRZ_",
        "outputId": "d89b95a6-c336-4972-d123-2d0aefa01a9f",
        "colab": {
          "base_uri": "https://localhost:8080/"
        }
      },
      "source": [
        "# Calculate from node '0' shortest paths (BFS)\n",
        "\n",
        "nodesBFS = []\n",
        "pathsBFS = []\n",
        "\n",
        "for i in range(len(connections[0])):\n",
        "  pathsBFS.append(graph.findAllBFS(i))\n",
        "\n",
        "cnt = 0\n",
        "for i in pathsBFS:\n",
        "  for j in i:\n",
        "    cnt += 1\n",
        "    path_nodes = []\n",
        "    for z in range(len(j)-1):\n",
        "      path_nodes.append(j[z+1])\n",
        "      path_dist.append(j[z+1])\n",
        "    nodesBFS.append(path_nodes)\n",
        "\n",
        "nodesBFS[9]"
      ],
      "execution_count": 146,
      "outputs": [
        {
          "output_type": "execute_result",
          "data": {
            "text/plain": [
              "[7, 10]"
            ]
          },
          "metadata": {
            "tags": []
          },
          "execution_count": 146
        }
      ]
    },
    {
      "cell_type": "code",
      "metadata": {
        "id": "UDyUlMPiuqkz",
        "outputId": "dfeb3128-5ed4-407f-d0aa-671628e41865",
        "colab": {
          "base_uri": "https://localhost:8080/"
        }
      },
      "source": [
        "for i in range(100):\n",
        "  if nodesBFS[i] != nodesDijk[i]:\n",
        "    print(nodesBFS[i],\" - \",nodesDijk[i])"
      ],
      "execution_count": 151,
      "outputs": [
        {
          "output_type": "stream",
          "text": [
            "[7, 10]  -  [35, 10]\n",
            "[7, 14]  -  [40, 39, 14]\n",
            "[5, 16]  -  [33, 16]\n",
            "[3, 19]  -  [36, 19]\n",
            "[17, 20]  -  [37, 20]\n",
            "[4, 21]  -  [37, 21]\n",
            "[17, 25]  -  [40, 25]\n",
            "[24, 26]  -  [27, 26]\n",
            "[17, 32]  -  [33, 32]\n",
            "[6, 39]  -  [40, 39]\n",
            "[17, 41]  -  [3, 44, 41]\n",
            "[82, 42]  -  [3, 44, 41, 42]\n",
            "[6, 45]  -  [3, 44, 41, 45]\n",
            "[4, 46]  -  [38, 76, 46]\n",
            "[1, 47]  -  [3, 47]\n",
            "[1, 48]  -  [3, 48]\n",
            "[4, 49]  -  [35, 49]\n",
            "[5, 50]  -  [38, 50]\n",
            "[7, 51]  -  [38, 76, 51]\n",
            "[7, 53]  -  [3, 11, 53]\n",
            "[7, 54]  -  [38, 76, 54]\n",
            "[17, 55]  -  [35, 75, 55]\n",
            "[17, 56]  -  [38, 76, 56]\n",
            "[4, 46, 57]  -  [38, 78, 57]\n",
            "[17, 58]  -  [37, 58]\n",
            "[82, 59]  -  [38, 78, 59]\n",
            "[17, 60]  -  [34, 60]\n",
            "[17, 61]  -  [37, 61]\n",
            "[17, 62]  -  [38, 78, 62]\n",
            "[17, 63]  -  [82, 63]\n",
            "[22, 64]  -  [82, 64]\n",
            "[1, 47, 65]  -  [38, 81, 65]\n",
            "[1, 48, 66]  -  [38, 81, 67, 66]\n",
            "[6, 39, 67]  -  [38, 81, 67]\n",
            "[18, 74, 68]  -  [38, 81, 68]\n",
            "[1, 47, 69]  -  [38, 78, 69]\n",
            "[82, 70]  -  [38, 78, 70]\n",
            "[4, 46, 71]  -  [38, 77, 74, 71]\n",
            "[82, 72]  -  [38, 77, 72]\n",
            "[5, 9, 73]  -  [38, 78, 73]\n",
            "[18, 74]  -  [38, 77, 74]\n",
            "[6, 75]  -  [35, 75]\n",
            "[3, 76]  -  [38, 76]\n",
            "[6, 77]  -  [38, 77]\n",
            "[6, 78]  -  [38, 78]\n",
            "[3, 79]  -  [38, 79]\n",
            "[82, 80]  -  [38, 79, 80]\n",
            "[37, 81]  -  [38, 81]\n",
            "[0, 2]  -  []\n",
            "[0, 3]  -  [0, 2]\n",
            "[4]  -  [0, 3]\n",
            "[5]  -  [4]\n",
            "[6]  -  [5]\n",
            "[7]  -  [6]\n",
            "[0, 8]  -  [7]\n",
            "[5, 9]  -  [4, 8]\n",
            "[7, 10]  -  [5, 9]\n",
            "[7, 11]  -  [35, 10]\n",
            "[7, 12]  -  [0, 3, 11]\n",
            "[7, 13]  -  [7, 12]\n",
            "[7, 14]  -  [7, 13]\n",
            "[5, 15]  -  [36, 39, 14]\n",
            "[5, 16]  -  [5, 15]\n",
            "[17]  -  [5, 16]\n",
            "[18]  -  [17]\n"
          ],
          "name": "stdout"
        }
      ]
    },
    {
      "cell_type": "code",
      "metadata": {
        "id": "msULlj6sLe_G",
        "outputId": "3f3a71df-617a-40e9-ef24-5d4f9910f42c",
        "colab": {
          "base_uri": "https://localhost:8080/"
        }
      },
      "source": [
        "ent_dijk = []\n",
        "ent_nodes_dijk = []\n",
        "\n",
        "for i in distDijk:\n",
        "  ent_dijk.append(entropy(i))\n",
        "\n",
        "for i in nodesDijk:\n",
        "  ent_nodes_dijk.append(entropy(i))\n",
        "\n",
        "len(ent_dijk)"
      ],
      "execution_count": 129,
      "outputs": [
        {
          "output_type": "execute_result",
          "data": {
            "text/plain": [
              "6889"
            ]
          },
          "metadata": {
            "tags": []
          },
          "execution_count": 129
        }
      ]
    },
    {
      "cell_type": "code",
      "metadata": {
        "id": "oKqL2-d7ruZN",
        "outputId": "261b1249-2179-4328-ac29-9bac4f18d2a5",
        "colab": {
          "base_uri": "https://localhost:8080/"
        }
      },
      "source": [
        "ent_nodes_bfs = []\n",
        "\n",
        "for i in nodesBFS:\n",
        "  ent_nodes_bfs.append(entropy(i))\n",
        "\n",
        "len(ent_nodes_bfs)"
      ],
      "execution_count": 148,
      "outputs": [
        {
          "output_type": "execute_result",
          "data": {
            "text/plain": [
              "6806"
            ]
          },
          "metadata": {
            "tags": []
          },
          "execution_count": 148
        }
      ]
    },
    {
      "cell_type": "code",
      "metadata": {
        "id": "Ax5tRn21uFjS",
        "outputId": "ac9743e9-789e-4618-b9d9-ae3b14e11d99",
        "colab": {
          "base_uri": "https://localhost:8080/"
        }
      },
      "source": [
        "cnt = 0\n",
        "for i in range(100):\n",
        "  if ent_nodes_bfs[i] != ent_nodes_dijk[i]:\n",
        "    cnt += 1\n",
        "    print(ent_nodes_bfs[i],\" - \",ent_nodes_dijk[i])\n",
        "\n",
        "cnt"
      ],
      "execution_count": 152,
      "outputs": [
        {
          "output_type": "stream",
          "text": [
            "0.6931471805599453  -  0\n",
            "0.6931471805599453  -  1.0986122886681096\n",
            "0  -  0.6931471805599453\n",
            "0.6931471805599453  -  0\n",
            "0  -  0.6931471805599453\n",
            "0.6931471805599453  -  0\n",
            "0  -  0.6931471805599453\n",
            "0.6931471805599453  -  0\n",
            "0  -  0.6931471805599453\n",
            "0.6931471805599453  -  0\n",
            "0  -  0.6931471805599453\n",
            "0.6931471805599453  -  0\n",
            "0.6931471805599453  -  1.0986122886681096\n",
            "0.6931471805599453  -  1.3862943611198906\n",
            "0.6931471805599453  -  1.3862943611198906\n",
            "0.6931471805599453  -  1.0986122886681096\n",
            "0.6931471805599453  -  1.0986122886681096\n",
            "0.6931471805599453  -  1.0986122886681096\n",
            "0.6931471805599453  -  1.0986122886681096\n",
            "0.6931471805599453  -  1.0986122886681096\n",
            "0.6931471805599453  -  1.0986122886681096\n",
            "0.6931471805599453  -  1.0986122886681096\n",
            "0.6931471805599453  -  1.0986122886681096\n",
            "1.0986122886681096  -  0.6931471805599453\n",
            "1.0986122886681096  -  1.3862943611198906\n",
            "0.6931471805599453  -  1.0986122886681096\n",
            "0.6931471805599453  -  1.3862943611198906\n",
            "0.6931471805599453  -  1.0986122886681096\n",
            "0.6931471805599453  -  1.0986122886681096\n",
            "0.6931471805599453  -  1.0986122886681096\n",
            "0  -  0.6931471805599453\n",
            "0.6931471805599453  -  0\n",
            "0.6931471805599453  -  0\n",
            "0  -  0.6931471805599453\n",
            "0  -  0.6931471805599453\n",
            "0.6931471805599453  -  0\n",
            "0.6931471805599453  -  0\n",
            "0.6931471805599453  -  1.0986122886681096\n",
            "0.6931471805599453  -  1.0986122886681096\n",
            "0  -  0.6931471805599453\n",
            "0  -  0.6931471805599453\n"
          ],
          "name": "stdout"
        },
        {
          "output_type": "execute_result",
          "data": {
            "text/plain": [
              "41"
            ]
          },
          "metadata": {
            "tags": []
          },
          "execution_count": 152
        }
      ]
    },
    {
      "cell_type": "code",
      "metadata": {
        "id": "HktwFLx9M3B5"
      },
      "source": [
        "# printOut('Network/Data/Centroid1/entNodesBFS1', ent_nodes)"
      ],
      "execution_count": 127,
      "outputs": []
    }
  ]
}