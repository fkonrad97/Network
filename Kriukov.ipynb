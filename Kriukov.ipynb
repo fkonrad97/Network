{
  "nbformat": 4,
  "nbformat_minor": 0,
  "metadata": {
    "colab": {
      "name": "Kriukov.ipynb",
      "provenance": [],
      "collapsed_sections": [],
      "authorship_tag": "ABX9TyMVU0uwkjGiM3EJHcL5nKwB",
      "include_colab_link": true
    },
    "kernelspec": {
      "name": "python3",
      "display_name": "Python 3"
    },
    "language_info": {
      "name": "python"
    }
  },
  "cells": [
    {
      "cell_type": "markdown",
      "metadata": {
        "id": "view-in-github",
        "colab_type": "text"
      },
      "source": [
        "<a href=\"https://colab.research.google.com/github/fkonrad97/Network/blob/main/Kriukov.ipynb\" target=\"_parent\"><img src=\"https://colab.research.google.com/assets/colab-badge.svg\" alt=\"Open In Colab\"/></a>"
      ]
    },
    {
      "cell_type": "code",
      "metadata": {
        "id": "0XPQH1lYBS_B"
      },
      "source": [
        "import random\n",
        "import math\n",
        "import numpy as np\n",
        "import random\n",
        "import matplotlib.pyplot as plt"
      ],
      "execution_count": 1,
      "outputs": []
    },
    {
      "cell_type": "code",
      "metadata": {
        "id": "k_hmtDacIgt7"
      },
      "source": [
        "# https://meyavuz.wordpress.com/2018/11/15/generate-uniform-random-points-within-a-circle/\n",
        "\n",
        "class Network:\n",
        "    def __init__(self, radius):\n",
        "      self.radius = radius * math.sqrt(random.random())\n",
        "\n",
        "    def UniformRandomPointInCircle():\n",
        "      theta = 2* math.pi * random.random()\n",
        "      print(self.radius)\n",
        "      return self.radius * math.cos(theta), self.radius * math.sin(theta)\n",
        "\n",
        "    def ReplicateNTimes(func, rad, xc, yc, Ntrials=1000):\n",
        "      xpoints, ypoints =  [], []\n",
        "      for i in range(Ntrials):\n",
        "          xp, yp = func(rad, xc, yc)\n",
        "          xpoints.append(xp)\n",
        "          ypoints.append(yp)\n",
        " \n",
        "      dist = (xpoints, ypoints, rad, xc, yc)\n",
        "      return dist"
      ],
      "execution_count": 28,
      "outputs": []
    },
    {
      "cell_type": "code",
      "metadata": {
        "id": "woXuCNOoidhi",
        "outputId": "0274163b-666e-4366-f79c-f13da2591400",
        "colab": {
          "base_uri": "https://localhost:8080/",
          "height": 204
        }
      },
      "source": [
        "network = Network(1)\n",
        "\n",
        "network.UniformRandomPointInCircle()"
      ],
      "execution_count": 29,
      "outputs": [
        {
          "output_type": "error",
          "ename": "TypeError",
          "evalue": "ignored",
          "traceback": [
            "\u001b[0;31m---------------------------------------------------------------------------\u001b[0m",
            "\u001b[0;31mTypeError\u001b[0m                                 Traceback (most recent call last)",
            "\u001b[0;32m<ipython-input-29-14fe1139ad26>\u001b[0m in \u001b[0;36m<module>\u001b[0;34m()\u001b[0m\n\u001b[1;32m      1\u001b[0m \u001b[0mnetwork\u001b[0m \u001b[0;34m=\u001b[0m \u001b[0mNetwork\u001b[0m\u001b[0;34m(\u001b[0m\u001b[0;36m1\u001b[0m\u001b[0;34m)\u001b[0m\u001b[0;34m\u001b[0m\u001b[0;34m\u001b[0m\u001b[0m\n\u001b[1;32m      2\u001b[0m \u001b[0;34m\u001b[0m\u001b[0m\n\u001b[0;32m----> 3\u001b[0;31m \u001b[0mnetwork\u001b[0m\u001b[0;34m.\u001b[0m\u001b[0mUniformRandomPointInCircle\u001b[0m\u001b[0;34m(\u001b[0m\u001b[0;34m)\u001b[0m\u001b[0;34m\u001b[0m\u001b[0;34m\u001b[0m\u001b[0m\n\u001b[0m",
            "\u001b[0;31mTypeError\u001b[0m: UniformRandomPointInCircle() takes 0 positional arguments but 1 was given"
          ]
        }
      ]
    },
    {
      "cell_type": "code",
      "metadata": {
        "id": "h6nVijeZiv73"
      },
      "source": [
        ""
      ],
      "execution_count": null,
      "outputs": []
    }
  ]
}